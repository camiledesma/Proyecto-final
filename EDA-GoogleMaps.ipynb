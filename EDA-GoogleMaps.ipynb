{
 "cells": [
  {
   "cell_type": "markdown",
   "metadata": {},
   "source": [
    "Este notebook tiene la finalidad de realizar la carga, transformación y un posterior análisis (ETL + EDA) de los datasets del sitio Google Maps."
   ]
  },
  {
   "cell_type": "code",
   "execution_count": 2,
   "metadata": {},
   "outputs": [],
   "source": [
    "# Importamos las librerias a utilizar\n",
    "import pandas as pd\n",
    "import numpy as np\n",
    "import os"
   ]
  },
  {
   "cell_type": "markdown",
   "metadata": {},
   "source": [
    "review-estados"
   ]
  },
  {
   "cell_type": "code",
   "execution_count": 6,
   "metadata": {},
   "outputs": [
    {
     "name": "stdout",
     "output_type": "stream",
     "text": [
      "        user_id                    name           time  rating  text  pics  \\\n",
      "0  1.116430e+20  Chris and Shea Tolbert  1542773927242       5  None  None   \n",
      "1  1.179291e+20            clint walker  1549501934566       3  None  None   \n",
      "2  1.130570e+20                Beth Box  1545440036434       1  None  None   \n",
      "3  1.051583e+20            Todd Beasley  1530583141411       5  None  None   \n",
      "4  1.139799e+20           brandi hunter  1483573068099       4  None  None   \n",
      "\n",
      "   resp                                gmap_id  \n",
      "0  None  0x88882a58884a0507:0x3bdeae3983aec4dc  \n",
      "1  None  0x88882a58884a0507:0x3bdeae3983aec4dc  \n",
      "2  None  0x88882a58884a0507:0x3bdeae3983aec4dc  \n",
      "3  None  0x88882a58884a0507:0x3bdeae3983aec4dc  \n",
      "4  None  0x88882a58884a0507:0x3bdeae3983aec4dc  \n"
     ]
    },
    {
     "name": "stderr",
     "output_type": "stream",
     "text": [
      "c:\\Users\\Mauricio Figueroa\\.virtualenvs\\Python-env--sma9hmZ\\Lib\\site-packages\\pandas\\core\\dtypes\\astype.py:189: RuntimeWarning: invalid value encountered in cast\n",
      "  return values.astype(dtype, copy=copy)\n"
     ]
    }
   ],
   "source": [
    "# Lee el archivo JSON y carga los datos en un DataFrame de pandas\n",
    "df = pd.read_json(\"Datasets/Google Maps/review-estados/review-Alabama/11.json\", lines = True)\n",
    "\n",
    "# Muestra las primeras filas del DataFrame para verificar que se haya cargado correctamente\n",
    "print(df.head())"
   ]
  },
  {
   "cell_type": "code",
   "execution_count": 7,
   "metadata": {},
   "outputs": [
    {
     "data": {
      "text/plain": [
       "150000"
      ]
     },
     "execution_count": 7,
     "metadata": {},
     "output_type": "execute_result"
    }
   ],
   "source": [
    "# Cada archivo tiene aproximadamente 150 mil registros\n",
    "len(df)"
   ]
  },
  {
   "cell_type": "code",
   "execution_count": 23,
   "metadata": {},
   "outputs": [
    {
     "data": {
      "text/plain": [
       "Index(['user_id', 'name', 'time', 'rating', 'text', 'pics', 'resp', 'gmap_id'], dtype='object')"
      ]
     },
     "execution_count": 23,
     "metadata": {},
     "output_type": "execute_result"
    }
   ],
   "source": [
    "# La información de cada review esta contenida en las siguientes columnas\n",
    "df.columns"
   ]
  },
  {
   "cell_type": "code",
   "execution_count": 30,
   "metadata": {},
   "outputs": [
    {
     "data": {
      "text/html": [
       "<div>\n",
       "<style scoped>\n",
       "    .dataframe tbody tr th:only-of-type {\n",
       "        vertical-align: middle;\n",
       "    }\n",
       "\n",
       "    .dataframe tbody tr th {\n",
       "        vertical-align: top;\n",
       "    }\n",
       "\n",
       "    .dataframe thead th {\n",
       "        text-align: right;\n",
       "    }\n",
       "</style>\n",
       "<table border=\"1\" class=\"dataframe\">\n",
       "  <thead>\n",
       "    <tr style=\"text-align: right;\">\n",
       "      <th></th>\n",
       "      <th>user_id</th>\n",
       "      <th>name</th>\n",
       "      <th>time</th>\n",
       "      <th>rating</th>\n",
       "      <th>text</th>\n",
       "      <th>pics</th>\n",
       "      <th>resp</th>\n",
       "      <th>gmap_id</th>\n",
       "    </tr>\n",
       "  </thead>\n",
       "  <tbody>\n",
       "    <tr>\n",
       "      <th>60</th>\n",
       "      <td>1.019555e+20</td>\n",
       "      <td>MrNiceGuy420</td>\n",
       "      <td>1620252981528</td>\n",
       "      <td>5</td>\n",
       "      <td>It's quiet , cameras everywhere and a hardee's...</td>\n",
       "      <td>None</td>\n",
       "      <td>{'time': 1620253626918, 'text': 'Thank you for...</td>\n",
       "      <td>0x88882af73c1dd91f:0x399a5e0c64165330</td>\n",
       "    </tr>\n",
       "    <tr>\n",
       "      <th>73</th>\n",
       "      <td>1.061407e+20</td>\n",
       "      <td>Kenneth Smith</td>\n",
       "      <td>1573595680762</td>\n",
       "      <td>5</td>\n",
       "      <td>Awesome and safe place to do your laundry.clea...</td>\n",
       "      <td>None</td>\n",
       "      <td>{'time': 1573836762445, 'text': 'Thank you! We...</td>\n",
       "      <td>0x88882af73c1dd91f:0x399a5e0c64165330</td>\n",
       "    </tr>\n",
       "    <tr>\n",
       "      <th>77</th>\n",
       "      <td>1.183360e+20</td>\n",
       "      <td>Brandy Gipson</td>\n",
       "      <td>1576542079720</td>\n",
       "      <td>5</td>\n",
       "      <td>Its very clean and the washing machines and dr...</td>\n",
       "      <td>None</td>\n",
       "      <td>{'time': 1576608216452, 'text': 'Thank you Bra...</td>\n",
       "      <td>0x88882af73c1dd91f:0x399a5e0c64165330</td>\n",
       "    </tr>\n",
       "    <tr>\n",
       "      <th>97</th>\n",
       "      <td>1.107800e+20</td>\n",
       "      <td>Damien Long</td>\n",
       "      <td>1617727974641</td>\n",
       "      <td>4</td>\n",
       "      <td>👍🏼</td>\n",
       "      <td>None</td>\n",
       "      <td>{'time': 1617732842952, 'text': 'Thank you for...</td>\n",
       "      <td>0x88882af73c1dd91f:0x399a5e0c64165330</td>\n",
       "    </tr>\n",
       "    <tr>\n",
       "      <th>103</th>\n",
       "      <td>1.145796e+20</td>\n",
       "      <td>Kelly Ballam</td>\n",
       "      <td>1616568755311</td>\n",
       "      <td>5</td>\n",
       "      <td>None</td>\n",
       "      <td>None</td>\n",
       "      <td>{'time': 1617732881857, 'text': 'Thank you for...</td>\n",
       "      <td>0x88882af73c1dd91f:0x399a5e0c64165330</td>\n",
       "    </tr>\n",
       "    <tr>\n",
       "      <th>...</th>\n",
       "      <td>...</td>\n",
       "      <td>...</td>\n",
       "      <td>...</td>\n",
       "      <td>...</td>\n",
       "      <td>...</td>\n",
       "      <td>...</td>\n",
       "      <td>...</td>\n",
       "      <td>...</td>\n",
       "    </tr>\n",
       "    <tr>\n",
       "      <th>149919</th>\n",
       "      <td>1.086057e+20</td>\n",
       "      <td>Samantha Vines</td>\n",
       "      <td>1556313173819</td>\n",
       "      <td>5</td>\n",
       "      <td>None</td>\n",
       "      <td>None</td>\n",
       "      <td>{'time': 1556826886268, 'text': 'Thanks so muc...</td>\n",
       "      <td>0x8889cbb390b6d7ab:0x62b42d79d9d55109</td>\n",
       "    </tr>\n",
       "    <tr>\n",
       "      <th>149920</th>\n",
       "      <td>1.046784e+20</td>\n",
       "      <td>Carolyn Pearl</td>\n",
       "      <td>1544271470421</td>\n",
       "      <td>5</td>\n",
       "      <td>None</td>\n",
       "      <td>None</td>\n",
       "      <td>{'time': 1544480389291, 'text': 'Thanks Caroly...</td>\n",
       "      <td>0x8889cbb390b6d7ab:0x62b42d79d9d55109</td>\n",
       "    </tr>\n",
       "    <tr>\n",
       "      <th>149921</th>\n",
       "      <td>1.005816e+20</td>\n",
       "      <td>Madison Espy</td>\n",
       "      <td>1527015204203</td>\n",
       "      <td>5</td>\n",
       "      <td>None</td>\n",
       "      <td>None</td>\n",
       "      <td>{'time': 1527106474830, 'text': 'Thanks-a-mill...</td>\n",
       "      <td>0x8889cbb390b6d7ab:0x62b42d79d9d55109</td>\n",
       "    </tr>\n",
       "    <tr>\n",
       "      <th>149926</th>\n",
       "      <td>1.145077e+20</td>\n",
       "      <td>Dale Blakely</td>\n",
       "      <td>1562189862455</td>\n",
       "      <td>5</td>\n",
       "      <td>None</td>\n",
       "      <td>None</td>\n",
       "      <td>{'time': 1563993083330, 'text': 'Thanks so muc...</td>\n",
       "      <td>0x8889cbb390b6d7ab:0x62b42d79d9d55109</td>\n",
       "    </tr>\n",
       "    <tr>\n",
       "      <th>149927</th>\n",
       "      <td>1.058842e+20</td>\n",
       "      <td>Whitney Partain</td>\n",
       "      <td>1560522035881</td>\n",
       "      <td>1</td>\n",
       "      <td>None</td>\n",
       "      <td>None</td>\n",
       "      <td>{'time': 1560539621232, 'text': 'Hi Whitney, w...</td>\n",
       "      <td>0x8889cbb390b6d7ab:0x62b42d79d9d55109</td>\n",
       "    </tr>\n",
       "  </tbody>\n",
       "</table>\n",
       "<p>14277 rows × 8 columns</p>\n",
       "</div>"
      ],
      "text/plain": [
       "             user_id             name           time  rating  \\\n",
       "60      1.019555e+20     MrNiceGuy420  1620252981528       5   \n",
       "73      1.061407e+20    Kenneth Smith  1573595680762       5   \n",
       "77      1.183360e+20    Brandy Gipson  1576542079720       5   \n",
       "97      1.107800e+20      Damien Long  1617727974641       4   \n",
       "103     1.145796e+20     Kelly Ballam  1616568755311       5   \n",
       "...              ...              ...            ...     ...   \n",
       "149919  1.086057e+20   Samantha Vines  1556313173819       5   \n",
       "149920  1.046784e+20    Carolyn Pearl  1544271470421       5   \n",
       "149921  1.005816e+20     Madison Espy  1527015204203       5   \n",
       "149926  1.145077e+20     Dale Blakely  1562189862455       5   \n",
       "149927  1.058842e+20  Whitney Partain  1560522035881       1   \n",
       "\n",
       "                                                     text  pics  \\\n",
       "60      It's quiet , cameras everywhere and a hardee's...  None   \n",
       "73      Awesome and safe place to do your laundry.clea...  None   \n",
       "77      Its very clean and the washing machines and dr...  None   \n",
       "97                                                     👍🏼  None   \n",
       "103                                                  None  None   \n",
       "...                                                   ...   ...   \n",
       "149919                                               None  None   \n",
       "149920                                               None  None   \n",
       "149921                                               None  None   \n",
       "149926                                               None  None   \n",
       "149927                                               None  None   \n",
       "\n",
       "                                                     resp  \\\n",
       "60      {'time': 1620253626918, 'text': 'Thank you for...   \n",
       "73      {'time': 1573836762445, 'text': 'Thank you! We...   \n",
       "77      {'time': 1576608216452, 'text': 'Thank you Bra...   \n",
       "97      {'time': 1617732842952, 'text': 'Thank you for...   \n",
       "103     {'time': 1617732881857, 'text': 'Thank you for...   \n",
       "...                                                   ...   \n",
       "149919  {'time': 1556826886268, 'text': 'Thanks so muc...   \n",
       "149920  {'time': 1544480389291, 'text': 'Thanks Caroly...   \n",
       "149921  {'time': 1527106474830, 'text': 'Thanks-a-mill...   \n",
       "149926  {'time': 1563993083330, 'text': 'Thanks so muc...   \n",
       "149927  {'time': 1560539621232, 'text': 'Hi Whitney, w...   \n",
       "\n",
       "                                      gmap_id  \n",
       "60      0x88882af73c1dd91f:0x399a5e0c64165330  \n",
       "73      0x88882af73c1dd91f:0x399a5e0c64165330  \n",
       "77      0x88882af73c1dd91f:0x399a5e0c64165330  \n",
       "97      0x88882af73c1dd91f:0x399a5e0c64165330  \n",
       "103     0x88882af73c1dd91f:0x399a5e0c64165330  \n",
       "...                                       ...  \n",
       "149919  0x8889cbb390b6d7ab:0x62b42d79d9d55109  \n",
       "149920  0x8889cbb390b6d7ab:0x62b42d79d9d55109  \n",
       "149921  0x8889cbb390b6d7ab:0x62b42d79d9d55109  \n",
       "149926  0x8889cbb390b6d7ab:0x62b42d79d9d55109  \n",
       "149927  0x8889cbb390b6d7ab:0x62b42d79d9d55109  \n",
       "\n",
       "[14277 rows x 8 columns]"
      ]
     },
     "execution_count": 30,
     "metadata": {},
     "output_type": "execute_result"
    }
   ],
   "source": [
    "# Vemos que hay algunos registros (pocos) donde el comercio hace una devolución. Consideramos importante esta devolución\n",
    "df[~df[\"resp\"].isna()]"
   ]
  },
  {
   "cell_type": "markdown",
   "metadata": {},
   "source": [
    "Hacemos una función genérica para recorrer todos los archivos de cada estado y formar un solo DataFrame con la info relevante"
   ]
  },
  {
   "cell_type": "code",
   "execution_count": 8,
   "metadata": {},
   "outputs": [],
   "source": [
    "def cargar_archivos_json(ruta_base, ruta_destino):\n",
    "\n",
    "    # Diccionario para llevar el conteo de reviews nulas (review o devolución) por estado\n",
    "    conteo_nulos = {}\n",
    "\n",
    "    # Recorre todas las carpetas dentro de la ruta_base\n",
    "    for estado_folder in os.listdir(ruta_base):\n",
    "\n",
    "        # Lista para almacenar los df que corresponden a cada json\n",
    "        lista_dataframes = []\n",
    "\n",
    "        estado_path = os.path.join(ruta_base, estado_folder)\n",
    "\n",
    "        # Variable para guardar el nombre del estado\n",
    "        estado_string = estado_folder.replace(\"review-\", \"\")\n",
    "        \n",
    "        # Inicializa el conteo de nulos para el estado actual\n",
    "        conteo_nulos[estado_string] = 0\n",
    "\n",
    "        # Verifica si es una carpeta\n",
    "        if os.path.isdir(estado_path):\n",
    "            # Recorre todos los archivos JSON dentro de la carpeta del estado\n",
    "            for json_file in os.listdir(estado_path):\n",
    "                if json_file.endswith('.json'):\n",
    "                    json_path = os.path.join(estado_path, json_file)\n",
    "\n",
    "                    # Lee el archivo JSON y carga los datos en un DataFrame\n",
    "                    df = pd.read_json(json_path, lines=True)\n",
    "\n",
    "                    # Incrementa el conteo de nulos si \"text\" o \"resp\" son NaN\n",
    "                    conteo_nulos[estado_string] += df[[\"text\", \"resp\"]].isna().all(axis=1).sum()\n",
    "\n",
    "                    # Limpiamos los nan en la columna de reviews en caso de que la review o la respuesta sean NaN\n",
    "                    df = df.dropna(subset = [\"text\", \"resp\"], how = \"all\")\n",
    "\n",
    "                    # Dejamos las columnas que nos interesan\n",
    "                    df = df[[\"rating\", \"text\", \"resp\", \"gmap_id\"]]\n",
    "\n",
    "                    # Agrega el DataFrame a la lista\n",
    "                    lista_dataframes.append(df)\n",
    "\n",
    "        # Concatena los dataFrames en uno solo\n",
    "        review_estado = pd.concat(lista_dataframes, ignore_index = True)\n",
    "\n",
    "        # Exporta reviews_estado a un archivo CSV\n",
    "        csv_path = os.path.join(ruta_destino, f\"review-{estado_string}.csv\")\n",
    "        review_estado.to_csv(csv_path, index=False)\n",
    "\n",
    "    return conteo_nulos"
   ]
  },
  {
   "cell_type": "code",
   "execution_count": null,
   "metadata": {},
   "outputs": [],
   "source": [
    "# Ruta base donde se encuentran las carpetas \"review-estados\"\n",
    "ruta_base = \"Datasets/Google Maps/review-estados\"\n",
    "ruta_destino = \"Datasets/Google Maps/review-estados-clean\"\n",
    "\n",
    "# Llama a la función y almacena el conteo de nulos\n",
    "conteo_nulos = cargar_archivos_json(ruta_base, ruta_destino)"
   ]
  },
  {
   "cell_type": "code",
   "execution_count": 11,
   "metadata": {},
   "outputs": [
    {
     "name": "stdout",
     "output_type": "stream",
     "text": [
      "Estado: Alabama, Registros Nulos: 760061\n",
      "Estado: Alaska, Registros Nulos: 208566\n",
      "Estado: Arizona, Registros Nulos: 632210\n",
      "Estado: Arkansas, Registros Nulos: 1011648\n",
      "Estado: California, Registros Nulos: 1093815\n",
      "Estado: Colorado, Registros Nulos: 807096\n",
      "Estado: Connecticut, Registros Nulos: 187694\n",
      "Estado: Delaware, Registros Nulos: 373253\n",
      "Estado: District_of_Columbia, Registros Nulos: 255029\n",
      "Estado: Florida, Registros Nulos: 957433\n",
      "Estado: Georgia, Registros Nulos: 715159\n",
      "Estado: Hawaii, Registros Nulos: 615152\n",
      "Estado: Idaho, Registros Nulos: 795796\n",
      "Estado: Illinois, Registros Nulos: 829685\n",
      "Estado: Indiana, Registros Nulos: 912398\n",
      "Estado: Iowa, Registros Nulos: 1190817\n",
      "Estado: Kansas, Registros Nulos: 813840\n",
      "Estado: Kentucky, Registros Nulos: 686014\n",
      "Estado: Louisiana, Registros Nulos: 651816\n",
      "Estado: Maine, Registros Nulos: 476105\n",
      "Estado: Maryland, Registros Nulos: 972803\n",
      "Estado: Massachusetts, Registros Nulos: 1052584\n",
      "Estado: Michigan, Registros Nulos: 850459\n",
      "Estado: Minnesota, Registros Nulos: 700329\n",
      "Estado: Mississippi, Registros Nulos: 875121\n",
      "Estado: Missouri, Registros Nulos: 620263\n",
      "Estado: Montana, Registros Nulos: 381024\n",
      "Estado: Nebraska, Registros Nulos: 791702\n",
      "Estado: Nevada, Registros Nulos: 661082\n",
      "Estado: New_Hampshire, Registros Nulos: 538965\n",
      "Estado: New_Jersey, Registros Nulos: 793461\n",
      "Estado: New_Mexico, Registros Nulos: 713228\n",
      "Estado: New_York, Registros Nulos: 1082683\n",
      "Estado: North_Carolina, Registros Nulos: 836990\n",
      "Estado: North_Dakota, Registros Nulos: 242258\n",
      "Estado: Ohio, Registros Nulos: 763846\n",
      "Estado: Oklahoma, Registros Nulos: 642508\n",
      "Estado: Oregon, Registros Nulos: 815249\n",
      "Estado: Pennsylvania, Registros Nulos: 945666\n",
      "Estado: Rhode_Island, Registros Nulos: 398023\n",
      "Estado: South_Carolina, Registros Nulos: 817591\n",
      "Estado: South_Dakota, Registros Nulos: 292088\n",
      "Estado: Tennessee, Registros Nulos: 696385\n",
      "Estado: Texas, Registros Nulos: 813150\n",
      "Estado: Utah, Registros Nulos: 496545\n",
      "Estado: Vermont, Registros Nulos: 137301\n",
      "Estado: Virginia, Registros Nulos: 642853\n",
      "Estado: Washington, Registros Nulos: 728074\n",
      "Estado: West_Virginia, Registros Nulos: 484476\n",
      "Estado: Wisconsin, Registros Nulos: 676393\n",
      "Estado: Wyoming, Registros Nulos: 176582\n"
     ]
    }
   ],
   "source": [
    "# Muestra el conteo de nulos por estado, si las columnas text y resp eran nulas\n",
    "for estado, conteo in conteo_nulos.items():\n",
    "    print(f\"Estado: {estado}, Registros Nulos: {conteo}\")"
   ]
  },
  {
   "cell_type": "code",
   "execution_count": 18,
   "metadata": {},
   "outputs": [
    {
     "name": "stdout",
     "output_type": "stream",
     "text": [
      "Registros Nulos total: 34613269\n"
     ]
    }
   ],
   "source": [
    "# Registros nulos total\n",
    "print(f\"Registros Nulos total: {sum(conteo_nulos.values())}\")"
   ]
  },
  {
   "cell_type": "markdown",
   "metadata": {},
   "source": [
    "metadata-sitios"
   ]
  },
  {
   "cell_type": "code",
   "execution_count": 4,
   "metadata": {},
   "outputs": [],
   "source": [
    "# Lee el archivo JSON y carga los datos en un DataFrame de pandas\n",
    "df = pd.read_json(\"Datasets/Google Maps/metadata-sitios/1.json\", lines = True)"
   ]
  },
  {
   "cell_type": "code",
   "execution_count": 6,
   "metadata": {},
   "outputs": [
    {
     "data": {
      "text/html": [
       "<div>\n",
       "<style scoped>\n",
       "    .dataframe tbody tr th:only-of-type {\n",
       "        vertical-align: middle;\n",
       "    }\n",
       "\n",
       "    .dataframe tbody tr th {\n",
       "        vertical-align: top;\n",
       "    }\n",
       "\n",
       "    .dataframe thead th {\n",
       "        text-align: right;\n",
       "    }\n",
       "</style>\n",
       "<table border=\"1\" class=\"dataframe\">\n",
       "  <thead>\n",
       "    <tr style=\"text-align: right;\">\n",
       "      <th></th>\n",
       "      <th>name</th>\n",
       "      <th>address</th>\n",
       "      <th>gmap_id</th>\n",
       "      <th>description</th>\n",
       "      <th>latitude</th>\n",
       "      <th>longitude</th>\n",
       "      <th>category</th>\n",
       "      <th>avg_rating</th>\n",
       "      <th>num_of_reviews</th>\n",
       "      <th>price</th>\n",
       "      <th>hours</th>\n",
       "      <th>MISC</th>\n",
       "      <th>state</th>\n",
       "      <th>relative_results</th>\n",
       "      <th>url</th>\n",
       "    </tr>\n",
       "  </thead>\n",
       "  <tbody>\n",
       "    <tr>\n",
       "      <th>0</th>\n",
       "      <td>Porter Pharmacy</td>\n",
       "      <td>Porter Pharmacy, 129 N Second St, Cochran, GA ...</td>\n",
       "      <td>0x88f16e41928ff687:0x883dad4fd048e8f8</td>\n",
       "      <td>None</td>\n",
       "      <td>32.388300</td>\n",
       "      <td>-83.35710</td>\n",
       "      <td>[Pharmacy]</td>\n",
       "      <td>4.9</td>\n",
       "      <td>16</td>\n",
       "      <td>None</td>\n",
       "      <td>[[Friday, 8AM–6PM], [Saturday, 8AM–12PM], [Sun...</td>\n",
       "      <td>{'Service options': ['In-store shopping', 'Sam...</td>\n",
       "      <td>Open ⋅ Closes 6PM</td>\n",
       "      <td>[0x88f16e41929435cf:0x5b2532a2885e9ef6, 0x88f1...</td>\n",
       "      <td>https://www.google.com/maps/place//data=!4m2!3...</td>\n",
       "    </tr>\n",
       "    <tr>\n",
       "      <th>1</th>\n",
       "      <td>City Textile</td>\n",
       "      <td>City Textile, 3001 E Pico Blvd, Los Angeles, C...</td>\n",
       "      <td>0x80c2c98c0e3c16fd:0x29ec8a728764fdf9</td>\n",
       "      <td>None</td>\n",
       "      <td>34.018891</td>\n",
       "      <td>-118.21529</td>\n",
       "      <td>[Textile exporter]</td>\n",
       "      <td>4.5</td>\n",
       "      <td>6</td>\n",
       "      <td>None</td>\n",
       "      <td>None</td>\n",
       "      <td>None</td>\n",
       "      <td>Open now</td>\n",
       "      <td>[0x80c2c624136ea88b:0xb0315367ed448771, 0x80c2...</td>\n",
       "      <td>https://www.google.com/maps/place//data=!4m2!3...</td>\n",
       "    </tr>\n",
       "  </tbody>\n",
       "</table>\n",
       "</div>"
      ],
      "text/plain": [
       "              name                                            address  \\\n",
       "0  Porter Pharmacy  Porter Pharmacy, 129 N Second St, Cochran, GA ...   \n",
       "1     City Textile  City Textile, 3001 E Pico Blvd, Los Angeles, C...   \n",
       "\n",
       "                                 gmap_id description   latitude  longitude  \\\n",
       "0  0x88f16e41928ff687:0x883dad4fd048e8f8        None  32.388300  -83.35710   \n",
       "1  0x80c2c98c0e3c16fd:0x29ec8a728764fdf9        None  34.018891 -118.21529   \n",
       "\n",
       "             category  avg_rating  num_of_reviews price  \\\n",
       "0          [Pharmacy]         4.9              16  None   \n",
       "1  [Textile exporter]         4.5               6  None   \n",
       "\n",
       "                                               hours  \\\n",
       "0  [[Friday, 8AM–6PM], [Saturday, 8AM–12PM], [Sun...   \n",
       "1                                               None   \n",
       "\n",
       "                                                MISC              state  \\\n",
       "0  {'Service options': ['In-store shopping', 'Sam...  Open ⋅ Closes 6PM   \n",
       "1                                               None           Open now   \n",
       "\n",
       "                                    relative_results  \\\n",
       "0  [0x88f16e41929435cf:0x5b2532a2885e9ef6, 0x88f1...   \n",
       "1  [0x80c2c624136ea88b:0xb0315367ed448771, 0x80c2...   \n",
       "\n",
       "                                                 url  \n",
       "0  https://www.google.com/maps/place//data=!4m2!3...  \n",
       "1  https://www.google.com/maps/place//data=!4m2!3...  "
      ]
     },
     "execution_count": 6,
     "metadata": {},
     "output_type": "execute_result"
    }
   ],
   "source": [
    "df.head(2)"
   ]
  },
  {
   "cell_type": "code",
   "execution_count": 8,
   "metadata": {},
   "outputs": [
    {
     "data": {
      "text/plain": [
       "Index(['name', 'address', 'gmap_id', 'description', 'latitude', 'longitude',\n",
       "       'category', 'avg_rating', 'num_of_reviews', 'price', 'hours', 'MISC',\n",
       "       'state', 'relative_results', 'url'],\n",
       "      dtype='object')"
      ]
     },
     "execution_count": 8,
     "metadata": {},
     "output_type": "execute_result"
    }
   ],
   "source": [
    "# Resumen de las features disponibles\n",
    "df.columns"
   ]
  },
  {
   "cell_type": "code",
   "execution_count": 14,
   "metadata": {},
   "outputs": [
    {
     "data": {
      "text/plain": [
       "(275001, 15)"
      ]
     },
     "execution_count": 14,
     "metadata": {},
     "output_type": "execute_result"
    }
   ],
   "source": [
    "# Tamaño del dataframe\n",
    "df.shape"
   ]
  },
  {
   "cell_type": "code",
   "execution_count": 13,
   "metadata": {},
   "outputs": [
    {
     "data": {
      "text/plain": [
       "name                     7\n",
       "address              10062\n",
       "gmap_id                  0\n",
       "description         261846\n",
       "latitude                 0\n",
       "longitude                0\n",
       "category              2261\n",
       "avg_rating               0\n",
       "num_of_reviews           0\n",
       "price               261551\n",
       "hours                82553\n",
       "MISC                 80029\n",
       "state                79478\n",
       "relative_results     36230\n",
       "url                      0\n",
       "dtype: int64"
      ]
     },
     "execution_count": 13,
     "metadata": {},
     "output_type": "execute_result"
    }
   ],
   "source": [
    "# Hay valores nulos?\n",
    "df.isna().sum()"
   ]
  },
  {
   "cell_type": "markdown",
   "metadata": {},
   "source": [
    "Hay features que en su mayoría tienen NaN por lo que no aportan a una estadística o sistema de recomendación (\"description\" y \"price\"). Vamos a analizar las demás."
   ]
  },
  {
   "cell_type": "code",
   "execution_count": 12,
   "metadata": {},
   "outputs": [
    {
     "data": {
      "text/plain": [
       "array(['Porter Pharmacy, 129 N Second St, Cochran, GA 31014',\n",
       "       'City Textile, 3001 E Pico Blvd, Los Angeles, CA 90023',\n",
       "       'San Soo Dang, 761 S Vermont Ave, Los Angeles, CA 90005',\n",
       "       'Nova Fabrics, 2200 E 11th St, Los Angeles, CA 90021',\n",
       "       'Nobel Textile Co, 719 E 9th St, Los Angeles, CA 90021'],\n",
       "      dtype=object)"
      ]
     },
     "execution_count": 12,
     "metadata": {},
     "output_type": "execute_result"
    }
   ],
   "source": [
    "df.head()[\"address\"].values"
   ]
  },
  {
   "cell_type": "markdown",
   "metadata": {},
   "source": [
    "La columna \"address\" contiene valores separados por coma, vamos a tener que separar la info.\n",
    "Se ve primero el nombre del comercio, luego dirección, ciudad y ZIP Code (state + 5 digitos) "
   ]
  },
  {
   "cell_type": "code",
   "execution_count": 41,
   "metadata": {},
   "outputs": [
    {
     "data": {
      "text/plain": [
       "26573"
      ]
     },
     "execution_count": 41,
     "metadata": {},
     "output_type": "execute_result"
    }
   ],
   "source": [
    "df.astype(str).duplicated().sum()"
   ]
  },
  {
   "cell_type": "markdown",
   "metadata": {},
   "source": [
    "Tenemos 26573 registros duplicados, debemos limpiarlos "
   ]
  },
  {
   "cell_type": "code",
   "execution_count": 22,
   "metadata": {},
   "outputs": [
    {
     "data": {
      "text/plain": [
       "0                                     [Pharmacy]\n",
       "1                             [Textile exporter]\n",
       "2                            [Korean restaurant]\n",
       "3                                 [Fabric store]\n",
       "4                                 [Fabric store]\n",
       "5                                 [Fabric store]\n",
       "6                                   [Restaurant]\n",
       "7      [Nail salon, Waxing hair removal service]\n",
       "8               [Bakery, Health food restaurant]\n",
       "9    [Greeting card shop, Service establishment]\n",
       "Name: category, dtype: object"
      ]
     },
     "execution_count": 22,
     "metadata": {},
     "output_type": "execute_result"
    }
   ],
   "source": [
    "df.head(10)[\"category\"]"
   ]
  },
  {
   "cell_type": "code",
   "execution_count": 21,
   "metadata": {},
   "outputs": [
    {
     "data": {
      "text/plain": [
       "3769"
      ]
     },
     "execution_count": 21,
     "metadata": {},
     "output_type": "execute_result"
    }
   ],
   "source": [
    "df[\"category\"].explode().nunique()"
   ]
  },
  {
   "cell_type": "markdown",
   "metadata": {},
   "source": [
    "La columna categoría es multilabel"
   ]
  },
  {
   "cell_type": "code",
   "execution_count": 15,
   "metadata": {},
   "outputs": [
    {
     "data": {
      "text/plain": [
       "0    Open ⋅ Closes 6PM\n",
       "1             Open now\n",
       "2    Open ⋅ Closes 6PM\n",
       "3    Open ⋅ Closes 5PM\n",
       "4    Open ⋅ Closes 5PM\n",
       "Name: state, dtype: object"
      ]
     },
     "execution_count": 15,
     "metadata": {},
     "output_type": "execute_result"
    }
   ],
   "source": [
    "df.head()[\"state\"]"
   ]
  },
  {
   "cell_type": "markdown",
   "metadata": {},
   "source": [
    "La columna state no nos sirve, es un valor instantaneo sobre si el comercio está abierto o no."
   ]
  },
  {
   "cell_type": "code",
   "execution_count": 25,
   "metadata": {},
   "outputs": [
    {
     "data": {
      "text/plain": [
       "array([list(['0x88f16e41929435cf:0x5b2532a2885e9ef6', '0x88f16c32716531c1:0x5f19bdaa5044e4fa', '0x88f16e6e3f4a21df:0xcf495da9bb4d89ea'])],\n",
       "      dtype=object)"
      ]
     },
     "execution_count": 25,
     "metadata": {},
     "output_type": "execute_result"
    }
   ],
   "source": [
    "df.head(1)[\"relative_results\"].values"
   ]
  },
  {
   "cell_type": "markdown",
   "metadata": {},
   "source": [
    "Queda por ver si los relative results son comercios asociados. En este dataset no lo encontramos, deberíamos unirlos todos"
   ]
  },
  {
   "cell_type": "markdown",
   "metadata": {},
   "source": [
    "Ahora pasamos a hacer una función que procese todos los json de manera automática"
   ]
  },
  {
   "cell_type": "code",
   "execution_count": 1,
   "metadata": {},
   "outputs": [],
   "source": [
    "# Función para ejecutar los cambios vistos y unir los datasets de metadata-sitios\n",
    "\n",
    "def cargar_archivos_json_2(ruta_base):\n",
    "\n",
    "    # Variables para llevar el conteo de registros y nulos\n",
    "\n",
    "    conteo_registros = 0\n",
    "    conteo_duplicados = 0\n",
    "\n",
    "    # Lista para almacenar los df que corresponden a cada json\n",
    "    lista_dataframes = []\n",
    "\n",
    "    # Recorre todas las carpetas dentro de la ruta_base\n",
    "    for json_file in os.listdir(ruta_base):\n",
    "\n",
    "        if json_file.endswith('.json'):\n",
    "            json_path = os.path.join(ruta_base, json_file)\n",
    "\n",
    "            # Lee el archivo JSON y carga los datos en un DataFrame\n",
    "            df = pd.read_json(json_path, lines = True)\n",
    "\n",
    "            # Borramos las columnas \"description\", \"price\" y \"state\"\n",
    "            df = df.drop(columns = [\"description\", \"price\", \"state\"])\n",
    "\n",
    "            # Hacemos el conteo de registros\n",
    "            conteo_registros += df.shape[0]\n",
    "            conteo_duplicados += df.astype(str).duplicated().sum()\n",
    "\n",
    "            # Borramos registros duplicados\n",
    "            df = df.astype(str).drop_duplicates()\n",
    "\n",
    "            # Hacemos la transformación de la columna \"address\"\n",
    "            # Creamos nuevas columnas separando el contenido (la primer columna es el \"name\" del lugar, ya lo tenemos)\n",
    "            df[[\"address\", \"city\", \"state zip\"]] = df[\"address\"].str.split(', ', n = 3, expand=True).iloc[:, 1:]\n",
    "\n",
    "            # Dividimos la columna state zip en dos columnas separando el estado y el código postal\n",
    "            df[[\"state\", \"zip_code\"]] = df[\"state zip\"].str.extract('(.+?)\\s(\\d{5})')\n",
    "\n",
    "            # Eliminamos las columnas innecesarias, incluyendo \"direcciones\" y \"State Zip\"\n",
    "            df = df.drop([\"state zip\"], axis = 1)\n",
    "\n",
    "            # Anexamos los dataframes\n",
    "            lista_dataframes.append(df)\n",
    "\n",
    "    # Concatena los dataFrames en uno solo\n",
    "    metadata_sitios = pd.concat(lista_dataframes, ignore_index = True)\n",
    "\n",
    "    return metadata_sitios, conteo_registros, conteo_duplicados"
   ]
  },
  {
   "cell_type": "code",
   "execution_count": 3,
   "metadata": {},
   "outputs": [],
   "source": [
    "# Ruta base donde se encuentran las carpetas \"review-estados\"\n",
    "ruta_base = \"Datasets/Google Maps/metadata-sitios\"\n",
    "ruta_destino = \"Datasets/Google Maps/metadata-sitios-clean\"\n",
    "\n",
    "# Llama a la función y almacena el conteo de nulos\n",
    "metadata_sitios, conteo_registros, conteo_duplicados = cargar_archivos_json_2(ruta_base)"
   ]
  },
  {
   "cell_type": "code",
   "execution_count": 5,
   "metadata": {},
   "outputs": [
    {
     "data": {
      "text/plain": [
       "(2998438, 15)"
      ]
     },
     "execution_count": 5,
     "metadata": {},
     "output_type": "execute_result"
    }
   ],
   "source": [
    "metadata_sitios.shape"
   ]
  },
  {
   "cell_type": "code",
   "execution_count": 7,
   "metadata": {},
   "outputs": [
    {
     "name": "stdout",
     "output_type": "stream",
     "text": [
      "Registros totales: 3025011\n",
      "Registros duplicados: 26573\n"
     ]
    }
   ],
   "source": [
    "# Registros totales y nulos:\n",
    "print(f\"Registros totales: {conteo_registros}\")\n",
    "print(f\"Registros duplicados: {conteo_duplicados}\")"
   ]
  },
  {
   "cell_type": "code",
   "execution_count": 8,
   "metadata": {},
   "outputs": [
    {
     "data": {
      "text/html": [
       "<div>\n",
       "<style scoped>\n",
       "    .dataframe tbody tr th:only-of-type {\n",
       "        vertical-align: middle;\n",
       "    }\n",
       "\n",
       "    .dataframe tbody tr th {\n",
       "        vertical-align: top;\n",
       "    }\n",
       "\n",
       "    .dataframe thead th {\n",
       "        text-align: right;\n",
       "    }\n",
       "</style>\n",
       "<table border=\"1\" class=\"dataframe\">\n",
       "  <thead>\n",
       "    <tr style=\"text-align: right;\">\n",
       "      <th></th>\n",
       "      <th>name</th>\n",
       "      <th>address</th>\n",
       "      <th>gmap_id</th>\n",
       "      <th>latitude</th>\n",
       "      <th>longitude</th>\n",
       "      <th>category</th>\n",
       "      <th>avg_rating</th>\n",
       "      <th>num_of_reviews</th>\n",
       "      <th>hours</th>\n",
       "      <th>MISC</th>\n",
       "      <th>relative_results</th>\n",
       "      <th>url</th>\n",
       "      <th>city</th>\n",
       "      <th>state</th>\n",
       "      <th>zip code</th>\n",
       "    </tr>\n",
       "  </thead>\n",
       "  <tbody>\n",
       "    <tr>\n",
       "      <th>0</th>\n",
       "      <td>Porter Pharmacy</td>\n",
       "      <td>129 N Second St</td>\n",
       "      <td>0x88f16e41928ff687:0x883dad4fd048e8f8</td>\n",
       "      <td>32.3883</td>\n",
       "      <td>-83.3571</td>\n",
       "      <td>['Pharmacy']</td>\n",
       "      <td>4.9</td>\n",
       "      <td>16</td>\n",
       "      <td>[['Friday', '8AM–6PM'], ['Saturday', '8AM–12PM...</td>\n",
       "      <td>{'Service options': ['In-store shopping', 'Sam...</td>\n",
       "      <td>['0x88f16e41929435cf:0x5b2532a2885e9ef6', '0x8...</td>\n",
       "      <td>https://www.google.com/maps/place//data=!4m2!3...</td>\n",
       "      <td>Cochran</td>\n",
       "      <td>GA</td>\n",
       "      <td>31014</td>\n",
       "    </tr>\n",
       "    <tr>\n",
       "      <th>1</th>\n",
       "      <td>City Textile</td>\n",
       "      <td>3001 E Pico Blvd</td>\n",
       "      <td>0x80c2c98c0e3c16fd:0x29ec8a728764fdf9</td>\n",
       "      <td>34.0188913</td>\n",
       "      <td>-118.2152898</td>\n",
       "      <td>['Textile exporter']</td>\n",
       "      <td>4.5</td>\n",
       "      <td>6</td>\n",
       "      <td>None</td>\n",
       "      <td>None</td>\n",
       "      <td>['0x80c2c624136ea88b:0xb0315367ed448771', '0x8...</td>\n",
       "      <td>https://www.google.com/maps/place//data=!4m2!3...</td>\n",
       "      <td>Los Angeles</td>\n",
       "      <td>CA</td>\n",
       "      <td>90023</td>\n",
       "    </tr>\n",
       "  </tbody>\n",
       "</table>\n",
       "</div>"
      ],
      "text/plain": [
       "              name           address                                gmap_id  \\\n",
       "0  Porter Pharmacy   129 N Second St  0x88f16e41928ff687:0x883dad4fd048e8f8   \n",
       "1     City Textile  3001 E Pico Blvd  0x80c2c98c0e3c16fd:0x29ec8a728764fdf9   \n",
       "\n",
       "     latitude     longitude              category avg_rating num_of_reviews  \\\n",
       "0     32.3883      -83.3571          ['Pharmacy']        4.9             16   \n",
       "1  34.0188913  -118.2152898  ['Textile exporter']        4.5              6   \n",
       "\n",
       "                                               hours  \\\n",
       "0  [['Friday', '8AM–6PM'], ['Saturday', '8AM–12PM...   \n",
       "1                                               None   \n",
       "\n",
       "                                                MISC  \\\n",
       "0  {'Service options': ['In-store shopping', 'Sam...   \n",
       "1                                               None   \n",
       "\n",
       "                                    relative_results  \\\n",
       "0  ['0x88f16e41929435cf:0x5b2532a2885e9ef6', '0x8...   \n",
       "1  ['0x80c2c624136ea88b:0xb0315367ed448771', '0x8...   \n",
       "\n",
       "                                                 url         city state  \\\n",
       "0  https://www.google.com/maps/place//data=!4m2!3...      Cochran    GA   \n",
       "1  https://www.google.com/maps/place//data=!4m2!3...  Los Angeles    CA   \n",
       "\n",
       "  zip code  \n",
       "0    31014  \n",
       "1    90023  "
      ]
     },
     "execution_count": 8,
     "metadata": {},
     "output_type": "execute_result"
    }
   ],
   "source": [
    "# Vemos que el dataset tiene la información relevante y detallada, con la división que necesitabamos.\n",
    "metadata_sitios.head(2)"
   ]
  },
  {
   "cell_type": "code",
   "execution_count": 15,
   "metadata": {},
   "outputs": [
    {
     "data": {
      "text/plain": [
       "CA             269268\n",
       "TX             234739\n",
       "FL             190450\n",
       "NY             145446\n",
       "PA             102802\n",
       "IL              93561\n",
       "OH              90949\n",
       "GA              85448\n",
       "NC              85375\n",
       "MI              81875\n",
       "NJ              68693\n",
       "VA              62106\n",
       "WA              61310\n",
       "TN              57686\n",
       "IN              52987\n",
       "AZ              52740\n",
       "CO              52645\n",
       "MO              51362\n",
       "MA              49277\n",
       "WI              48374\n",
       "MN              43280\n",
       "SC              42906\n",
       "MD              40646\n",
       "OR              39918\n",
       "AL              39866\n",
       "OK              36159\n",
       "LA              34632\n",
       "KY              33604\n",
       "UT              28348\n",
       "CT              27028\n",
       "IA              26852\n",
       "AR              25746\n",
       "KS              24806\n",
       "NV              23676\n",
       "MS              19941\n",
       "NM              17616\n",
       "ID              17518\n",
       "NE              16559\n",
       "ME              13194\n",
       "NH              12989\n",
       "WV              12850\n",
       "MT              11435\n",
       "HI              10129\n",
       "RI               8331\n",
       "DE               7579\n",
       "SD               7560\n",
       "ND               6945\n",
       "AK               6898\n",
       "VT               6396\n",
       "WY               6018\n",
       "DC               5808\n",
       "Houston, TX      2064\n",
       "Name: state, dtype: int64"
      ]
     },
     "execution_count": 15,
     "metadata": {},
     "output_type": "execute_result"
    }
   ],
   "source": [
    "# Cuantós locales corresponden a cada estado?\n",
    "metadata_sitios[\"state\"].value_counts().head(52)"
   ]
  },
  {
   "cell_type": "code",
   "execution_count": 16,
   "metadata": {},
   "outputs": [
    {
     "data": {
      "text/html": [
       "<div>\n",
       "<style scoped>\n",
       "    .dataframe tbody tr th:only-of-type {\n",
       "        vertical-align: middle;\n",
       "    }\n",
       "\n",
       "    .dataframe tbody tr th {\n",
       "        vertical-align: top;\n",
       "    }\n",
       "\n",
       "    .dataframe thead th {\n",
       "        text-align: right;\n",
       "    }\n",
       "</style>\n",
       "<table border=\"1\" class=\"dataframe\">\n",
       "  <thead>\n",
       "    <tr style=\"text-align: right;\">\n",
       "      <th></th>\n",
       "      <th>name</th>\n",
       "      <th>address</th>\n",
       "      <th>gmap_id</th>\n",
       "      <th>latitude</th>\n",
       "      <th>longitude</th>\n",
       "      <th>category</th>\n",
       "      <th>avg_rating</th>\n",
       "      <th>num_of_reviews</th>\n",
       "      <th>hours</th>\n",
       "      <th>MISC</th>\n",
       "      <th>relative_results</th>\n",
       "      <th>url</th>\n",
       "      <th>city</th>\n",
       "      <th>state</th>\n",
       "      <th>zip_code</th>\n",
       "    </tr>\n",
       "  </thead>\n",
       "  <tbody>\n",
       "    <tr>\n",
       "      <th>1262</th>\n",
       "      <td>Beta Repair</td>\n",
       "      <td>We Come To You</td>\n",
       "      <td>0x8640a53845ef421d:0x3b1786d8195d380f</td>\n",
       "      <td>29.852546999999998</td>\n",
       "      <td>-95.189112</td>\n",
       "      <td>['Electronics store']</td>\n",
       "      <td>4.6</td>\n",
       "      <td>8</td>\n",
       "      <td>[['Thursday', '11AM–7PM'], ['Friday', '11AM–7P...</td>\n",
       "      <td>{'Offerings': ['Repair services']}</td>\n",
       "      <td>['0x8640bb9ee367db27:0xc461561f621f1b8', '0x86...</td>\n",
       "      <td>https://www.google.com/maps/place//data=!4m2!3...</td>\n",
       "      <td>2200</td>\n",
       "      <td>Houston, TX</td>\n",
       "      <td>77044</td>\n",
       "    </tr>\n",
       "    <tr>\n",
       "      <th>3506</th>\n",
       "      <td>Patricia Choy, MD</td>\n",
       "      <td>MD</td>\n",
       "      <td>0x86409d0bd8bcaabf:0xd9448bec396ae128</td>\n",
       "      <td>29.5488909</td>\n",
       "      <td>-95.08596229999999</td>\n",
       "      <td>['Obstetrician-gynecologist', \"Women's health ...</td>\n",
       "      <td>3.4</td>\n",
       "      <td>7</td>\n",
       "      <td>[['Wednesday', '8AM–5PM'], ['Thursday', '8AM–5...</td>\n",
       "      <td>{'Service options': ['Online care'], 'Accessib...</td>\n",
       "      <td>['0x86409c8c1a90aa0b:0x9571c96019b4badf', '0x8...</td>\n",
       "      <td>https://www.google.com/maps/place//data=!4m2!3...</td>\n",
       "      <td>2060 Space Park Dr Suite 410</td>\n",
       "      <td>Houston, TX</td>\n",
       "      <td>77058</td>\n",
       "    </tr>\n",
       "    <tr>\n",
       "      <th>4133</th>\n",
       "      <td>Preet BANQUET HALL C-25</td>\n",
       "      <td>14207 Tomball Parkway Hwy249@ Hall-25</td>\n",
       "      <td>0x8640ceea26935963:0x9e753c785d0bbdf8</td>\n",
       "      <td>29.923682999999997</td>\n",
       "      <td>-95.50035969999999</td>\n",
       "      <td>['Banquet hall']</td>\n",
       "      <td>3.4</td>\n",
       "      <td>15</td>\n",
       "      <td>None</td>\n",
       "      <td>{'Service options': ['Delivery'], 'Accessibili...</td>\n",
       "      <td>['0x8640cfab7d1ac04f:0x610698e3f360bbfe', '0x8...</td>\n",
       "      <td>https://www.google.com/maps/place//data=!4m2!3...</td>\n",
       "      <td>Fallbrook Dr</td>\n",
       "      <td>Houston, TX</td>\n",
       "      <td>77086</td>\n",
       "    </tr>\n",
       "    <tr>\n",
       "      <th>6471</th>\n",
       "      <td>The Pearl Dermatology, PLLC</td>\n",
       "      <td>PLLC</td>\n",
       "      <td>0x8640c1a72240d08f:0x905adab96ecc95a1</td>\n",
       "      <td>29.7544425</td>\n",
       "      <td>-95.4534149</td>\n",
       "      <td>['Dermatologist']</td>\n",
       "      <td>5.0</td>\n",
       "      <td>86</td>\n",
       "      <td>[['Wednesday', '8AM–5PM'], ['Thursday', '8AM–5...</td>\n",
       "      <td>{'Accessibility': ['Wheelchair accessible entr...</td>\n",
       "      <td>['0x8640c393878ae88b:0xd6b6655cb494a618', '0x8...</td>\n",
       "      <td>https://www.google.com/maps/place//data=!4m2!3...</td>\n",
       "      <td>550 Post Oak Blvd #550</td>\n",
       "      <td>Houston, TX</td>\n",
       "      <td>77027</td>\n",
       "    </tr>\n",
       "    <tr>\n",
       "      <th>8032</th>\n",
       "      <td>Dentistry of Highland Village of Houston, TX</td>\n",
       "      <td>TX</td>\n",
       "      <td>0x8640c104a081c43d:0xc870b7fb973b390b</td>\n",
       "      <td>29.733991</td>\n",
       "      <td>-95.441096</td>\n",
       "      <td>['Dentist', 'Cosmetic dentist', 'Dental clinic...</td>\n",
       "      <td>4.6</td>\n",
       "      <td>318</td>\n",
       "      <td>[['Wednesday', '7AM–5PM'], ['Thursday', '7AM–5...</td>\n",
       "      <td>{'Accessibility': ['Wheelchair accessible entr...</td>\n",
       "      <td>['0x8640c0fba1490221:0xe0c73e5aaf54e270', '0x8...</td>\n",
       "      <td>https://www.google.com/maps/place//data=!4m2!3...</td>\n",
       "      <td>3651 Weslayan St #208</td>\n",
       "      <td>Houston, TX</td>\n",
       "      <td>77027</td>\n",
       "    </tr>\n",
       "    <tr>\n",
       "      <th>...</th>\n",
       "      <td>...</td>\n",
       "      <td>...</td>\n",
       "      <td>...</td>\n",
       "      <td>...</td>\n",
       "      <td>...</td>\n",
       "      <td>...</td>\n",
       "      <td>...</td>\n",
       "      <td>...</td>\n",
       "      <td>...</td>\n",
       "      <td>...</td>\n",
       "      <td>...</td>\n",
       "      <td>...</td>\n",
       "      <td>...</td>\n",
       "      <td>...</td>\n",
       "      <td>...</td>\n",
       "    </tr>\n",
       "    <tr>\n",
       "      <th>2989742</th>\n",
       "      <td>DermaTouch RN - Botox, Fillers and CoolSculpting</td>\n",
       "      <td>Fillers and CoolSculpting</td>\n",
       "      <td>0x8640cdf2a4f9d483:0x3fbb08564c04d711</td>\n",
       "      <td>29.976114799999998</td>\n",
       "      <td>-95.54835369999999</td>\n",
       "      <td>['Medical spa', 'Facial spa', 'Health spa', 'L...</td>\n",
       "      <td>4.8</td>\n",
       "      <td>828</td>\n",
       "      <td>[['Saturday', '9AM–2PM'], ['Sunday', 'Closed']...</td>\n",
       "      <td>{'From the business': ['Identifies as women-le...</td>\n",
       "      <td>['0x8640d28831885e1b:0xda001db93e4f6a6f', '0x8...</td>\n",
       "      <td>https://www.google.com/maps/place//data=!4m2!3...</td>\n",
       "      <td>13725 Falba Rd</td>\n",
       "      <td>Houston, TX</td>\n",
       "      <td>77070</td>\n",
       "    </tr>\n",
       "    <tr>\n",
       "      <th>2990256</th>\n",
       "      <td>Michael Byrd, MD</td>\n",
       "      <td>MD</td>\n",
       "      <td>0x8640c1d5d05b9c17:0xed33c9afdc8e1973</td>\n",
       "      <td>29.7048639</td>\n",
       "      <td>-95.4447766</td>\n",
       "      <td>['Doctor', 'Otolaryngologist']</td>\n",
       "      <td>4.9</td>\n",
       "      <td>11</td>\n",
       "      <td>[['Saturday', 'Closed'], ['Sunday', 'Closed'],...</td>\n",
       "      <td>{'Accessibility': ['Wheelchair accessible entr...</td>\n",
       "      <td>None</td>\n",
       "      <td>https://www.google.com/maps/place//data=!4m2!3...</td>\n",
       "      <td>4191 Bellaire Blvd Suite 200</td>\n",
       "      <td>Houston, TX</td>\n",
       "      <td>77025</td>\n",
       "    </tr>\n",
       "    <tr>\n",
       "      <th>2995809</th>\n",
       "      <td>Kayla Nail &amp; Spa</td>\n",
       "      <td>Rankin Plaza</td>\n",
       "      <td>0x8640ca0666ae5603:0xf963045ed959edca</td>\n",
       "      <td>29.9655928</td>\n",
       "      <td>-95.3986437</td>\n",
       "      <td>['Beauty salon', 'Nail salon']</td>\n",
       "      <td>3.2</td>\n",
       "      <td>79</td>\n",
       "      <td>[['Saturday', '9AM–7PM'], ['Sunday', 'Closed']...</td>\n",
       "      <td>{'Accessibility': ['Wheelchair accessible entr...</td>\n",
       "      <td>['0x8640ca054bc53223:0xd570119435f882d5', '0x8...</td>\n",
       "      <td>https://www.google.com/maps/place//data=!4m2!3...</td>\n",
       "      <td>802 Rankin Rd</td>\n",
       "      <td>Houston, TX</td>\n",
       "      <td>77073</td>\n",
       "    </tr>\n",
       "    <tr>\n",
       "      <th>2998382</th>\n",
       "      <td>David M. Bloome, MD</td>\n",
       "      <td>MD</td>\n",
       "      <td>0x8640c013661b6cdd:0xbbe5e7e006fd0e90</td>\n",
       "      <td>29.7003904</td>\n",
       "      <td>-95.40892629999999</td>\n",
       "      <td>['Orthopedic surgeon', 'Doctor']</td>\n",
       "      <td>4.8</td>\n",
       "      <td>68</td>\n",
       "      <td>[['Saturday', 'Closed'], ['Sunday', 'Closed'],...</td>\n",
       "      <td>{'Planning': ['Appointments recommended']}</td>\n",
       "      <td>['0x8640c070db205a1d:0x2cfbac2e3709182d', '0x8...</td>\n",
       "      <td>https://www.google.com/maps/place//data=!4m2!3...</td>\n",
       "      <td>7401 Main St</td>\n",
       "      <td>Houston, TX</td>\n",
       "      <td>77030</td>\n",
       "    </tr>\n",
       "    <tr>\n",
       "      <th>2998401</th>\n",
       "      <td>K. Renee Salon, Spas and Studios</td>\n",
       "      <td>Spas and Studios</td>\n",
       "      <td>0x8640c11d40bcda95:0x4771f905231fae90</td>\n",
       "      <td>29.737012399999998</td>\n",
       "      <td>-95.4367379</td>\n",
       "      <td>['Beauty salon', 'Hair salon']</td>\n",
       "      <td>4.5</td>\n",
       "      <td>18</td>\n",
       "      <td>[['Saturday', '9AM–5PM'], ['Sunday', 'Closed']...</td>\n",
       "      <td>{'Health &amp; safety': ['Appointment required', '...</td>\n",
       "      <td>['0x8640c104a0104cdb:0x2d13949b58be357a', '0x8...</td>\n",
       "      <td>https://www.google.com/maps/place//data=!4m2!3...</td>\n",
       "      <td>3100 Timmons Ln # 130</td>\n",
       "      <td>Houston, TX</td>\n",
       "      <td>77027</td>\n",
       "    </tr>\n",
       "  </tbody>\n",
       "</table>\n",
       "<p>2064 rows × 15 columns</p>\n",
       "</div>"
      ],
      "text/plain": [
       "                                                     name  \\\n",
       "1262                                          Beta Repair   \n",
       "3506                                    Patricia Choy, MD   \n",
       "4133                              Preet BANQUET HALL C-25   \n",
       "6471                          The Pearl Dermatology, PLLC   \n",
       "8032         Dentistry of Highland Village of Houston, TX   \n",
       "...                                                   ...   \n",
       "2989742  DermaTouch RN - Botox, Fillers and CoolSculpting   \n",
       "2990256                                  Michael Byrd, MD   \n",
       "2995809                                  Kayla Nail & Spa   \n",
       "2998382                               David M. Bloome, MD   \n",
       "2998401                  K. Renee Salon, Spas and Studios   \n",
       "\n",
       "                                       address  \\\n",
       "1262                            We Come To You   \n",
       "3506                                        MD   \n",
       "4133     14207 Tomball Parkway Hwy249@ Hall-25   \n",
       "6471                                      PLLC   \n",
       "8032                                        TX   \n",
       "...                                        ...   \n",
       "2989742              Fillers and CoolSculpting   \n",
       "2990256                                     MD   \n",
       "2995809                           Rankin Plaza   \n",
       "2998382                                     MD   \n",
       "2998401                       Spas and Studios   \n",
       "\n",
       "                                       gmap_id            latitude  \\\n",
       "1262     0x8640a53845ef421d:0x3b1786d8195d380f  29.852546999999998   \n",
       "3506     0x86409d0bd8bcaabf:0xd9448bec396ae128          29.5488909   \n",
       "4133     0x8640ceea26935963:0x9e753c785d0bbdf8  29.923682999999997   \n",
       "6471     0x8640c1a72240d08f:0x905adab96ecc95a1          29.7544425   \n",
       "8032     0x8640c104a081c43d:0xc870b7fb973b390b           29.733991   \n",
       "...                                        ...                 ...   \n",
       "2989742  0x8640cdf2a4f9d483:0x3fbb08564c04d711  29.976114799999998   \n",
       "2990256  0x8640c1d5d05b9c17:0xed33c9afdc8e1973          29.7048639   \n",
       "2995809  0x8640ca0666ae5603:0xf963045ed959edca          29.9655928   \n",
       "2998382  0x8640c013661b6cdd:0xbbe5e7e006fd0e90          29.7003904   \n",
       "2998401  0x8640c11d40bcda95:0x4771f905231fae90  29.737012399999998   \n",
       "\n",
       "                  longitude  \\\n",
       "1262             -95.189112   \n",
       "3506     -95.08596229999999   \n",
       "4133     -95.50035969999999   \n",
       "6471            -95.4534149   \n",
       "8032             -95.441096   \n",
       "...                     ...   \n",
       "2989742  -95.54835369999999   \n",
       "2990256         -95.4447766   \n",
       "2995809         -95.3986437   \n",
       "2998382  -95.40892629999999   \n",
       "2998401         -95.4367379   \n",
       "\n",
       "                                                  category avg_rating  \\\n",
       "1262                                 ['Electronics store']        4.6   \n",
       "3506     ['Obstetrician-gynecologist', \"Women's health ...        3.4   \n",
       "4133                                      ['Banquet hall']        3.4   \n",
       "6471                                     ['Dermatologist']        5.0   \n",
       "8032     ['Dentist', 'Cosmetic dentist', 'Dental clinic...        4.6   \n",
       "...                                                    ...        ...   \n",
       "2989742  ['Medical spa', 'Facial spa', 'Health spa', 'L...        4.8   \n",
       "2990256                     ['Doctor', 'Otolaryngologist']        4.9   \n",
       "2995809                     ['Beauty salon', 'Nail salon']        3.2   \n",
       "2998382                   ['Orthopedic surgeon', 'Doctor']        4.8   \n",
       "2998401                     ['Beauty salon', 'Hair salon']        4.5   \n",
       "\n",
       "        num_of_reviews                                              hours  \\\n",
       "1262                 8  [['Thursday', '11AM–7PM'], ['Friday', '11AM–7P...   \n",
       "3506                 7  [['Wednesday', '8AM–5PM'], ['Thursday', '8AM–5...   \n",
       "4133                15                                               None   \n",
       "6471                86  [['Wednesday', '8AM–5PM'], ['Thursday', '8AM–5...   \n",
       "8032               318  [['Wednesday', '7AM–5PM'], ['Thursday', '7AM–5...   \n",
       "...                ...                                                ...   \n",
       "2989742            828  [['Saturday', '9AM–2PM'], ['Sunday', 'Closed']...   \n",
       "2990256             11  [['Saturday', 'Closed'], ['Sunday', 'Closed'],...   \n",
       "2995809             79  [['Saturday', '9AM–7PM'], ['Sunday', 'Closed']...   \n",
       "2998382             68  [['Saturday', 'Closed'], ['Sunday', 'Closed'],...   \n",
       "2998401             18  [['Saturday', '9AM–5PM'], ['Sunday', 'Closed']...   \n",
       "\n",
       "                                                      MISC  \\\n",
       "1262                    {'Offerings': ['Repair services']}   \n",
       "3506     {'Service options': ['Online care'], 'Accessib...   \n",
       "4133     {'Service options': ['Delivery'], 'Accessibili...   \n",
       "6471     {'Accessibility': ['Wheelchair accessible entr...   \n",
       "8032     {'Accessibility': ['Wheelchair accessible entr...   \n",
       "...                                                    ...   \n",
       "2989742  {'From the business': ['Identifies as women-le...   \n",
       "2990256  {'Accessibility': ['Wheelchair accessible entr...   \n",
       "2995809  {'Accessibility': ['Wheelchair accessible entr...   \n",
       "2998382         {'Planning': ['Appointments recommended']}   \n",
       "2998401  {'Health & safety': ['Appointment required', '...   \n",
       "\n",
       "                                          relative_results  \\\n",
       "1262     ['0x8640bb9ee367db27:0xc461561f621f1b8', '0x86...   \n",
       "3506     ['0x86409c8c1a90aa0b:0x9571c96019b4badf', '0x8...   \n",
       "4133     ['0x8640cfab7d1ac04f:0x610698e3f360bbfe', '0x8...   \n",
       "6471     ['0x8640c393878ae88b:0xd6b6655cb494a618', '0x8...   \n",
       "8032     ['0x8640c0fba1490221:0xe0c73e5aaf54e270', '0x8...   \n",
       "...                                                    ...   \n",
       "2989742  ['0x8640d28831885e1b:0xda001db93e4f6a6f', '0x8...   \n",
       "2990256                                               None   \n",
       "2995809  ['0x8640ca054bc53223:0xd570119435f882d5', '0x8...   \n",
       "2998382  ['0x8640c070db205a1d:0x2cfbac2e3709182d', '0x8...   \n",
       "2998401  ['0x8640c104a0104cdb:0x2d13949b58be357a', '0x8...   \n",
       "\n",
       "                                                       url  \\\n",
       "1262     https://www.google.com/maps/place//data=!4m2!3...   \n",
       "3506     https://www.google.com/maps/place//data=!4m2!3...   \n",
       "4133     https://www.google.com/maps/place//data=!4m2!3...   \n",
       "6471     https://www.google.com/maps/place//data=!4m2!3...   \n",
       "8032     https://www.google.com/maps/place//data=!4m2!3...   \n",
       "...                                                    ...   \n",
       "2989742  https://www.google.com/maps/place//data=!4m2!3...   \n",
       "2990256  https://www.google.com/maps/place//data=!4m2!3...   \n",
       "2995809  https://www.google.com/maps/place//data=!4m2!3...   \n",
       "2998382  https://www.google.com/maps/place//data=!4m2!3...   \n",
       "2998401  https://www.google.com/maps/place//data=!4m2!3...   \n",
       "\n",
       "                                 city        state zip_code  \n",
       "1262                             2200  Houston, TX    77044  \n",
       "3506     2060 Space Park Dr Suite 410  Houston, TX    77058  \n",
       "4133                     Fallbrook Dr  Houston, TX    77086  \n",
       "6471           550 Post Oak Blvd #550  Houston, TX    77027  \n",
       "8032            3651 Weslayan St #208  Houston, TX    77027  \n",
       "...                               ...          ...      ...  \n",
       "2989742                13725 Falba Rd  Houston, TX    77070  \n",
       "2990256  4191 Bellaire Blvd Suite 200  Houston, TX    77025  \n",
       "2995809                 802 Rankin Rd  Houston, TX    77073  \n",
       "2998382                  7401 Main St  Houston, TX    77030  \n",
       "2998401         3100 Timmons Ln # 130  Houston, TX    77027  \n",
       "\n",
       "[2064 rows x 15 columns]"
      ]
     },
     "execution_count": 16,
     "metadata": {},
     "output_type": "execute_result"
    }
   ],
   "source": [
    "# Tenemos un conflicto con algunos registros, no respeta la división la columna \"address\". Debemos solucionar\n",
    "metadata_sitios[metadata_sitios[\"state\"] == \"Houston, TX\"]"
   ]
  }
 ],
 "metadata": {
  "kernelspec": {
   "display_name": "Python-env--sma9hmZ",
   "language": "python",
   "name": "python3"
  },
  "language_info": {
   "codemirror_mode": {
    "name": "ipython",
    "version": 3
   },
   "file_extension": ".py",
   "mimetype": "text/x-python",
   "name": "python",
   "nbconvert_exporter": "python",
   "pygments_lexer": "ipython3",
   "version": "3.11.1"
  }
 },
 "nbformat": 4,
 "nbformat_minor": 2
}
