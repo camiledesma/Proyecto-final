{
 "cells": [
  {
   "cell_type": "markdown",
   "metadata": {},
   "source": [
    "Este notebook tiene la finalidad de realizar la carga, transformación y un posterior análisis (ETL + EDA) de los datasets del sitio Google Maps."
   ]
  },
  {
   "cell_type": "code",
   "execution_count": 1,
   "metadata": {},
   "outputs": [],
   "source": [
    "# Importamos las librerias a utilizar\n",
    "import pandas as pd\n",
    "import numpy as np\n",
    "import os\n",
    "import ast\n",
    "import matplotlib.pyplot as plt\n",
    "import seaborn as sns\n",
    "import re\n",
    "from datetime import datetime"
   ]
  },
  {
   "cell_type": "code",
   "execution_count": 144,
   "metadata": {},
   "outputs": [
    {
     "data": {
      "text/html": [
       "<svg  width=\"550\" height=\"55\"><rect x=\"0\" y=\"0\" width=\"55\" height=\"55\" style=\"fill:#a1c9f4;stroke-width:2;stroke:rgb(255,255,255)\"/><rect x=\"55\" y=\"0\" width=\"55\" height=\"55\" style=\"fill:#ffb482;stroke-width:2;stroke:rgb(255,255,255)\"/><rect x=\"110\" y=\"0\" width=\"55\" height=\"55\" style=\"fill:#8de5a1;stroke-width:2;stroke:rgb(255,255,255)\"/><rect x=\"165\" y=\"0\" width=\"55\" height=\"55\" style=\"fill:#ff9f9b;stroke-width:2;stroke:rgb(255,255,255)\"/><rect x=\"220\" y=\"0\" width=\"55\" height=\"55\" style=\"fill:#d0bbff;stroke-width:2;stroke:rgb(255,255,255)\"/><rect x=\"275\" y=\"0\" width=\"55\" height=\"55\" style=\"fill:#debb9b;stroke-width:2;stroke:rgb(255,255,255)\"/><rect x=\"330\" y=\"0\" width=\"55\" height=\"55\" style=\"fill:#fab0e4;stroke-width:2;stroke:rgb(255,255,255)\"/><rect x=\"385\" y=\"0\" width=\"55\" height=\"55\" style=\"fill:#cfcfcf;stroke-width:2;stroke:rgb(255,255,255)\"/><rect x=\"440\" y=\"0\" width=\"55\" height=\"55\" style=\"fill:#fffea3;stroke-width:2;stroke:rgb(255,255,255)\"/><rect x=\"495\" y=\"0\" width=\"55\" height=\"55\" style=\"fill:#b9f2f0;stroke-width:2;stroke:rgb(255,255,255)\"/></svg>"
      ],
      "text/plain": [
       "[(0.6313725490196078, 0.788235294117647, 0.9568627450980393),\n",
       " (1.0, 0.7058823529411765, 0.5098039215686274),\n",
       " (0.5529411764705883, 0.8980392156862745, 0.6313725490196078),\n",
       " (1.0, 0.6235294117647059, 0.6078431372549019),\n",
       " (0.8156862745098039, 0.7333333333333333, 1.0),\n",
       " (0.8705882352941177, 0.7333333333333333, 0.6078431372549019),\n",
       " (0.9803921568627451, 0.6901960784313725, 0.8941176470588236),\n",
       " (0.8117647058823529, 0.8117647058823529, 0.8117647058823529),\n",
       " (1.0, 0.996078431372549, 0.6392156862745098),\n",
       " (0.7254901960784313, 0.9490196078431372, 0.9411764705882353)]"
      ]
     },
     "execution_count": 144,
     "metadata": {},
     "output_type": "execute_result"
    }
   ],
   "source": [
    "sns.color_palette(\"pastel\")"
   ]
  },
  {
   "cell_type": "code",
   "execution_count": 145,
   "metadata": {},
   "outputs": [],
   "source": [
    "sns.set_palette(\"pastel\")"
   ]
  },
  {
   "cell_type": "markdown",
   "metadata": {},
   "source": [
    "review-estados"
   ]
  },
  {
   "cell_type": "code",
   "execution_count": 241,
   "metadata": {},
   "outputs": [
    {
     "name": "stderr",
     "output_type": "stream",
     "text": [
      "c:\\Users\\Mauricio Figueroa\\.virtualenvs\\Python-env--sma9hmZ\\Lib\\site-packages\\pandas\\core\\dtypes\\astype.py:189: RuntimeWarning: invalid value encountered in cast\n",
      "  return values.astype(dtype, copy=copy)\n"
     ]
    }
   ],
   "source": [
    "# Lee el archivo JSON y carga los datos en un DataFrame de pandas\n",
    "df = pd.read_json(\"Datasets/Google Maps/review-estados/review-Alabama/11.json\", lines = True)"
   ]
  },
  {
   "cell_type": "code",
   "execution_count": 7,
   "metadata": {},
   "outputs": [
    {
     "data": {
      "text/plain": [
       "150000"
      ]
     },
     "execution_count": 7,
     "metadata": {},
     "output_type": "execute_result"
    }
   ],
   "source": [
    "# Cada archivo tiene aproximadamente 150 mil registros\n",
    "len(df)"
   ]
  },
  {
   "cell_type": "code",
   "execution_count": 23,
   "metadata": {},
   "outputs": [
    {
     "data": {
      "text/plain": [
       "Index(['user_id', 'name', 'time', 'rating', 'text', 'pics', 'resp', 'gmap_id'], dtype='object')"
      ]
     },
     "execution_count": 23,
     "metadata": {},
     "output_type": "execute_result"
    }
   ],
   "source": [
    "# La información de cada review esta contenida en las siguientes columnas\n",
    "df.columns"
   ]
  },
  {
   "cell_type": "code",
   "execution_count": 30,
   "metadata": {},
   "outputs": [
    {
     "data": {
      "text/html": [
       "<div>\n",
       "<style scoped>\n",
       "    .dataframe tbody tr th:only-of-type {\n",
       "        vertical-align: middle;\n",
       "    }\n",
       "\n",
       "    .dataframe tbody tr th {\n",
       "        vertical-align: top;\n",
       "    }\n",
       "\n",
       "    .dataframe thead th {\n",
       "        text-align: right;\n",
       "    }\n",
       "</style>\n",
       "<table border=\"1\" class=\"dataframe\">\n",
       "  <thead>\n",
       "    <tr style=\"text-align: right;\">\n",
       "      <th></th>\n",
       "      <th>user_id</th>\n",
       "      <th>name</th>\n",
       "      <th>time</th>\n",
       "      <th>rating</th>\n",
       "      <th>text</th>\n",
       "      <th>pics</th>\n",
       "      <th>resp</th>\n",
       "      <th>gmap_id</th>\n",
       "    </tr>\n",
       "  </thead>\n",
       "  <tbody>\n",
       "    <tr>\n",
       "      <th>60</th>\n",
       "      <td>1.019555e+20</td>\n",
       "      <td>MrNiceGuy420</td>\n",
       "      <td>1620252981528</td>\n",
       "      <td>5</td>\n",
       "      <td>It's quiet , cameras everywhere and a hardee's...</td>\n",
       "      <td>None</td>\n",
       "      <td>{'time': 1620253626918, 'text': 'Thank you for...</td>\n",
       "      <td>0x88882af73c1dd91f:0x399a5e0c64165330</td>\n",
       "    </tr>\n",
       "    <tr>\n",
       "      <th>73</th>\n",
       "      <td>1.061407e+20</td>\n",
       "      <td>Kenneth Smith</td>\n",
       "      <td>1573595680762</td>\n",
       "      <td>5</td>\n",
       "      <td>Awesome and safe place to do your laundry.clea...</td>\n",
       "      <td>None</td>\n",
       "      <td>{'time': 1573836762445, 'text': 'Thank you! We...</td>\n",
       "      <td>0x88882af73c1dd91f:0x399a5e0c64165330</td>\n",
       "    </tr>\n",
       "    <tr>\n",
       "      <th>77</th>\n",
       "      <td>1.183360e+20</td>\n",
       "      <td>Brandy Gipson</td>\n",
       "      <td>1576542079720</td>\n",
       "      <td>5</td>\n",
       "      <td>Its very clean and the washing machines and dr...</td>\n",
       "      <td>None</td>\n",
       "      <td>{'time': 1576608216452, 'text': 'Thank you Bra...</td>\n",
       "      <td>0x88882af73c1dd91f:0x399a5e0c64165330</td>\n",
       "    </tr>\n",
       "    <tr>\n",
       "      <th>97</th>\n",
       "      <td>1.107800e+20</td>\n",
       "      <td>Damien Long</td>\n",
       "      <td>1617727974641</td>\n",
       "      <td>4</td>\n",
       "      <td>👍🏼</td>\n",
       "      <td>None</td>\n",
       "      <td>{'time': 1617732842952, 'text': 'Thank you for...</td>\n",
       "      <td>0x88882af73c1dd91f:0x399a5e0c64165330</td>\n",
       "    </tr>\n",
       "    <tr>\n",
       "      <th>103</th>\n",
       "      <td>1.145796e+20</td>\n",
       "      <td>Kelly Ballam</td>\n",
       "      <td>1616568755311</td>\n",
       "      <td>5</td>\n",
       "      <td>None</td>\n",
       "      <td>None</td>\n",
       "      <td>{'time': 1617732881857, 'text': 'Thank you for...</td>\n",
       "      <td>0x88882af73c1dd91f:0x399a5e0c64165330</td>\n",
       "    </tr>\n",
       "    <tr>\n",
       "      <th>...</th>\n",
       "      <td>...</td>\n",
       "      <td>...</td>\n",
       "      <td>...</td>\n",
       "      <td>...</td>\n",
       "      <td>...</td>\n",
       "      <td>...</td>\n",
       "      <td>...</td>\n",
       "      <td>...</td>\n",
       "    </tr>\n",
       "    <tr>\n",
       "      <th>149919</th>\n",
       "      <td>1.086057e+20</td>\n",
       "      <td>Samantha Vines</td>\n",
       "      <td>1556313173819</td>\n",
       "      <td>5</td>\n",
       "      <td>None</td>\n",
       "      <td>None</td>\n",
       "      <td>{'time': 1556826886268, 'text': 'Thanks so muc...</td>\n",
       "      <td>0x8889cbb390b6d7ab:0x62b42d79d9d55109</td>\n",
       "    </tr>\n",
       "    <tr>\n",
       "      <th>149920</th>\n",
       "      <td>1.046784e+20</td>\n",
       "      <td>Carolyn Pearl</td>\n",
       "      <td>1544271470421</td>\n",
       "      <td>5</td>\n",
       "      <td>None</td>\n",
       "      <td>None</td>\n",
       "      <td>{'time': 1544480389291, 'text': 'Thanks Caroly...</td>\n",
       "      <td>0x8889cbb390b6d7ab:0x62b42d79d9d55109</td>\n",
       "    </tr>\n",
       "    <tr>\n",
       "      <th>149921</th>\n",
       "      <td>1.005816e+20</td>\n",
       "      <td>Madison Espy</td>\n",
       "      <td>1527015204203</td>\n",
       "      <td>5</td>\n",
       "      <td>None</td>\n",
       "      <td>None</td>\n",
       "      <td>{'time': 1527106474830, 'text': 'Thanks-a-mill...</td>\n",
       "      <td>0x8889cbb390b6d7ab:0x62b42d79d9d55109</td>\n",
       "    </tr>\n",
       "    <tr>\n",
       "      <th>149926</th>\n",
       "      <td>1.145077e+20</td>\n",
       "      <td>Dale Blakely</td>\n",
       "      <td>1562189862455</td>\n",
       "      <td>5</td>\n",
       "      <td>None</td>\n",
       "      <td>None</td>\n",
       "      <td>{'time': 1563993083330, 'text': 'Thanks so muc...</td>\n",
       "      <td>0x8889cbb390b6d7ab:0x62b42d79d9d55109</td>\n",
       "    </tr>\n",
       "    <tr>\n",
       "      <th>149927</th>\n",
       "      <td>1.058842e+20</td>\n",
       "      <td>Whitney Partain</td>\n",
       "      <td>1560522035881</td>\n",
       "      <td>1</td>\n",
       "      <td>None</td>\n",
       "      <td>None</td>\n",
       "      <td>{'time': 1560539621232, 'text': 'Hi Whitney, w...</td>\n",
       "      <td>0x8889cbb390b6d7ab:0x62b42d79d9d55109</td>\n",
       "    </tr>\n",
       "  </tbody>\n",
       "</table>\n",
       "<p>14277 rows × 8 columns</p>\n",
       "</div>"
      ],
      "text/plain": [
       "             user_id             name           time  rating  \\\n",
       "60      1.019555e+20     MrNiceGuy420  1620252981528       5   \n",
       "73      1.061407e+20    Kenneth Smith  1573595680762       5   \n",
       "77      1.183360e+20    Brandy Gipson  1576542079720       5   \n",
       "97      1.107800e+20      Damien Long  1617727974641       4   \n",
       "103     1.145796e+20     Kelly Ballam  1616568755311       5   \n",
       "...              ...              ...            ...     ...   \n",
       "149919  1.086057e+20   Samantha Vines  1556313173819       5   \n",
       "149920  1.046784e+20    Carolyn Pearl  1544271470421       5   \n",
       "149921  1.005816e+20     Madison Espy  1527015204203       5   \n",
       "149926  1.145077e+20     Dale Blakely  1562189862455       5   \n",
       "149927  1.058842e+20  Whitney Partain  1560522035881       1   \n",
       "\n",
       "                                                     text  pics  \\\n",
       "60      It's quiet , cameras everywhere and a hardee's...  None   \n",
       "73      Awesome and safe place to do your laundry.clea...  None   \n",
       "77      Its very clean and the washing machines and dr...  None   \n",
       "97                                                     👍🏼  None   \n",
       "103                                                  None  None   \n",
       "...                                                   ...   ...   \n",
       "149919                                               None  None   \n",
       "149920                                               None  None   \n",
       "149921                                               None  None   \n",
       "149926                                               None  None   \n",
       "149927                                               None  None   \n",
       "\n",
       "                                                     resp  \\\n",
       "60      {'time': 1620253626918, 'text': 'Thank you for...   \n",
       "73      {'time': 1573836762445, 'text': 'Thank you! We...   \n",
       "77      {'time': 1576608216452, 'text': 'Thank you Bra...   \n",
       "97      {'time': 1617732842952, 'text': 'Thank you for...   \n",
       "103     {'time': 1617732881857, 'text': 'Thank you for...   \n",
       "...                                                   ...   \n",
       "149919  {'time': 1556826886268, 'text': 'Thanks so muc...   \n",
       "149920  {'time': 1544480389291, 'text': 'Thanks Caroly...   \n",
       "149921  {'time': 1527106474830, 'text': 'Thanks-a-mill...   \n",
       "149926  {'time': 1563993083330, 'text': 'Thanks so muc...   \n",
       "149927  {'time': 1560539621232, 'text': 'Hi Whitney, w...   \n",
       "\n",
       "                                      gmap_id  \n",
       "60      0x88882af73c1dd91f:0x399a5e0c64165330  \n",
       "73      0x88882af73c1dd91f:0x399a5e0c64165330  \n",
       "77      0x88882af73c1dd91f:0x399a5e0c64165330  \n",
       "97      0x88882af73c1dd91f:0x399a5e0c64165330  \n",
       "103     0x88882af73c1dd91f:0x399a5e0c64165330  \n",
       "...                                       ...  \n",
       "149919  0x8889cbb390b6d7ab:0x62b42d79d9d55109  \n",
       "149920  0x8889cbb390b6d7ab:0x62b42d79d9d55109  \n",
       "149921  0x8889cbb390b6d7ab:0x62b42d79d9d55109  \n",
       "149926  0x8889cbb390b6d7ab:0x62b42d79d9d55109  \n",
       "149927  0x8889cbb390b6d7ab:0x62b42d79d9d55109  \n",
       "\n",
       "[14277 rows x 8 columns]"
      ]
     },
     "execution_count": 30,
     "metadata": {},
     "output_type": "execute_result"
    }
   ],
   "source": [
    "# Vemos que hay algunos registros (pocos) donde el comercio hace una devolución. Consideramos importante esta devolución\n",
    "df[~df[\"resp\"].isna()]"
   ]
  },
  {
   "cell_type": "markdown",
   "metadata": {},
   "source": [
    "Hacemos una función genérica para recorrer todos los archivos de cada estado y formar un solo DataFrame con la info relevante"
   ]
  },
  {
   "cell_type": "code",
   "execution_count": 2,
   "metadata": {},
   "outputs": [],
   "source": [
    "def cargar_archivos_json(ruta_base, ruta_destino):\n",
    "\n",
    "    # Diccionario para llevar el conteo de reviews nulas (review o devolución) por estado\n",
    "    conteo_nulos = {}\n",
    "    cantidad_duplicados = 0\n",
    "\n",
    "    # Recorre todas las carpetas dentro de la ruta_base\n",
    "    for estado_folder in os.listdir(ruta_base):\n",
    "\n",
    "        # Lista para almacenar los df que corresponden a cada json\n",
    "        lista_dataframes = []\n",
    "\n",
    "        estado_path = os.path.join(ruta_base, estado_folder)\n",
    "\n",
    "        # Variable para guardar el nombre del estado\n",
    "        estado_string = estado_folder.replace(\"review-\", \"\")\n",
    "        \n",
    "        # Inicializa el conteo de nulos para el estado actual\n",
    "        conteo_nulos[estado_string] = 0\n",
    "\n",
    "        # Verifica si es una carpeta\n",
    "        if os.path.isdir(estado_path):\n",
    "            # Recorre todos los archivos JSON dentro de la carpeta del estado\n",
    "            for json_file in os.listdir(estado_path):\n",
    "                if json_file.endswith('.json'):\n",
    "                    json_path = os.path.join(estado_path, json_file)\n",
    "\n",
    "                    # Lee el archivo JSON y carga los datos en un DataFrame\n",
    "                    df = pd.read_json(json_path, lines = True)\n",
    "\n",
    "                    # Elimina duplicados\n",
    "                    tamaño_original = len(df)\n",
    "                    df = df.astype(str).drop_duplicates()\n",
    "                    # Calcula la cantidad de duplicados eliminados\n",
    "                    cantidad_duplicados += tamaño_original - len(df)\n",
    "\n",
    "                    df[\"time\"] = df[\"time\"].astype(np.int64)\n",
    "                    # Convertimos el tiempo a tipo de dato datetime\n",
    "                    df[\"time\"] = [datetime.utcfromtimestamp(unix_time/1000).strftime('%Y-%m-%d') for unix_time in df[\"time\"]]\n",
    "\n",
    "                    # Incrementa el conteo de nulos si \"text\" o \"resp\" son NaN\n",
    "                    conteo_nulos[estado_string] += df[[\"text\", \"resp\"]].isna().all(axis=1).sum()\n",
    "\n",
    "                    # Limpiamos los nan en la columna de reviews en caso de que la review o la respuesta sean NaN\n",
    "                    df = df.dropna(subset = [\"text\", \"resp\"], how = \"all\")\n",
    "\n",
    "                    # Dejamos las columnas que nos interesan\n",
    "                    df = df[[\"time\", \"rating\", \"text\", \"resp\", \"gmap_id\"]]\n",
    "\n",
    "                    # Agrega el DataFrame a la lista\n",
    "                    lista_dataframes.append(df)\n",
    "\n",
    "        # Concatena los dataFrames en uno solo\n",
    "        review_estado = pd.concat(lista_dataframes, ignore_index = True)\n",
    "\n",
    "        # Exporta reviews_estado a un archivo CSV\n",
    "        csv_path = os.path.join(ruta_destino, f\"review-{estado_string}.csv\")\n",
    "        review_estado.to_csv(csv_path, index=False)\n",
    "\n",
    "    return conteo_nulos, cantidad_duplicados"
   ]
  },
  {
   "cell_type": "code",
   "execution_count": null,
   "metadata": {},
   "outputs": [],
   "source": [
    "# Ruta base donde se encuentran las carpetas \"review-estados\"\n",
    "ruta_base = \"Datasets/Google Maps/review-estados\"\n",
    "ruta_destino = \"Datasets/Google Maps/review-estados-clean\"\n",
    "\n",
    "# Llama a la función y almacena el conteo de nulos\n",
    "conteo_nulos, cantidad_duplicados = cargar_archivos_json(ruta_base, ruta_destino)"
   ]
  },
  {
   "cell_type": "code",
   "execution_count": 11,
   "metadata": {},
   "outputs": [
    {
     "name": "stdout",
     "output_type": "stream",
     "text": [
      "Estado: Alabama, Registros Nulos: 760061\n",
      "Estado: Alaska, Registros Nulos: 208566\n",
      "Estado: Arizona, Registros Nulos: 632210\n",
      "Estado: Arkansas, Registros Nulos: 1011648\n",
      "Estado: California, Registros Nulos: 1093815\n",
      "Estado: Colorado, Registros Nulos: 807096\n",
      "Estado: Connecticut, Registros Nulos: 187694\n",
      "Estado: Delaware, Registros Nulos: 373253\n",
      "Estado: District_of_Columbia, Registros Nulos: 255029\n",
      "Estado: Florida, Registros Nulos: 957433\n",
      "Estado: Georgia, Registros Nulos: 715159\n",
      "Estado: Hawaii, Registros Nulos: 615152\n",
      "Estado: Idaho, Registros Nulos: 795796\n",
      "Estado: Illinois, Registros Nulos: 829685\n",
      "Estado: Indiana, Registros Nulos: 912398\n",
      "Estado: Iowa, Registros Nulos: 1190817\n",
      "Estado: Kansas, Registros Nulos: 813840\n",
      "Estado: Kentucky, Registros Nulos: 686014\n",
      "Estado: Louisiana, Registros Nulos: 651816\n",
      "Estado: Maine, Registros Nulos: 476105\n",
      "Estado: Maryland, Registros Nulos: 972803\n",
      "Estado: Massachusetts, Registros Nulos: 1052584\n",
      "Estado: Michigan, Registros Nulos: 850459\n",
      "Estado: Minnesota, Registros Nulos: 700329\n",
      "Estado: Mississippi, Registros Nulos: 875121\n",
      "Estado: Missouri, Registros Nulos: 620263\n",
      "Estado: Montana, Registros Nulos: 381024\n",
      "Estado: Nebraska, Registros Nulos: 791702\n",
      "Estado: Nevada, Registros Nulos: 661082\n",
      "Estado: New_Hampshire, Registros Nulos: 538965\n",
      "Estado: New_Jersey, Registros Nulos: 793461\n",
      "Estado: New_Mexico, Registros Nulos: 713228\n",
      "Estado: New_York, Registros Nulos: 1082683\n",
      "Estado: North_Carolina, Registros Nulos: 836990\n",
      "Estado: North_Dakota, Registros Nulos: 242258\n",
      "Estado: Ohio, Registros Nulos: 763846\n",
      "Estado: Oklahoma, Registros Nulos: 642508\n",
      "Estado: Oregon, Registros Nulos: 815249\n",
      "Estado: Pennsylvania, Registros Nulos: 945666\n",
      "Estado: Rhode_Island, Registros Nulos: 398023\n",
      "Estado: South_Carolina, Registros Nulos: 817591\n",
      "Estado: South_Dakota, Registros Nulos: 292088\n",
      "Estado: Tennessee, Registros Nulos: 696385\n",
      "Estado: Texas, Registros Nulos: 813150\n",
      "Estado: Utah, Registros Nulos: 496545\n",
      "Estado: Vermont, Registros Nulos: 137301\n",
      "Estado: Virginia, Registros Nulos: 642853\n",
      "Estado: Washington, Registros Nulos: 728074\n",
      "Estado: West_Virginia, Registros Nulos: 484476\n",
      "Estado: Wisconsin, Registros Nulos: 676393\n",
      "Estado: Wyoming, Registros Nulos: 176582\n"
     ]
    }
   ],
   "source": [
    "# Muestra el conteo de nulos por estado, si las columnas text y resp eran nulas\n",
    "for estado, conteo in conteo_nulos.items():\n",
    "    print(f\"Estado: {estado}, Registros Nulos: {conteo}\")"
   ]
  },
  {
   "cell_type": "code",
   "execution_count": 18,
   "metadata": {},
   "outputs": [
    {
     "name": "stdout",
     "output_type": "stream",
     "text": [
      "Registros Nulos total: 34613269\n"
     ]
    }
   ],
   "source": [
    "# Registros nulos total\n",
    "print(f\"Registros Nulos total: {sum(conteo_nulos.values())}\")"
   ]
  },
  {
   "cell_type": "code",
   "execution_count": 227,
   "metadata": {},
   "outputs": [
    {
     "name": "stdout",
     "output_type": "stream",
     "text": [
      "Cantidad de duplicados total: 1576027\n"
     ]
    }
   ],
   "source": [
    "print(f\"Cantidad de duplicados total: {cantidad_duplicados}\")"
   ]
  },
  {
   "cell_type": "markdown",
   "metadata": {},
   "source": [
    "metadata-sitios"
   ]
  },
  {
   "cell_type": "code",
   "execution_count": 79,
   "metadata": {},
   "outputs": [],
   "source": [
    "# Lee el archivo JSON y carga los datos en un DataFrame de pandas\n",
    "df = pd.read_json(\"Datasets/Google Maps/metadata-sitios/1.json\", lines = True)"
   ]
  },
  {
   "cell_type": "code",
   "execution_count": 12,
   "metadata": {},
   "outputs": [],
   "source": [
    "# Leemos un archivo con los estados de USA y abreviaturas\n",
    "states = pd.read_csv(\"Datasets/states.csv\")"
   ]
  },
  {
   "cell_type": "code",
   "execution_count": 6,
   "metadata": {},
   "outputs": [
    {
     "data": {
      "text/html": [
       "<div>\n",
       "<style scoped>\n",
       "    .dataframe tbody tr th:only-of-type {\n",
       "        vertical-align: middle;\n",
       "    }\n",
       "\n",
       "    .dataframe tbody tr th {\n",
       "        vertical-align: top;\n",
       "    }\n",
       "\n",
       "    .dataframe thead th {\n",
       "        text-align: right;\n",
       "    }\n",
       "</style>\n",
       "<table border=\"1\" class=\"dataframe\">\n",
       "  <thead>\n",
       "    <tr style=\"text-align: right;\">\n",
       "      <th></th>\n",
       "      <th>name</th>\n",
       "      <th>address</th>\n",
       "      <th>gmap_id</th>\n",
       "      <th>description</th>\n",
       "      <th>latitude</th>\n",
       "      <th>longitude</th>\n",
       "      <th>category</th>\n",
       "      <th>avg_rating</th>\n",
       "      <th>num_of_reviews</th>\n",
       "      <th>price</th>\n",
       "      <th>hours</th>\n",
       "      <th>MISC</th>\n",
       "      <th>state</th>\n",
       "      <th>relative_results</th>\n",
       "      <th>url</th>\n",
       "    </tr>\n",
       "  </thead>\n",
       "  <tbody>\n",
       "    <tr>\n",
       "      <th>0</th>\n",
       "      <td>Porter Pharmacy</td>\n",
       "      <td>Porter Pharmacy, 129 N Second St, Cochran, GA ...</td>\n",
       "      <td>0x88f16e41928ff687:0x883dad4fd048e8f8</td>\n",
       "      <td>None</td>\n",
       "      <td>32.388300</td>\n",
       "      <td>-83.35710</td>\n",
       "      <td>[Pharmacy]</td>\n",
       "      <td>4.9</td>\n",
       "      <td>16</td>\n",
       "      <td>None</td>\n",
       "      <td>[[Friday, 8AM–6PM], [Saturday, 8AM–12PM], [Sun...</td>\n",
       "      <td>{'Service options': ['In-store shopping', 'Sam...</td>\n",
       "      <td>Open ⋅ Closes 6PM</td>\n",
       "      <td>[0x88f16e41929435cf:0x5b2532a2885e9ef6, 0x88f1...</td>\n",
       "      <td>https://www.google.com/maps/place//data=!4m2!3...</td>\n",
       "    </tr>\n",
       "    <tr>\n",
       "      <th>1</th>\n",
       "      <td>City Textile</td>\n",
       "      <td>City Textile, 3001 E Pico Blvd, Los Angeles, C...</td>\n",
       "      <td>0x80c2c98c0e3c16fd:0x29ec8a728764fdf9</td>\n",
       "      <td>None</td>\n",
       "      <td>34.018891</td>\n",
       "      <td>-118.21529</td>\n",
       "      <td>[Textile exporter]</td>\n",
       "      <td>4.5</td>\n",
       "      <td>6</td>\n",
       "      <td>None</td>\n",
       "      <td>None</td>\n",
       "      <td>None</td>\n",
       "      <td>Open now</td>\n",
       "      <td>[0x80c2c624136ea88b:0xb0315367ed448771, 0x80c2...</td>\n",
       "      <td>https://www.google.com/maps/place//data=!4m2!3...</td>\n",
       "    </tr>\n",
       "  </tbody>\n",
       "</table>\n",
       "</div>"
      ],
      "text/plain": [
       "              name                                            address  \\\n",
       "0  Porter Pharmacy  Porter Pharmacy, 129 N Second St, Cochran, GA ...   \n",
       "1     City Textile  City Textile, 3001 E Pico Blvd, Los Angeles, C...   \n",
       "\n",
       "                                 gmap_id description   latitude  longitude  \\\n",
       "0  0x88f16e41928ff687:0x883dad4fd048e8f8        None  32.388300  -83.35710   \n",
       "1  0x80c2c98c0e3c16fd:0x29ec8a728764fdf9        None  34.018891 -118.21529   \n",
       "\n",
       "             category  avg_rating  num_of_reviews price  \\\n",
       "0          [Pharmacy]         4.9              16  None   \n",
       "1  [Textile exporter]         4.5               6  None   \n",
       "\n",
       "                                               hours  \\\n",
       "0  [[Friday, 8AM–6PM], [Saturday, 8AM–12PM], [Sun...   \n",
       "1                                               None   \n",
       "\n",
       "                                                MISC              state  \\\n",
       "0  {'Service options': ['In-store shopping', 'Sam...  Open ⋅ Closes 6PM   \n",
       "1                                               None           Open now   \n",
       "\n",
       "                                    relative_results  \\\n",
       "0  [0x88f16e41929435cf:0x5b2532a2885e9ef6, 0x88f1...   \n",
       "1  [0x80c2c624136ea88b:0xb0315367ed448771, 0x80c2...   \n",
       "\n",
       "                                                 url  \n",
       "0  https://www.google.com/maps/place//data=!4m2!3...  \n",
       "1  https://www.google.com/maps/place//data=!4m2!3...  "
      ]
     },
     "execution_count": 6,
     "metadata": {},
     "output_type": "execute_result"
    }
   ],
   "source": [
    "df.head(2)"
   ]
  },
  {
   "cell_type": "code",
   "execution_count": 45,
   "metadata": {},
   "outputs": [
    {
     "data": {
      "text/plain": [
       "'Barber King - Hair cut, Straight shave and Unlimited Haircut for Kids,Adults and Seniors, 5349 Antoine Dr, Houston, TX 77091'"
      ]
     },
     "execution_count": 45,
     "metadata": {},
     "output_type": "execute_result"
    }
   ],
   "source": [
    "df.iloc[12592][\"address\"]            # 1262 3506 4133 12592 18572 19482"
   ]
  },
  {
   "cell_type": "code",
   "execution_count": 8,
   "metadata": {},
   "outputs": [
    {
     "data": {
      "text/plain": [
       "Index(['name', 'address', 'gmap_id', 'description', 'latitude', 'longitude',\n",
       "       'category', 'avg_rating', 'num_of_reviews', 'price', 'hours', 'MISC',\n",
       "       'state', 'relative_results', 'url'],\n",
       "      dtype='object')"
      ]
     },
     "execution_count": 8,
     "metadata": {},
     "output_type": "execute_result"
    }
   ],
   "source": [
    "# Resumen de las features disponibles\n",
    "df.columns"
   ]
  },
  {
   "cell_type": "code",
   "execution_count": 14,
   "metadata": {},
   "outputs": [
    {
     "data": {
      "text/plain": [
       "(275001, 15)"
      ]
     },
     "execution_count": 14,
     "metadata": {},
     "output_type": "execute_result"
    }
   ],
   "source": [
    "# Tamaño del dataframe\n",
    "df.shape"
   ]
  },
  {
   "cell_type": "code",
   "execution_count": 13,
   "metadata": {},
   "outputs": [
    {
     "data": {
      "text/plain": [
       "name                     7\n",
       "address              10062\n",
       "gmap_id                  0\n",
       "description         261846\n",
       "latitude                 0\n",
       "longitude                0\n",
       "category              2261\n",
       "avg_rating               0\n",
       "num_of_reviews           0\n",
       "price               261551\n",
       "hours                82553\n",
       "MISC                 80029\n",
       "state                79478\n",
       "relative_results     36230\n",
       "url                      0\n",
       "dtype: int64"
      ]
     },
     "execution_count": 13,
     "metadata": {},
     "output_type": "execute_result"
    }
   ],
   "source": [
    "# Hay valores nulos?\n",
    "df.isna().sum()"
   ]
  },
  {
   "cell_type": "markdown",
   "metadata": {},
   "source": [
    "Hay features que en su mayoría tienen NaN por lo que no aportan a una estadística o sistema de recomendación (\"description\" y \"price\"). Vamos a analizar las demás."
   ]
  },
  {
   "cell_type": "code",
   "execution_count": 12,
   "metadata": {},
   "outputs": [
    {
     "data": {
      "text/plain": [
       "array(['Porter Pharmacy, 129 N Second St, Cochran, GA 31014',\n",
       "       'City Textile, 3001 E Pico Blvd, Los Angeles, CA 90023',\n",
       "       'San Soo Dang, 761 S Vermont Ave, Los Angeles, CA 90005',\n",
       "       'Nova Fabrics, 2200 E 11th St, Los Angeles, CA 90021',\n",
       "       'Nobel Textile Co, 719 E 9th St, Los Angeles, CA 90021'],\n",
       "      dtype=object)"
      ]
     },
     "execution_count": 12,
     "metadata": {},
     "output_type": "execute_result"
    }
   ],
   "source": [
    "df.head()[\"address\"].values"
   ]
  },
  {
   "cell_type": "markdown",
   "metadata": {},
   "source": [
    "La columna \"address\" contiene valores separados por coma, vamos a tener que separar la info.\n",
    "Se ve primero el nombre del comercio, luego dirección, ciudad y ZIP Code (state + 5 digitos) "
   ]
  },
  {
   "cell_type": "code",
   "execution_count": 41,
   "metadata": {},
   "outputs": [
    {
     "data": {
      "text/plain": [
       "26573"
      ]
     },
     "execution_count": 41,
     "metadata": {},
     "output_type": "execute_result"
    }
   ],
   "source": [
    "df.astype(str).duplicated().sum()"
   ]
  },
  {
   "cell_type": "markdown",
   "metadata": {},
   "source": [
    "Tenemos 26573 registros duplicados, debemos limpiarlos "
   ]
  },
  {
   "cell_type": "code",
   "execution_count": 22,
   "metadata": {},
   "outputs": [
    {
     "data": {
      "text/plain": [
       "0                                     [Pharmacy]\n",
       "1                             [Textile exporter]\n",
       "2                            [Korean restaurant]\n",
       "3                                 [Fabric store]\n",
       "4                                 [Fabric store]\n",
       "5                                 [Fabric store]\n",
       "6                                   [Restaurant]\n",
       "7      [Nail salon, Waxing hair removal service]\n",
       "8               [Bakery, Health food restaurant]\n",
       "9    [Greeting card shop, Service establishment]\n",
       "Name: category, dtype: object"
      ]
     },
     "execution_count": 22,
     "metadata": {},
     "output_type": "execute_result"
    }
   ],
   "source": [
    "df.head(10)[\"category\"]"
   ]
  },
  {
   "cell_type": "code",
   "execution_count": 21,
   "metadata": {},
   "outputs": [
    {
     "data": {
      "text/plain": [
       "3769"
      ]
     },
     "execution_count": 21,
     "metadata": {},
     "output_type": "execute_result"
    }
   ],
   "source": [
    "df[\"category\"].explode().nunique()"
   ]
  },
  {
   "cell_type": "markdown",
   "metadata": {},
   "source": [
    "La columna categoría es multilabel"
   ]
  },
  {
   "cell_type": "code",
   "execution_count": 15,
   "metadata": {},
   "outputs": [
    {
     "data": {
      "text/plain": [
       "0    Open ⋅ Closes 6PM\n",
       "1             Open now\n",
       "2    Open ⋅ Closes 6PM\n",
       "3    Open ⋅ Closes 5PM\n",
       "4    Open ⋅ Closes 5PM\n",
       "Name: state, dtype: object"
      ]
     },
     "execution_count": 15,
     "metadata": {},
     "output_type": "execute_result"
    }
   ],
   "source": [
    "df.head()[\"state\"]"
   ]
  },
  {
   "cell_type": "markdown",
   "metadata": {},
   "source": [
    "La columna state no nos sirve, es un valor instantaneo sobre si el comercio está abierto o no."
   ]
  },
  {
   "cell_type": "code",
   "execution_count": 25,
   "metadata": {},
   "outputs": [
    {
     "data": {
      "text/plain": [
       "array([list(['0x88f16e41929435cf:0x5b2532a2885e9ef6', '0x88f16c32716531c1:0x5f19bdaa5044e4fa', '0x88f16e6e3f4a21df:0xcf495da9bb4d89ea'])],\n",
       "      dtype=object)"
      ]
     },
     "execution_count": 25,
     "metadata": {},
     "output_type": "execute_result"
    }
   ],
   "source": [
    "df.head(1)[\"relative_results\"].values"
   ]
  },
  {
   "cell_type": "markdown",
   "metadata": {},
   "source": [
    "Queda por ver si los relative results son comercios asociados. En este dataset no lo encontramos, deberíamos unirlos todos"
   ]
  },
  {
   "cell_type": "markdown",
   "metadata": {},
   "source": [
    "Ahora pasamos a hacer una función que procese todos los json de manera automática"
   ]
  },
  {
   "cell_type": "code",
   "execution_count": 65,
   "metadata": {},
   "outputs": [
    {
     "data": {
      "text/plain": [
       "0         GA\n",
       "1         CA\n",
       "2         CA\n",
       "3         CA\n",
       "4         CA\n",
       "          ..\n",
       "274996    SC\n",
       "274997    SC\n",
       "274998    SC\n",
       "274999    MI\n",
       "275000    MI\n",
       "Name: address, Length: 275001, dtype: object"
      ]
     },
     "execution_count": 65,
     "metadata": {},
     "output_type": "execute_result"
    }
   ],
   "source": [
    "valores_aux.str.get(0)"
   ]
  },
  {
   "cell_type": "code",
   "execution_count": 74,
   "metadata": {},
   "outputs": [
    {
     "data": {
      "text/plain": [
       "0         [Porter Pharmacy, 129 N Second St, Cochran, GA...\n",
       "1         [City Textile, 3001 E Pico Blvd, Los Angeles, ...\n",
       "2         [San Soo Dang, 761 S Vermont Ave, Los Angeles,...\n",
       "3         [Nova Fabrics, 2200 E 11th St, Los Angeles, CA...\n",
       "4         [Nobel Textile Co, 719 E 9th St, Los Angeles, ...\n",
       "                                ...                        \n",
       "274996    [Maven Realty, 2180 McMillan Ave #71672, North...\n",
       "274997    [Stone Castle Fence, 124 Cypress Gardens Rd, M...\n",
       "274998    [Health Insurance Solutions Team, 6650 Rivers ...\n",
       "274999    [Bernard Building Center, 27300 M-32, M-32, Hi...\n",
       "275000       [HMR Motor Works and Auto Care, Mio, MI 48647]\n",
       "Name: address, Length: 275001, dtype: object"
      ]
     },
     "execution_count": 74,
     "metadata": {},
     "output_type": "execute_result"
    }
   ],
   "source": [
    "aux_df"
   ]
  },
  {
   "cell_type": "code",
   "execution_count": 80,
   "metadata": {},
   "outputs": [],
   "source": [
    "aux_df = df[\"address\"].str.split(', ')"
   ]
  },
  {
   "cell_type": "code",
   "execution_count": 82,
   "metadata": {},
   "outputs": [
    {
     "name": "stderr",
     "output_type": "stream",
     "text": [
      "C:\\Users\\Mauricio Figueroa\\AppData\\Local\\Temp\\ipykernel_20444\\3182278735.py:18: FutureWarning: elementwise comparison failed; returning scalar instead, but in the future will perform elementwise comparison\n",
      "  condicion_2 = valores_aux.apply(lambda x: x in states[\"State\"].values or x in states[\"Abbreviation\"].values)\n"
     ]
    }
   ],
   "source": [
    "def aplicar_condicion(lista):\n",
    "    if isinstance(lista, list):\n",
    "        if len(lista) == 2 and lista[0] in states[\"State\"].values or lista[0] in states[\"Abbreviation\"].values:\n",
    "            return True\n",
    "        else:\n",
    "            return False\n",
    "    else:\n",
    "        return False\n",
    "\n",
    "# Primera condicion, que este dentro de los estados o sus abreviaturas\n",
    "valores_aux = aux_df.apply(lambda x: x[-1] if isinstance(x, list) else None)\n",
    "valores_aux = valores_aux.str.split()\n",
    "condicion = valores_aux.apply(aplicar_condicion)\n",
    "df.loc[condicion, \"state\"] = valores_aux[condicion].str.get(0)\n",
    "df.loc[condicion, \"zip code\"] = valores_aux[condicion].str.get(1)\n",
    "\n",
    "# Verificamos para aquellos state zip donde aparezca solo el state\n",
    "condicion_2 = valores_aux.apply(lambda x: x in states[\"State\"].values or x in states[\"Abbreviation\"].values)\n",
    "df.loc[condicion_2, \"state\"] = valores_aux[condicion_2].str.get(0)\n",
    "\n",
    "# Unificamos los registros donde procesamos las condiciones en uno, para cargar mas informacion\n",
    "condicion = condicion + condicion_2"
   ]
  },
  {
   "cell_type": "code",
   "execution_count": 116,
   "metadata": {},
   "outputs": [
    {
     "data": {
      "text/plain": [
       "0         [GA, 31014]\n",
       "1         [CA, 90023]\n",
       "2         [CA, 90005]\n",
       "3         [CA, 90021]\n",
       "4         [CA, 90021]\n",
       "             ...     \n",
       "274996    [SC, 29405]\n",
       "274997    [SC, 29461]\n",
       "274998    [SC, 29406]\n",
       "274999    [MI, 49746]\n",
       "275000    [MI, 48647]\n",
       "Name: address, Length: 275001, dtype: object"
      ]
     },
     "execution_count": 116,
     "metadata": {},
     "output_type": "execute_result"
    }
   ],
   "source": [
    "valores_aux"
   ]
  },
  {
   "cell_type": "code",
   "execution_count": 114,
   "metadata": {},
   "outputs": [],
   "source": [
    "condicion_2 = valores_aux.isin(states[\"State\"].values) | valores_aux.isin(states[\"Abbreviation\"].values)"
   ]
  },
  {
   "cell_type": "code",
   "execution_count": 117,
   "metadata": {},
   "outputs": [
    {
     "data": {
      "text/plain": [
       "0"
      ]
     },
     "execution_count": 117,
     "metadata": {},
     "output_type": "execute_result"
    }
   ],
   "source": [
    "condicion_2.sum()"
   ]
  },
  {
   "cell_type": "code",
   "execution_count": 99,
   "metadata": {},
   "outputs": [
    {
     "data": {
      "text/plain": [
       "42                           [Knight Hawk, Lyons, KS 67554]\n",
       "44           [State Street/7th Street, El Centro, CA 92243]\n",
       "46             [Burnette Baptist Church, Detroit, MI 48227]\n",
       "78        [Vancouver (99th St Station), Vancouver, WA 98...\n",
       "160       [Bixler Lake Disc Golf Course - East, Kendallv...\n",
       "                                ...                        \n",
       "274911                        [Happy Nail, Cairo, GA 39828]\n",
       "274920                  [Zion Hill Church, Cairo, GA 39828]\n",
       "274942             [Market & Pine NW, Long Beach, CA 90805]\n",
       "274980           [Little Free Library, Iowa City, IA 52240]\n",
       "275000       [HMR Motor Works and Auto Care, Mio, MI 48647]\n",
       "Name: address, Length: 9815, dtype: object"
      ]
     },
     "execution_count": 99,
     "metadata": {},
     "output_type": "execute_result"
    }
   ],
   "source": [
    "aux_df[condicion_2]"
   ]
  },
  {
   "cell_type": "code",
   "execution_count": 96,
   "metadata": {},
   "outputs": [
    {
     "data": {
      "text/plain": [
       "0                  129 N Second St\n",
       "1                 3001 E Pico Blvd\n",
       "2                761 S Vermont Ave\n",
       "3                   2200 E 11th St\n",
       "4                     719 E 9th St\n",
       "                    ...           \n",
       "274993               2620 N 5th St\n",
       "274996    2180 McMillan Ave #71672\n",
       "274997      124 Cypress Gardens Rd\n",
       "274998             6650 Rivers Ave\n",
       "274999                        M-32\n",
       "Name: address, Length: 249242, dtype: object"
      ]
     },
     "execution_count": 96,
     "metadata": {},
     "output_type": "execute_result"
    }
   ],
   "source": [
    "aux_df.loc[condicion_2].apply(lambda x: x[-3])"
   ]
  },
  {
   "cell_type": "code",
   "execution_count": 133,
   "metadata": {},
   "outputs": [],
   "source": [
    "# Función para ejecutar los cambios vistos y unir los datasets de metadata-sitios\n",
    "\n",
    "def cargar_archivos_json_2(ruta_base):\n",
    "\n",
    "    # Variables para llevar el conteo de registros y nulos\n",
    "\n",
    "    conteo_registros = 0\n",
    "    conteo_duplicados = 0\n",
    "\n",
    "    # Lista para almacenar los df que corresponden a cada json\n",
    "    lista_dataframes = []\n",
    "\n",
    "    def aplicar_condicion(lista):       # Estas dos funciones son para aportar al procesamiento de la columna \"address\"\n",
    "        if isinstance(lista, list):\n",
    "            if len(lista) == 2 and lista[0] in states[\"State\"].values or lista[0] in states[\"Abbreviation\"].values:\n",
    "                return True\n",
    "            else:\n",
    "                return False\n",
    "        else:\n",
    "            return False\n",
    "        \n",
    "    def aplicar_condicion_2(lista):\n",
    "        if isinstance(lista, list):\n",
    "            if len(lista) == 1 and lista[0] in states[\"State\"].values or lista[0] in states[\"Abbreviation\"].values:\n",
    "                return True\n",
    "            else:\n",
    "                return False\n",
    "        else:\n",
    "            return False\n",
    "\n",
    "    # Recorre todas las carpetas dentro de la ruta_base\n",
    "    for json_file in os.listdir(ruta_base):\n",
    "\n",
    "        if json_file.endswith('.json'):\n",
    "            json_path = os.path.join(ruta_base, json_file)\n",
    "\n",
    "            # Lee el archivo JSON y carga los datos en un DataFrame\n",
    "            df = pd.read_json(json_path, lines = True)\n",
    "\n",
    "            # Borramos las columnas \"description\", \"price\" y \"state\"\n",
    "            df = df.drop(columns = [\"description\", \"price\", \"state\"])\n",
    "\n",
    "            # Hacemos el conteo de registros\n",
    "            conteo_registros += df.shape[0]\n",
    "            conteo_duplicados += df.astype(str).duplicated().sum()\n",
    "\n",
    "            # Borramos registros duplicados\n",
    "            df = df.astype(str).drop_duplicates()\n",
    "\n",
    "            # Hacemos la transformación de la columna \"address\"\n",
    "            # Vamos a crear nuevas columnas separando el contenido (la primer columna es el \"name\" del lugar, no lo necesitamos)\n",
    "\n",
    "            aux_df = df[\"address\"].str.split(', ')\n",
    "\n",
    "            # Primera condicion, que este dentro de los estados o sus abreviaturas\n",
    "            valores_aux = aux_df.apply(lambda x: x[-1] if isinstance(x, list) else None)\n",
    "            valores_aux = valores_aux.str.split()\n",
    "            condicion = valores_aux.apply(aplicar_condicion)\n",
    "            df.loc[condicion, \"state\"] = valores_aux[condicion].str.get(0)\n",
    "            df.loc[condicion, \"zip code\"] = valores_aux[condicion].str.get(1)\n",
    "            \n",
    "            # Verificamos para aquellos state zip donde aparezca solo el state\n",
    "            condicion_2 = valores_aux.apply(aplicar_condicion_2)\n",
    "            df.loc[condicion_2, \"state\"] = valores_aux[condicion_2].str.get(0)\n",
    "\n",
    "            df[\"state\"] = df[\"state\"].map(states.set_index(\"Abbreviation\")[\"State\"])\n",
    "\n",
    "            # Unificamos los indexers donde procesamos los estados anteriormente para cargar mas informacion\n",
    "            condicion = condicion + condicion_2\n",
    "\n",
    "            # Para listas de cuatro o cinco, que son la gran mayoria de casos\n",
    "            condicion_2 = condicion & aux_df[condicion].apply(lambda x: isinstance(x, list) and len(x) in [4, 5])\n",
    "            df.loc[condicion_2, \"address\"] = aux_df.loc[condicion_2].apply(lambda x: x[-3])\n",
    "            df.loc[condicion_2, \"city\"] = aux_df.loc[condicion_2].apply(lambda x: x[-2])\n",
    "\n",
    "            # Para listas de tres\n",
    "            condicion_2 = condicion & aux_df[condicion].apply(lambda x: isinstance(x, list) and len(x) == 3)\n",
    "            df.loc[condicion_2, \"address\"] = None\n",
    "            df.loc[condicion_2, \"city\"] = aux_df.loc[condicion_2].apply(lambda x: x[-2])\n",
    "\n",
    "            # Anexamos los dataframes\n",
    "            lista_dataframes.append(df)\n",
    "    \n",
    "    # Concatena los dataFrames en uno solo\n",
    "    metadata_sitios = pd.concat(lista_dataframes, ignore_index = True)\n",
    "\n",
    "    return metadata_sitios, conteo_registros, conteo_duplicados"
   ]
  },
  {
   "cell_type": "code",
   "execution_count": 134,
   "metadata": {},
   "outputs": [],
   "source": [
    "# Ruta base donde se encuentran las carpetas \"review-estados\"\n",
    "ruta_base = \"Datasets/Google Maps/metadata-sitios\"\n",
    "\n",
    "# Llama a la función y almacena el conteo de nulos\n",
    "metadata_sitios, conteo_registros, conteo_duplicados = cargar_archivos_json_2(ruta_base)"
   ]
  },
  {
   "cell_type": "code",
   "execution_count": 131,
   "metadata": {},
   "outputs": [
    {
     "data": {
      "text/plain": [
       "California              24071\n",
       "Texas                   21009\n",
       "Florida                 17012\n",
       "New York                13497\n",
       "Pennsylvania             9714\n",
       "Illinois                 8855\n",
       "Ohio                     8035\n",
       "North Carolina           7916\n",
       "Georgia                  7663\n",
       "Michigan                 7349\n",
       "New Jersey               6395\n",
       "Washington               5752\n",
       "Virginia                 5561\n",
       "Tennessee                5175\n",
       "Colorado                 4818\n",
       "Missouri                 4748\n",
       "Massachusetts            4713\n",
       "Indiana                  4684\n",
       "Arizona                  4668\n",
       "Wisconsin                4304\n",
       "Minnesota                4078\n",
       "Alabama                  3924\n",
       "South Carolina           3854\n",
       "Maryland                 3844\n",
       "Oregon                   3499\n",
       "Louisiana                3172\n",
       "Oklahoma                 3107\n",
       "Kentucky                 3044\n",
       "Iowa                     2586\n",
       "Connecticut              2489\n",
       "Utah                     2453\n",
       "Arkansas                 2334\n",
       "Kansas                   2296\n",
       "Nevada                   2004\n",
       "Mississippi              1970\n",
       "New Mexico               1628\n",
       "Nebraska                 1520\n",
       "Idaho                    1484\n",
       "West Virginia            1348\n",
       "Maine                    1209\n",
       "New Hampshire            1166\n",
       "Montana                  1132\n",
       "Hawaii                    912\n",
       "Rhode Island              757\n",
       "Delaware                  754\n",
       "North Dakota              751\n",
       "South Dakota              730\n",
       "Alaska                    665\n",
       "District of Columbia      571\n",
       "Vermont                   534\n",
       "Wyoming                   502\n",
       "Name: state, dtype: int64"
      ]
     },
     "execution_count": 131,
     "metadata": {},
     "output_type": "execute_result"
    }
   ],
   "source": [
    "metadata_sitios[\"state\"].value_counts()"
   ]
  },
  {
   "cell_type": "code",
   "execution_count": 135,
   "metadata": {},
   "outputs": [
    {
     "data": {
      "text/plain": [
       "(2998438, 15)"
      ]
     },
     "execution_count": 135,
     "metadata": {},
     "output_type": "execute_result"
    }
   ],
   "source": [
    "metadata_sitios.shape"
   ]
  },
  {
   "cell_type": "code",
   "execution_count": 136,
   "metadata": {},
   "outputs": [
    {
     "name": "stdout",
     "output_type": "stream",
     "text": [
      "Registros totales: 3025011\n",
      "Registros duplicados: 26573\n"
     ]
    }
   ],
   "source": [
    "# Registros totales y nulos:\n",
    "print(f\"Registros totales: {conteo_registros}\")\n",
    "print(f\"Registros duplicados: {conteo_duplicados}\")"
   ]
  },
  {
   "cell_type": "code",
   "execution_count": 137,
   "metadata": {},
   "outputs": [
    {
     "data": {
      "text/html": [
       "<div>\n",
       "<style scoped>\n",
       "    .dataframe tbody tr th:only-of-type {\n",
       "        vertical-align: middle;\n",
       "    }\n",
       "\n",
       "    .dataframe tbody tr th {\n",
       "        vertical-align: top;\n",
       "    }\n",
       "\n",
       "    .dataframe thead th {\n",
       "        text-align: right;\n",
       "    }\n",
       "</style>\n",
       "<table border=\"1\" class=\"dataframe\">\n",
       "  <thead>\n",
       "    <tr style=\"text-align: right;\">\n",
       "      <th></th>\n",
       "      <th>name</th>\n",
       "      <th>address</th>\n",
       "      <th>gmap_id</th>\n",
       "      <th>latitude</th>\n",
       "      <th>longitude</th>\n",
       "      <th>category</th>\n",
       "      <th>avg_rating</th>\n",
       "      <th>num_of_reviews</th>\n",
       "      <th>hours</th>\n",
       "      <th>MISC</th>\n",
       "      <th>relative_results</th>\n",
       "      <th>url</th>\n",
       "      <th>state</th>\n",
       "      <th>zip code</th>\n",
       "      <th>city</th>\n",
       "    </tr>\n",
       "  </thead>\n",
       "  <tbody>\n",
       "    <tr>\n",
       "      <th>0</th>\n",
       "      <td>Porter Pharmacy</td>\n",
       "      <td>129 N Second St</td>\n",
       "      <td>0x88f16e41928ff687:0x883dad4fd048e8f8</td>\n",
       "      <td>32.3883</td>\n",
       "      <td>-83.3571</td>\n",
       "      <td>['Pharmacy']</td>\n",
       "      <td>4.9</td>\n",
       "      <td>16</td>\n",
       "      <td>[['Friday', '8AM–6PM'], ['Saturday', '8AM–12PM...</td>\n",
       "      <td>{'Service options': ['In-store shopping', 'Sam...</td>\n",
       "      <td>['0x88f16e41929435cf:0x5b2532a2885e9ef6', '0x8...</td>\n",
       "      <td>https://www.google.com/maps/place//data=!4m2!3...</td>\n",
       "      <td>Georgia</td>\n",
       "      <td>31014</td>\n",
       "      <td>Cochran</td>\n",
       "    </tr>\n",
       "    <tr>\n",
       "      <th>1</th>\n",
       "      <td>City Textile</td>\n",
       "      <td>3001 E Pico Blvd</td>\n",
       "      <td>0x80c2c98c0e3c16fd:0x29ec8a728764fdf9</td>\n",
       "      <td>34.0188913</td>\n",
       "      <td>-118.2152898</td>\n",
       "      <td>['Textile exporter']</td>\n",
       "      <td>4.5</td>\n",
       "      <td>6</td>\n",
       "      <td>None</td>\n",
       "      <td>None</td>\n",
       "      <td>['0x80c2c624136ea88b:0xb0315367ed448771', '0x8...</td>\n",
       "      <td>https://www.google.com/maps/place//data=!4m2!3...</td>\n",
       "      <td>California</td>\n",
       "      <td>90023</td>\n",
       "      <td>Los Angeles</td>\n",
       "    </tr>\n",
       "  </tbody>\n",
       "</table>\n",
       "</div>"
      ],
      "text/plain": [
       "              name           address                                gmap_id  \\\n",
       "0  Porter Pharmacy   129 N Second St  0x88f16e41928ff687:0x883dad4fd048e8f8   \n",
       "1     City Textile  3001 E Pico Blvd  0x80c2c98c0e3c16fd:0x29ec8a728764fdf9   \n",
       "\n",
       "     latitude     longitude              category avg_rating num_of_reviews  \\\n",
       "0     32.3883      -83.3571          ['Pharmacy']        4.9             16   \n",
       "1  34.0188913  -118.2152898  ['Textile exporter']        4.5              6   \n",
       "\n",
       "                                               hours  \\\n",
       "0  [['Friday', '8AM–6PM'], ['Saturday', '8AM–12PM...   \n",
       "1                                               None   \n",
       "\n",
       "                                                MISC  \\\n",
       "0  {'Service options': ['In-store shopping', 'Sam...   \n",
       "1                                               None   \n",
       "\n",
       "                                    relative_results  \\\n",
       "0  ['0x88f16e41929435cf:0x5b2532a2885e9ef6', '0x8...   \n",
       "1  ['0x80c2c624136ea88b:0xb0315367ed448771', '0x8...   \n",
       "\n",
       "                                                 url       state zip code  \\\n",
       "0  https://www.google.com/maps/place//data=!4m2!3...     Georgia    31014   \n",
       "1  https://www.google.com/maps/place//data=!4m2!3...  California    90023   \n",
       "\n",
       "          city  \n",
       "0      Cochran  \n",
       "1  Los Angeles  "
      ]
     },
     "execution_count": 137,
     "metadata": {},
     "output_type": "execute_result"
    }
   ],
   "source": [
    "# Vemos que el dataset tiene la información relevante y detallada, con la división que necesitabamos.\n",
    "metadata_sitios.head(2)"
   ]
  },
  {
   "cell_type": "markdown",
   "metadata": {},
   "source": [
    "Gráfico de barras de barras del top 10 de sitios por estado"
   ]
  },
  {
   "cell_type": "code",
   "execution_count": 198,
   "metadata": {},
   "outputs": [
    {
     "data": {
      "image/png": "[encoded data removed]",
      "text/plain": [
       "<Figure size 1200x800 with 1 Axes>"
      ]
     },
     "metadata": {},
     "output_type": "display_data"
    }
   ],
   "source": [
    "# Cuantós sitios corresponden a cada estado?\n",
    "sitios_estado = metadata_sitios[\"state\"].value_counts().head(10)\n",
    "\n",
    "# Crear el gráfico de barras\n",
    "plt.figure(figsize = (12, 8))\n",
    "barplot = sns.barplot(x = sitios_estado.values, y = sitios_estado.index)\n",
    "\n",
    "# Configurar el título y los ejes\n",
    "plt.title('Sitios de Google Maps', fontsize = 16)\n",
    "plt.xlabel('Cantidad de sitios', fontsize = 14)\n",
    "plt.ylabel('Estados', fontsize = 14)\n",
    "\n",
    "# Mostrar el gráfico\n",
    "plt.show()"
   ]
  },
  {
   "cell_type": "markdown",
   "metadata": {},
   "source": [
    "Vamos a analizar las categorías de los lugares, haciendo énfasis en los sitios de comida"
   ]
  },
  {
   "cell_type": "code",
   "execution_count": 167,
   "metadata": {},
   "outputs": [
    {
     "name": "stdout",
     "output_type": "stream",
     "text": [
      "Número de etiquetas únicas: 4471\n",
      "Etiquetas únicas: {'Auto radiator repair service', 'Resident registration office', 'Truck farmer', 'Southern Italian restaurant', 'Wicker store', 'Festival hall', 'Photography service', 'Chocolate artisan', 'Breakfast restaurant', 'Outdoor bath', 'Federal reserve bank', 'Water companies', 'Recreational vehicle', 'Internet marketing service', 'Parking lot for motorcycles', 'Gas installation service', 'Room', 'Aikido school', 'Cabinet maker', 'Rare book store', 'Plant nursery', 'Custom label printer', 'Wholesaler', 'Organic', 'Chevrolet dealer', 'Toys', 'Bead store', 'Kosher restaurant', 'Display home centre', 'Income tax help association', 'Oxygen equipment supplier', 'Door warehouse', 'Kawasaki motorcycle dealer', 'Semi conductor supplier', 'GPS supplier', 'Cookie shop', 'Flamenco school', 'Discount supermarket', 'Housing authority', 'Parking Souterrain', 'Metal working shop', 'Reptile store', 'Shopping mall', 'Kitchens', 'Bagel shop', 'Hawaiian restaurant', 'Camping cabin', 'Import export company', 'Culture', 'Basque restaurant', 'Pediatric neurologist', 'Public beach', 'Federal Agency for Technical Relief', 'Snowmobile rental service', 'Animal rescue service', 'Horse rental service', 'Research and product development', 'Shipping and mailing', 'Drum store', 'Bonesetting house', 'Historical society', 'Turnery', 'Grill', 'Mechanical contractor', 'Modern French restaurant', 'Transcription service', 'Oriental medical clinic', 'Church', 'Alcohol retail monopoly', 'Studio apartment', 'Thermal energy company', 'Pediatric ophthalmologist', 'Wax museum', 'Plumbing supply store', 'Gas cylinders supplier', 'Government', 'Nuclear engineer', 'Handicraft museum', 'Retirement community', 'Skate sharpening service', 'Customs broker', 'Land mass', 'Windows', \"Women's shelter\", 'Haberdashery', 'Railroad company', 'Photocopiers supplier', 'Spa and health club', 'Sand plant', 'Hair removal service', 'Interior architect office', 'State Department Housing and Urban Development', 'Media consultant', 'Aromatherapy class', 'Fujian restaurant', 'Upholstery cleaning service', 'Chocolate factory', 'Architectural element', 'Jewelry engraver', 'Mahjong house', 'Veterinary care', 'Foot bath', 'Ready mix concrete supplier', 'Memorial park', 'Technical school', 'Soccer practice', 'Prefabricated house companies', 'Balloon ride tour agency', 'Tack shop', 'Bus charter', 'Birth control center', 'Warehouse store', 'State liquor store', 'Legally defined lodging', 'Castle', 'Hematologist', 'Equipment supplier', 'Trucking', 'Shipping and mailing service', 'Dog trainer', 'Massage school', 'Home goods store', 'Bungee jumping center', 'Corporate entertainment service', 'Pilgrimage place', 'Adult entertainment club', 'Physical therapist', 'Pond fish supplier', 'Argentinian restaurant', 'Interior fitting contractor', 'Takoyaki restaurant', 'Bubble tea store', 'Building materials market', 'Std clinic', 'Media company', 'Meeting room', 'Birth center', 'Flower designer', 'Assisted living facility', 'Music college', 'Audio visual consultant', 'Native American restaurant', 'Kite shop', 'Graffiti removal service', 'Wedding photographer', 'Dan Dan noodle restaurant', 'Glass industry', 'Orthopedic clinic', 'Butcher shop deli', 'Rodeo', 'Pick your own farm produce', 'Real estate agency', 'Cannery', 'Motorcycle rental agency', 'Saddlery', 'Virtual office rental', 'Auto upholsterer', 'Skateboard shop', 'Vineyard church', 'Builder', 'Guardia Di Finanza Police', 'Wellness program', 'Hose supplier', 'Self service restaurant', 'Marines facility', 'Car rental agency', 'Aerial photographer', 'Orthodox synagogue', 'Physical examination center', 'Disposable tableware supplier', 'Amusement ride supplier', 'Computer service', 'Mountaineering class', 'Laboratory equipment supplier', 'Dyeworks', 'Collectibles store', 'Grassy area', 'Concrete factory', 'Sportwear manufacturer', 'Rowing area', 'Tune up supplier', 'Press advisory', 'Used computer store', 'Spices wholesalers', 'Judicial scrivener', 'Asian fusion restaurant', 'Sanitary inspection', 'Cold noodle restaurant', 'Adult DVD store', 'Bead wholesaler', 'Petroleum products company', 'Tennis store', 'Well drilling contractor', 'Toll booth', 'Short term apartment rental agency', 'Timeshare agency', 'Flower delivery', 'Livestock auction house', 'Tank', 'Housing development', 'Print shop', 'Animal feed store', 'Line marking service', 'Baseball field', 'Municipal Department Civil Defense', 'Computer desk store', 'Apparel company', 'Ethnographic museum', 'Intellectual property registry', 'School for the deaf', 'Airport security checkpoint', 'City Department of Environment', 'Archery hall', 'Sailing event area', 'Tourist information center', 'Private investigator', 'Ice supplier', \"Children's museum\", 'Toy museum', 'Carpenter', 'Trophy shop', 'Lodging', 'Military airport', 'Blind school', 'Milk delivery service', 'Medical equipment manufacturer', 'Banking and finance', 'Paintings store', 'Disability services', 'Outlet store', 'Clothes and fabric manufacturer', 'Office supply', 'Social worker', 'Cemetery', 'Indian restaurant', 'Sushi takeaway', 'Mining engineer', 'Road safety town', 'RV dealer', 'Multimedia and electronic book publisher', 'Betting agency', 'Asphalt contractor', 'FMCG manufacturer', 'Fishing pond', 'Auto insurance agency', 'Sauna store', 'Golf course builder', 'Leagues club', 'Volcano', 'Pet groomer', 'Machinery parts manufacturer', 'Law book store', 'Country park', 'Angler fish restaurant', 'Beach volleyball club', 'Security system supplier', 'Vending machine', 'Cape Verdean restaurant', 'Oilfield', 'Air compressor supplier', 'Drum school', 'Fishing club', 'Logistics', 'Train ticket office', 'Furniture rental service', 'Capoeira school', 'Irrigation equipment supplier', 'Police department', 'Fruit and vegetable wholesaler', 'Municipal Department Communication', 'Vehicle examination office', 'Reiki therapist', 'Bouncy castle hire', 'Environmental consultant', 'Body piercing shop', 'Computer club', 'Chinese bakery', 'Ashram', 'Military school', 'Construction machine dealer', 'Abortion clinic', 'Superfund site', 'Exhibition planner', 'Dental', 'Glass & mirror shop', 'Dry fruit store', 'Childrens home', 'Italian grocery store', 'Hotel supply store', 'Make-up artist', 'Rice restaurant', 'Orthopedic surgeon', 'Architecture firm', 'International trade consultant', 'Fruit parlor', 'Wedding souvenir shop', 'Boat builders', 'Disabled sports center', 'Delegated driver service', 'Height works', 'Municipal administration office', 'Toolroom', 'Salsa classes', 'Mineral supplier', 'Financial audit', 'Justice of the peace', 'Formal wear store', 'Coppersmith', 'New Zealand restaurant', 'Eastern Orthodox Church', 'Higher education', 'Bookmaker', 'Cuban restaurant', 'Luggage store', 'Addiction treatment center', 'Stage lighting equipment supplier', 'Karaoke equipment rental service', 'DVD store', 'Ravine', 'Ship building', 'Labor relations attorney', 'Fire protection equipment supplier', 'Indian Muslim restaurant', 'Logistics service', 'Tea exporter', 'Tibetan restaurant', 'Lottery retailer', 'Medical group', 'Popcorn store', 'Veterans organization', 'Curling club', 'General store', 'Travellers lodge', 'Seed supplier', 'Fur service', 'Fishing area', 'Painting', 'Preschool', 'Gymnasium school', 'Dept of City Treasure', 'Stereo repair service', 'Japanese curry restaurant', 'Bridal shop', 'Mutton barbecue restaurant', 'Design institute', 'Emergency room', 'Industrial equipment supplier', 'Demolition contractor', 'Yamaha motorcycle dealer', 'School supply store', 'Gourmet grocery store', 'West African restaurant', 'Scale model club', 'Technology museum', 'Fencing school', 'Self check-in kiosk', 'Information services', 'Udon noodle restaurant', 'Modern art museum', 'Ski', 'Finance broker', 'Car detailing service', 'Van rental agency', 'Cattle farm', 'Parking lot for bicycles', 'Farm shop', 'Trucking company', 'Gas shop', 'Pottery', 'Steelwork manufacturer', 'Media', 'Biotechnology company', 'Curtain and upholstery cleaning service', 'Floating market', 'Manufacturer', 'Marine supply store', 'Modeling school', 'Barn', 'Airsoft supply store', 'Calvary Chapel church', 'Cottage', 'City employment department', 'Fence contractor', 'Childminder', 'Steel construction company', 'Investment company', 'Endodontist', 'Agricultural machinery manufacturer', 'Diabetes center', 'Car wash', 'Employment attorney', 'Cable company', 'Helium gas supplier', 'Geologist', 'Mortuary', 'Tex-Mex restaurant', 'Christmas store', 'Civil police', 'Seafood', 'Chinese medicine', 'Cat boarding service', 'Croatian restaurant', 'Transit platform group', 'Fabric store', 'Soccer store', 'Auto bodywork mechanic', 'Sicilian restaurant', 'Eye care', 'Visa consultant', 'Auto electrical service', 'Rocky', 'Diamond dealer', 'Play school', 'Football association', 'Hyundai dealer', 'Pho restaurant', 'Rock climbing gym', 'Motorcycle repair shop', 'Food seasoning manufacturer', 'Fast food restaurant', 'Building lots sales agency', 'Furniture', 'Paper industry', 'Board of education', 'Radio tower', 'Occupational medical physician', 'Boarding school', 'Coffee vending machine', 'Piano moving service', 'Small plates restaurant', 'Work clothes store', 'Equestrian facility', 'Scandinavian restaurant', 'Tire shop', 'Stone cutter', 'Bridge club', 'Bankruptcy attorney', 'Database management company', 'Baby store', 'Pedestrian zone', 'Military board', 'Tree service', 'Snowboard shop', 'Budget Japanese inn', 'Plastic', 'Loss adjuster', 'Charity', 'Mobile home dealer', 'Federal credit union', 'Tobacco supplier', 'Allergist', 'Transport interchange', 'Chamber of handicrafts', 'Gondola lift station', 'Scaffolder', 'Childrens club', 'Baby clothing store', 'Private hospital', 'Middle Eastern restaurant', 'Tapas restaurant', 'Labor union', 'Wheel alignment service', 'Family court', 'Paint store', 'Auto repair shop', 'Fuel supplier', 'Sundae restaurant', 'Economic consultant', 'Canoe & kayak rental service', 'Welding', 'Cannabis store', 'Love hotel', 'Otolaryngologist', 'Oldsmobile dealer', 'Refrigerated transport service', 'Environmental engineer', 'Indonesian restaurant', 'Portable toilet supplier', 'Appliances', 'Gasket manufacturer', 'Ladder supplier', 'Air conditioning repair service', 'County court', 'Tool repair shop', 'Helicopter charter', 'Hearing aid store', 'Grain elevator', 'Soondae restaurant', 'Sand & gravel supplier', 'Battery wholesaler', 'Soapland', 'Rest stop', 'Mailing service', 'Truck parts supplier', 'Swimming school', 'Basketball court contractor', 'Bag shop', 'Metal supplier', 'Municipal Department Housing and Urban Development', 'Private golf course', 'Embroidery service', 'Drama theater', 'Steel industry', 'Alfa Romeo dealer', 'Home help', 'Exporter', 'Wine club', 'Oyster supplier', 'Printing equipment and supplies', 'Currency exchange service', 'Mining consultant', 'E-commerce', 'Emergency training school', 'Marquee hire service', 'Museum', 'Evening school', 'Business development service', 'Zoo', 'Salvage dealer', 'Water purifier supplier', 'Building restoration service', 'Sushi restaurant', 'Club', 'Vocational school one', 'Offal barbecue restaurant', 'Elevator service', 'Piano', 'Kickboxing school', 'Laundromat', 'Lithuanian restaurant', 'Motorcycle training centre', 'Animal park', 'Telecommunications contractor', 'Army', 'Taxicab Stand', 'Kaiseki restaurant', 'Mercantile development', 'Korean church', 'Medical lawyer', 'Air traffic control tower', 'Home and construction', 'Meat packer', 'Egg supplier', 'Pet funeral service', 'E commerce agency', 'Non vegetarian restaurant', 'Thrift store', 'Rug store', 'Group accommodation', 'Mountain cable car', 'Health food store', 'Frozen food store', 'Adult education school', 'Registry office', 'Volleyball instructor', 'Carpet cleaning service', 'Embossing service', 'Missing persons organization', 'Public call office booth', 'European institution', 'RV repair shop', 'Filipino restaurant', 'Athletic track', 'Fireworks supplier', 'Lawyers association', 'Electronics repair shop', 'Jewelry buyer', 'Fruits wholesaler', 'Power station', 'Clock repair service', 'Gambling area', 'Repairs', 'Heritage preservation', 'Shrine', 'Stage', 'Bar PMU', 'Forklift dealer', 'Foreign languages program school', 'Fortress', 'Swimming instructor', 'Medical billing service', 'Anglican church', 'Ceramic manufacturer', 'Golf', 'Auto auction', 'Fire damage restoration service', 'Foursquare church', 'Industrial supermarket', 'Indian food', 'Water', 'Water works', 'Stainless steel plant', 'Marketing agency', 'Chemistry faculty', 'Printed music publisher', 'LPG conversion', 'American football field', 'Doll restoration service', 'Kyoto style Japanese restaurant', 'Meat processor', 'Basketball', 'Religious goods store', 'Video game rental service', 'Nicaraguan restaurant', 'Quarry', 'Commercial refrigeration', 'Church supply store', 'Sports association', 'Latin American restaurant', 'Plus size clothing store', 'Insulator supplier', 'Tamale shop', 'Hospitality high school', 'Water cooler supplier', 'Western apparel store', 'Flower wholesale', 'Used store fixture supplier', 'Jain temple', 'Department for Regional Development', 'Weigh station', 'Waterbed repair service', 'Tax attorney', 'Adventure sports center', 'Fertility clinic', 'Taco restaurant', 'Regional airport', 'Back office', 'Hispanic church', 'Highway patrol', 'Conscription office', 'Homeopath', 'Patent attorney', 'Seafood donburi restaurant', 'Subaru dealer', 'Material handling equipment supplier', 'Machine maintenance', 'Beds', 'Distance learning center', 'Organic shop', 'Ritual services', 'Cell tower', 'Vegetable wholesaler', 'Brewing supply store', 'Herbal medicine store', 'Chocolate cafe', 'Sea', 'Picnic ground', 'Building consultant', 'National forest', 'Art school', 'Notaries association', 'Cotton exporter', 'Orphanage', 'Places of interest', 'Meditation center', 'Town office', 'Mexican grocery store', 'Retail space rental agency', 'Cider mill', 'Video store', 'Fish farm', 'Stationery manufacturer', 'Air conditioning system supplier', 'Tool wholesaler', 'Employment center', 'Mid-Atlantic restaurant (US)', 'Horse trainer', 'Train station', 'Wind farm', 'Dry ice supplier', 'Masonic center', 'Theatrical costume supplier', 'Medical clinic', 'Dominican restaurant', 'Leather repair service', 'Snack bar', 'Office of Vital Records', 'Hostel', 'Stationery wholesaler', 'Transit depot', 'Feng shui consultant', 'Apartment rental agency', 'Gift shop', 'Resume service', 'RV storage facility', 'Chamber of Commerce', 'Hardware training institute', 'Pontiac dealer', 'School bus service', 'Nuclear power plant', 'United Methodist church', 'Plumber', 'Ram dealer', 'BMX club', 'Music', 'Athletic park', 'Food and beverage consultant', 'Service establishment', 'Tailor', 'Door manufacturer', 'Playroom', 'Shoe factory', 'Insulation materials store', 'Musical club', 'Fire protection service', 'Sticker manufacturer', 'Plastic fabrication company', 'Immunologist', 'Language school', 'Jaguar dealer', 'Curling hall', 'Part time daycare', 'Church of the Nazarene', 'Pie shop', 'BBQ area', 'Veterinarian', 'Dance store', 'Neurosurgeon', 'Group home', 'Hair extension technician', 'Colombian restaurant', 'Furniture manufacturer', 'Weir', 'Drawing lessons', 'Medical examiner', 'Local history museum', 'Adult entertainment', 'Aboriginal art gallery', 'Northern Italian restaurant', 'Sport tour agency', 'Glazier', 'Coal supplier', 'Japanese confectionery shop', 'Cured ham bar', 'Cat breeder', 'Debris removal service', 'Asphalt mixing plant', 'Camping store', 'Law school', 'Retaining wall supplier', 'Aikido club', 'Abbey', 'Fitness equipment wholesaler', 'Nepalese restaurant', 'Used store', 'Naval base', 'Construction and maintenance office', 'Vista', 'Orthoptist', 'Homekill service', 'Film production company', 'Toy library', 'Asian', 'Gym', 'Goan restaurant', 'Hunting store', 'Training consultant', 'Rugby', 'Martial arts club', 'Open university', 'Educational supply store', 'Electrician', 'Civil law attorney', 'Stained glass studio', 'Polygraph service', 'Samba school', 'Tea manufacturer', 'Scrap metal dealer', 'Goldsmith', 'Art cafe', 'Toy and game manufacturer', 'Travel lounge', 'Marine self defense force', 'Utility trailer dealer', 'Marina', 'Graphic designer', 'Structural engineer', 'Alcoholic beverage wholesaler', 'Auto restoration service', 'Gypsum product supplier', 'Aeroclub', 'Uruguayan restaurant', 'Professional association', 'Saab dealer', 'Call center', 'Curtain supplier and maker', 'Boat cover supplier', 'Scottish restaurant', 'Air force base', 'Shipyard', 'Observatory', 'Sports memorabilia store', 'Painting lessons', 'Vacuum cleaner repair shop', 'Roads ports and canals engineers association', 'Neurophysiologist', 'Labour department', 'Leather goods manufacturer', 'Eritrean restaurant', 'Foreman builders association', 'Lasik surgeon', 'Table', 'Veterans', 'Waldorf kindergarten', 'Conveyancer', 'Municipal Department of Sports', 'BMX track', 'Hotel management school', 'Swim club', 'Statue', 'Nissan dealer', 'Wellness center', 'Aviation', 'Homeless shelter', 'Barrister', 'Learning center', 'University library', 'Gas and automotive', 'State owned farm', 'National museum', 'Concrete metal framework supplier', 'Smart dealer', 'Tattoo removal service', 'Donations center', 'Office supply store', 'Aeromodel shop', 'Municipal Social Development', 'Couscous restaurant', 'Seaplane base', 'Class', 'Fur coat shop', 'Ballroom', 'PVC windows supplier', 'Chinese supermarket', 'Valencian restaurant', 'Musician', 'Sofa store', 'Dental radiology', 'Book publisher', 'Scientific equipment supplier', 'Smart shop', 'Hip hop dance class', 'Otolaryngology clinic', 'Research and development', 'Diesel engine dealer', 'Entertainer', 'Wholesale jeweler', 'Wine', 'City courthouse', 'Public services', 'Pharmaceutical lab', 'Kerosene supplier', 'Momo restaurant', 'Lawn mower store', 'Artificial plant supplier', 'Coin operated laundry equipment supplier', 'Skylight contractor', 'Pool cleaning service', 'Gravel pit', 'Dance school', 'Paint manufacturer', 'Periodontist', 'Canoe and kayak club', 'Fast food pizza', 'Car battery store', 'Heating', 'Neurologist', 'Mission', 'Microwave oven repair service', 'Medical Center', 'Landscape lighting designer', 'Pet cemetery', 'Cooperative bank', 'Road construction company', 'Swimming pool repair service', 'Insurance school', 'Kinesiologist', 'Personal trainer', 'Fencing salon', 'Car finance and loan company', 'Mens tailor', 'Fashion', 'DJ service', 'Electronics hire shop', 'Japanese language instructor', 'Suzuki dealer', 'Bookkeeping service', 'Ballroom dance instructor', 'Event management company', 'Lighting consultant', 'Chinaware store', 'Alliance church', 'Commercial real estate agency', 'Magic store', 'Buses', 'Anhui restaurant', 'Glass', 'Post office', 'Hamburger restaurant', 'Açaí shop', 'Law library', 'Video equipment repair service', 'Ophthalmologist', 'Reflexologist', 'Roommate referral service', 'Ice hockey club', 'Real estate consultant', 'Medical certificate service', 'Pond supply store', 'Handicraft fair', 'Armenian church', 'Education center', 'Fiat dealer', 'Refrigerator store', 'Beauty supply store', 'Drilling contractor', 'Marriage or relationship counselor', 'Volkswagen dealer', 'Aluminum window', 'Diaper service', 'Seafood store', 'Sign shop', 'Piano instructor', 'Container service', 'Fire station', \"Homeowners' association\", 'Lighting wholesaler', 'Wind turbine builder', 'Food products supplier', 'Video camera repair service', 'Racing car parts store', 'Cars', 'Blues club', 'Airline', 'Technical university', 'Tonkatsu restaurant', 'Archipelago', 'Levee', 'Singaporean restaurant', 'Dentist', 'Car sharing location', 'Airplane', 'Athletic club', 'Consumer advice center', 'Trail head', 'Oil and gas exploration service', 'Sunroom contractor', 'Flamenco', 'Pediatric rheumatologist', 'Tempura restaurant', 'Construction material wholesaler', 'Amateur theater', 'Spices exporter', 'Plastic injection molding service', 'Stone carving', 'Granite supplier', 'Money order service', 'Golf club', 'Alcohol manufacturer', 'Tatami store', 'Lake', 'Perfume store', 'Door shop', 'Tobacco shop', 'Produce market', 'Dodge dealer', 'Drone shop', 'Pagoda', 'Indoor cycling', 'Auto broker', 'Engineering consultant', 'Persian restaurant', 'Saw sharpening service', 'Comedy club', 'Toiletries store', 'Carvery', 'Lumber store', 'Infiniti dealer', 'Mobile disco', 'Bus and coach company', 'Pony ride service', 'Construction company', 'Abrasives supplier', 'Food store', 'Hunan restaurant', 'Public sauna', 'Engraver', 'Gardening products and services', 'Military archive', 'Election commission', 'Linens store', 'Bicycle repair shop', 'Taxis', 'Car stereo store', 'RV supply store', 'Japanese grocery store', 'Swimming facility', 'Sports medicine clinic', 'Agricultural product wholesaler', 'Fabrication engineer', 'Kosher grocery store', 'Pantry', 'City department of transportation', 'Methodist church', 'Polynesian restaurant', 'Drainage service', 'Authentic Japanese restaurant', 'Security bureau', 'Computer networking center', 'Auto parts manufacturer', 'Magazine store', 'Recycling collection company', \"Farmers' market\", 'Sports nutrition store', 'Apartment complex', 'Home help service agency', 'Table tennis club', 'Open air museum', 'Child care agency', 'Endoscopist', 'Legal affairs bureau', 'Pediatric endocrinologist', 'Lagoon', 'Pizza delivery', 'Farm equipment supplier', 'Boat club', 'Frozen dessert supplier', 'Sports complex', 'Cottage village', 'Gun club', 'Tobacco exporter', 'Accounting software company', 'Cosmetics store', 'Surgeon', 'Aggregate supplier', 'Light rail station', 'Brewpub', 'Tennis instructor', 'Airport shuttle service', 'Metal services', 'Funeral home', 'Garbage dump service', 'Paternity testing service', 'Brasserie', 'Jeep dealer', 'Quaker church', 'Printing equipment supplier', 'Farming', 'Messianic synagogue', 'Public medical center', 'Senior citizen center', 'Books wholesaler', 'Farm bureau', 'Christian college', 'Copper supplier', 'New American restaurant', 'Water services', 'Knitwear manufacturer', 'Gymnastics club', 'Fiberglass supplier', 'Badminton complex', 'Raw food restaurant', 'Dancing', 'Novelties wholesaler', 'Art museum', 'Construction equipment supplier', 'General register office', 'Event ticket seller', 'Horse transport supplier', 'Shower door shop', 'Teppanyaki restaurant', 'Air conditioning store', 'Convention information bureau', 'Rock climbing instructor', 'Performing arts group', 'Lost property office', 'Ice cream equipment supplier', 'District office', 'Tortilla shop', 'Business association local', 'Insurance broker', 'Spice store', 'Debt collection agency', 'Body shaping class', 'Youth hostel', 'Measuring instruments supplier', 'Dental implants provider', 'Small appliance repair service', 'Investment service', 'Desktop publishing service', 'Holiday home', 'Yakitori restaurant', 'Doll store', 'Skin care products vending machine', 'Houseboat rental service', 'Tennis', 'Chemistry lab', 'Stadium', 'Beer garden', 'Used', 'Prosthetics', 'Middle school', 'Vacuum cleaner', 'Ticket holder area', 'City Hall', 'Steel distributor', 'Restaurant supply store', 'Travel services', 'Trade fair construction company', 'Typewriter supplier', 'District court', 'Interior construction contractor', 'Music instructor', 'Auto dent removal service', 'Sambo school', 'City administration', 'Food service', 'Video production service', 'Reef', 'Massage parlor', 'Stone supplier', 'DS Automobiles dealer', 'Carpet store', 'Aircraft dealer', 'Dance pavillion', 'Ammunition supplier', 'Outdoor clothing and equipment shop', 'Barbecue area', 'Typing service', 'Sri Lankan restaurant', 'Water navigation', 'Cosplay cafe', 'Chicken shop', 'Vaporizer store', 'Head start center', 'Match box manufacturer', 'Firewood supplier', 'Salvadoran restaurant', 'Olive oil bottling company', 'Electric utility manufacturer', 'Korean restaurant', 'Shabu-shabu restaurant', 'Appliance repair service', 'Public works department', 'Chinese takeaway', 'Flower market', 'Millwork shop', 'Professional and hobby associations', 'Stone', 'Food broker', 'First aid station', 'Bus station', 'Log cabins', 'Real estate photographer', 'Corporate office', 'Dry wall contractor', 'Shoe store', 'Seafood market', 'Vastu consultant', 'Homeless service', 'Historic city center', 'Indoor snowcenter', 'Athletic field', 'Fault', 'Sauna', 'Insulation contractor', 'Relaxation', 'Denture care center', 'Billiards supply store', 'Government school', 'Boiler repair', 'Oil field equipment supplier', 'Foundry', 'Boat accessories supplier', 'Shoe shining service', 'High ropes course', 'Truck dealer', 'Canoe & kayak tour agency', 'Skateboard park', 'Agricultural', 'Unemployment office', 'Tower communication service', 'Romanian restaurant', 'Suburban train line', 'Public female bathroom', 'Water mill', 'Down home cooking restaurant', 'Catholic cathedral', 'Steel fabricator', 'Talent agency', 'Clock watch maker', 'Butane gas supplier', 'Mine', 'Bike wash', 'Flight school', 'Amusement machine supplier', 'Sanitation service', 'Ceramics wholesaler', 'Industry', 'Training school', 'Propane supplier', 'Co-ed school', 'Kung fu school', 'Veterans hospital', \"Public defender's office\", 'Driveshaft shop', 'Heating oil supplier', 'Bark supplier', 'Child psychiatrist', 'Rolls Royce dealer', 'Oil wholesaler', 'Asian household goods store', 'Veterinary pharmacy', 'Geological service', 'Agrochemicals supplier', 'Guatemalan restaurant', 'Gazebo', 'Bentley dealer', 'Geotechnical engineer', 'Cane furniture store', 'Welder', 'Distribution service', 'Attorney', 'Hospital department', 'Soil testing service', 'Real estate developer', 'Commercial printer', 'Kitchen', 'Waste management service', 'Package locker', 'Escrow service', 'Bicycle rack', 'Course center', 'Land surveying office', 'Adult foster care service', 'Stringed instrument maker', 'Land allotment', 'Corporate gift supplier', 'Neon sign shop', 'Dance conservatory', 'Occupational safety and health', 'Bridge', 'Therapists', 'Weather forecast service', 'Swimming pool contractor', 'Motor scooter dealer', 'Night club', 'Cell phone charging station', 'Real estate auctioneer', 'Mobile money agent', 'Precision engineer', 'Lymph drainage therapist', 'Cleaning service', 'City or town hall', 'Mental health', 'Rapids', 'Wedding venue', 'Newspaper distribution', 'Madrilian restaurant', 'Barrel supplier', 'Trailer manufacturer', 'Tax preparation service', 'Nursing school', 'Real estate agents', 'Chinese restaurant', 'Military town', 'Limousine service', 'Coffee roasters', 'Stucco contractor', 'Cosmetics industry', 'Shelving store', 'Aluminum supplier', 'Agricultural service supply agency', 'Drinking water fountain', 'War museum', 'Car security system installer', 'Citizens advice bureau', 'Karma dealer', 'Animal hospital', 'Archaeological site', 'Ducati dealer', 'Care services', 'Costume store', 'Model car play area', 'Professional services', 'Hunting and fishing store', 'Meeting planning service', 'Rock climbing', 'Crater', 'Dairy', 'Car parts wholesaler', 'Mechanical engineer', 'Fireplace store', 'Automation company', 'Grow shop', 'Sunglasses store', 'Tanning salon', 'Diving center', 'Chemicals', 'Design', \"Sheriff's department\", 'Gas station', 'SCUBA instructor', 'South African restaurant', 'Vehicle shipping agent', 'Watch repair service', 'Company registry', 'Salsa bar', 'Fashion design school', 'Native american goods store', 'Mobile home park', 'Childrens theater', 'Appliance parts supplier', 'British restaurant', 'Swimwear store', 'Livestock breeder', 'Public mailbox', 'Recycling drop-off location', 'Swedish restaurant', 'Process server', 'Pozole restaurant', 'Antique furniture store', 'Electric motor repair shop', 'Estate appraiser', 'English language instructor', 'Organ donation and tissue bank', 'Shoe repair shop', 'Dumpling restaurant', 'Hookah store', 'Halfway house', 'Video duplication service', 'Juvenile detention center', 'Adoption agency', 'Home builder', 'Bedroom furniture store', 'Aboriginal and Torres Strait Islander organisation', 'Baggage claim', 'Harbor', 'Patio enclosure supplier', 'Internal medicine ward', 'Pawn shop', 'Naturopathic practitioner', 'Bar', 'Employment services', 'Pool academy', 'Childrens store', 'Radiator repair service', 'Industrial framework supplier', 'Engineering school', 'Industrial consultant', 'Cocktail bar', 'Private sector bank', 'Israeli restaurant', 'University', 'Gurudwara', 'Pre gymnasium school', 'CD store', 'Handicrafts wholesaler', 'Contemporary Louisiana restaurant', 'Lawn mower repair service', 'Municipal Department Social Defense', 'Firearms academy', 'Fishing pier', 'Religious book store', 'School lunch center', 'Credit union', 'Sports activity location', 'Traffic police station', 'American grocery store', 'Tattoo artist', 'Beach clothing store', 'Health insurance agency', 'Aerospace company', 'Crop grower', 'Rehabilitation center', 'Animal shelter', 'Guest house', 'Greek Orthodox church', 'Dog breeder', 'Belt shop', 'Domestic services', 'Video game store', 'Tea store', 'Computer wholesaler', 'Organic farm', 'Economic development agency', 'American restaurant', 'Coaching center', 'Pain control clinic', 'Karate club', 'Rheumatologist', 'Motorcycle insurance agency', 'Subway station', 'New Age church', 'Seminar room', 'Rugby field', 'Handyman', 'Wig shop', 'Agricultural service', 'Dental laboratory', 'Estate planning attorney', 'Religious school', 'Wedding dress rental service', 'Jujitsu school', 'Child psychologist', 'Clothing wholesale market place', 'Bonsai plant supplier', 'Car care', 'Shipping equipment industry', 'Nursery', 'Stylist', 'Ethnic restaurant', 'Tropical fish store', 'Private educational institution', 'Student housing center', 'Musical institutions', 'Land reform institute', 'Bus tour agency', 'Department of motor vehicles', 'Go-kart track', 'Sewing company', 'Financial consultant', 'Game store', 'Ford', 'Californian restaurant', 'Foot massage parlor', 'Stationery store', 'Clothing alteration service', 'Department of Transportation', 'Used motorcycle dealer', 'Mathematics school', 'Army & navy surplus shop', 'Food products', 'Korean grocery store', 'Water park', 'Architects association', 'Spa', 'Noodle shop', 'Professional organizer', 'Drilling equipment supplier', 'Hypnotherapy service', 'Mover', 'Health and beauty', 'Yucatan restaurant', 'German language school', 'Employment consultant', 'Band', 'Childrens library', 'Luggage storage facility', 'Motorcycle shop', 'Garbage collection service', 'Janitorial equipment supplier', 'Building firm', 'Dry wall supply store', 'Traffic officer', 'Used bicycle shop', 'Chamber of agriculture', 'Industrial technical engineers association', 'Fitness center', 'Corporate campus', 'Monument maker', 'Mobile phone', 'Community service', 'Cleaning products supplier', 'Sanctuary', 'Temp agency', 'Chicken wings restaurant', 'Shanghainese restaurant', 'State Department of Transportation', 'Bar restaurant furniture store', 'Fire protection system supplier', 'Insurance company', 'Police academy', 'Facial spa', 'Divorce service', 'Garden machinery supplier', 'Restaurant or cafe', 'Auto air conditioning service', 'Apartment building', 'Raclette restaurant', 'Criminal justice attorney', 'Excavating contractor', 'Floor sanding and polishing service', 'Puerto Rican restaurant', 'Computers', 'Choir', 'Winery', 'Medical diagnostic imaging center', 'Southeast Asian restaurant', 'State Department Agriculture Food Supply', 'Childrens book store', 'Bartending school', 'Pet moving service', 'Trailer supply store', 'Pediatric dentist', 'Recording studio', 'Leather goods store', 'Upholstery shop', 'Staple food package', 'Boutique', 'Bar & grill', 'Monogramming service', 'Diabetologist', 'Medical spa', 'Kia dealer', 'Furniture store', 'Wi-Fi spot', 'Off track betting shop', 'Private equity firm', 'Model shop', 'Beer hall', 'Meeting point', 'Real estate related services', 'Dietitian', 'Tunisian restaurant', 'Hot dog stand', 'Fruit and vegetable store', 'Food processing company', 'Car accessories store', 'Tennis court construction company', 'Aero dance class', 'Abundant Life church', 'Audiologist', 'Pediatric clinic', 'Auto part and accessory manufacturer', 'Town square', 'Do-it-yourself shop', 'Lawyer', 'South Asian restaurant', 'Capsule hotel', 'Civic center', 'Playground', 'Playground equipment supplier', 'Cash and carry wholesaler', 'Technical education academy', 'Girls hostel', 'Sleep clinic', 'Power plant equipment supplier', 'Comic book store', 'Pizza Takeout', 'Jamaican restaurant', 'Croquet club', 'Social security attorney', 'Puppet theater', 'Performing arts', 'Ground self defense force', 'Orthodox church', 'Orthodontist', 'Renovation contractor', 'Model design company', 'Shredding service', 'Speech pathologist', 'Door supplier', 'Bricklayer', 'Beautician', 'Fund management company', 'Youth organization', 'Escape room center', 'Ticketing area', 'Volunteer organization', 'Transportation escort service', 'Polo club', 'Agriculture cooperative', 'Community school', 'Instrumentation engineer', 'Psychiatrist', 'Couture store', 'Equestrian store', 'Hydraulic engineer', 'State Department of Tourism', 'Indian sweets shop', 'Karaoke bar', 'Pan-Asian restaurant', 'Australian goods store', 'Historical place museum', 'Christmas tree farm', 'Lawn bowls club', 'Cotton supplier', 'Padel court', 'Casino', 'Portrait studio', 'Scale repair service', 'Emergency services', 'Soy sauce maker', 'Community center', 'Wood floor refinishing service', 'Tennis club', 'Garden building supplier', 'Art supply store', 'Market researcher', 'Gambling instructor', 'Elevated', 'Retirement home', 'Audio visual equipment supplier', 'Vegetarian restaurant', 'Used auto parts store', 'Surgical products wholesaler', 'Gyro restaurant', 'Emergency management ministry', 'Wok restaurant', 'Seitai', 'Emergency dental service', 'Italian restaurant', 'Designer', 'Dance restaurant', 'Skin care clinic', 'Cotton mill', 'Jewelry repair service', 'Orchestra', 'Atrium', 'Textile engineer', 'Buffet restaurant', 'Water jet cutting service', 'Boat rental service', 'Trade centre', 'Stable', 'Counselor', 'Fertility physician', 'Roller skating club', 'Bulgarian restaurant', 'Serbian restaurant', 'Motoring club', 'Key duplication service', 'Video', 'Compressed natural gas station', 'Immigration detention centre', 'Junior college', 'Animal watering hole', 'River confluence', 'Oral and maxillofacial surgeon', 'Outdoor furniture store', 'Rock shop', 'Non-profit organization', 'Seafood wholesaler', 'Spring', 'Cable car station', 'Full dress rental service', 'Window tinting service', 'Car alarm supplier', 'Telemarketing service', 'Government college', 'Cupcake shop', 'Cigar shop', 'Hair salon', 'Kennel', 'Caribbean restaurant', 'Food bank', 'Utility contractor', 'Faculty of science', 'Ferris wheel', 'Air conditioning contractor', 'War memorial', 'Pottery manufacturer', 'DJ supply store', 'Housing', 'Japanized western restaurant', 'Futsal court', 'Confectionery', 'Cafe', 'Jewelry appraiser', 'Confectionery wholesaler', 'Mailbox rental service', 'Beach cleaning service', 'Kitchen furniture store', 'Icelandic restaurant', 'Small engine repair service', 'Skin care', 'Organic food store', 'Amish furniture store', 'Nail art', 'Envelope supplier', 'Western food', 'Townhouse complex', 'Administrative attorney', 'Christmas market', 'Cake shop', \"Engineers' merchant\", 'Electronics store', 'Cricket ground', 'Extended stay hotel', 'Fishing port', 'Tile manufacturer', 'Dump truck dealer', 'Motorcycle parts store', 'Food delivery', 'Industrial real estate agency', 'Mobile phone repair shop', 'Furniture wholesaler', 'Insurance', 'Little league club', 'Police', 'HIV testing center', 'Chemical engineer', 'Bakery', 'Radiologist', 'Car leasing service', 'Roller coaster', 'Fireworks store', 'Car dealer', 'Public prosecutors office', 'Fuel station', 'Fishing and hunting', 'Phone repair service', 'Translator', 'Theater production', 'Leather cleaning service', 'Association or organization', 'Education', 'Gay night club', 'Digital media', 'Czech restaurant', 'African restaurant', 'Baby swimming school', 'Agricultural organization', 'Electronics engineer', 'Hockey field', 'Tile contractor', 'Trade school', 'Car manufacturer', 'Shop supermarket furniture store', 'Pennsylvania Dutch restaurant', 'Flamenco dance store', 'Electric motor store', 'Atoll', 'Art dealer', 'Halal restaurant', 'Clothing store', 'Metal processing company', 'Roman restaurant', 'Leather coats store', 'Laundry room', 'Family counselor', 'Hospital equipment and supplies', 'Electronics exporter', 'Office supply wholesaler', 'Rugby league club', 'Reservoir', 'Pig farm', 'Housing complex', 'Tongue restaurant', 'Miniatures store', 'Drinking water', 'Reef rock submerged', 'Debt collecting', 'Architecture school', 'Synagogue', 'Outerwear store', 'German restaurant', 'Sewage disposal service', 'Primary school', 'Creche', 'Cardiovascular and thoracic surgeon', 'Photo shop', 'Shooting event area', 'Concrete contractor', 'Indian sizzler restaurant', 'Outdoor movie theater', 'Furnace parts supplier', 'Frozen food manufacturer', \"Children's hospital\", 'Skittle club', 'Chettinad restaurant', 'Gated community', 'Electrical engineer', \"Jehovah's Witness Kingdom Hall\", 'Newsstand', 'Pediatric gastroenterologist', 'Vegetation', 'Filtration plant', 'Training provider', 'Equipment rental agency', 'Teacher college', 'Plastic surgery clinic', 'Registered general nurse', 'News service', 'Interior door', 'Grill store', \"Bahá'í house of worship\", 'Snow removal service', 'Miniature golf course', 'Fire department equipment supplier', 'Tractor dealer', 'Glass blower', 'Serviced apartment', 'Flea market', 'Farm school', 'Boot store', 'Unfinished furniture store', 'Stock exchange building', 'Occupational therapist', 'Dive shop', 'Used tire shop', 'Polythene and plastic sheeting supplier', 'Public library', 'Honduran restaurant', 'Windsurfing store', 'Observation deck', 'Grassland', 'Foreign trade consultant', 'Steel framework contractor', 'Film and photograph library', 'English restaurant', 'Design services', 'International airport', 'Vocational college', 'Hindu priest', 'Sheet music store', 'Pet friendly accommodation', 'Massage supply store', 'Condominium rental agency', 'Jewelry store', 'Vehicle rental', 'Cooking class', 'Building materials store', 'Silversmith', 'Information desk', 'Internet cafe', 'Electronics', 'Trolleybus stop', 'Leather goods supplier', 'Gazebo builder', 'Shandong restaurant', 'Electric utility company', 'Folk high school', 'Learner driver training area', 'Tool store', 'Stadium seating area', 'Public male bathroom', 'Animal protection organization', 'Audio visual equipment rental service', 'Doors and windows', 'Discount store', 'Vocal instructor', 'Disability equipment supplier', 'Home theater store', 'Trucks', 'Game software', 'Carpet manufacturer', 'Food and beverage exporter', 'Fair trade organization', 'Battle site', 'Emergency veterinarian service', 'Guitar store', 'Markmens clubhouse', 'Secondary school three', 'Electrical supply store', 'Caterer', 'Modular home builder', 'Video game rental store', 'Fountain', 'Sperm bank', 'Thai massage therapist', 'BMW dealer', 'Wood working class', 'Football Field', 'Psychotherapist', 'Fishing charter', 'Barber supply store', 'Pharmacy', 'Pediatric cardiologist', 'Promenade', 'Interior Decorator', 'Project management company', 'Catalonian restaurant', 'Helicopter tour agency', 'Playgroup', 'Movie theater', 'Neonatal physician', 'Used clothing store', 'Hobby store', 'Scouting', 'Public sector bank', 'Registration office', 'Bathroom remodeler', 'Airbrushing service', 'Driver and vehicle licensing agency', 'Ballet theater', 'Acura dealer', 'Hot water system supplier', 'Bird control service', 'Pet store', 'Crane service', 'Metal detecting equipment supplier', 'Housing association', 'Meal delivery', 'Emergency training', 'Hockey supply store', 'South Indian restaurant', 'Brick manufacturer', 'Butcher shop', 'Fishing lake', 'Machine repair service', 'Crisis center', 'Passport agent', 'BPO company', 'Automotive', 'Padel club', 'Divorce lawyer', 'Lighting manufacturer', 'Wedding chapel', 'Archaeological museum', \"Men's clothing store\", 'Falafel restaurant', 'Research engineer', \"Renter's insurance agency\", 'Strait', 'Gold dealer', 'Hydroponics equipment supplier', 'Science academy', 'Loan agency', 'Books', 'Certification agency', 'Badminton club', 'Domestic abuse treatment center', 'Outdoor equestrian facility', 'Asian restaurant', 'Chemical plant', 'Livestock producer', 'Security system installer', 'Foreign consulate', 'School administrator', 'Bazar', 'Catholic school', 'Satellite communication service', 'Planetarium', 'Wilderness center', 'Data recovery service', 'Wellness hotel', 'Truck rental agency', 'Musical instrument repair shop', 'Statuary', 'Candle store', 'Air compressor repair service', 'Brunch restaurant', 'Welding supply store', 'Outboard motor store', 'Tool grinding service', 'Kazakhstani restaurant', 'Golf cart dealer', 'Hunting area', 'Tractor repair shop', 'Permanent make-up clinic', 'Trial attorney', 'Video arcade', 'Biking trail', 'Moped dealer', 'Eyebrow bar', 'Wood supplier', 'Nephrologist', 'Womens personal trainer', 'Self-catering accommodation', 'Judicial auction', 'Function room facility', 'Art', 'Publisher', 'Race car dealer', 'Iron works', 'Wedding buffet', 'Storage', 'Physician referral service', 'Port operating company', 'Wing chun school', 'Computer accessories store', 'Leisure centre', 'Patients support association', 'Funeral director', 'Lingerie store', 'Oil change service', 'Beverage distributor', 'Blood testing service', 'Hot dog restaurant', 'Nursing room', 'Diesel engine repair service', 'Skate shop', 'Mobile caterer', 'Sports equipment rental service', 'Model train store', 'Ukrainian restaurant', 'Department of Social Services', 'Cajun restaurant', 'Basket supplier', 'Cultural center', 'Massage spa', 'Sports coaching', 'Family restaurant', 'Entertainment and recreation', 'Passport office', 'Mailbox supplier', 'Dessert restaurant', 'Lighting store', 'Public parking space', 'Genealogist', 'Embroidery shop', 'Stitching class', 'Hobbies', 'Catering', 'Port', 'Paintball center', 'Freight forwarding service', 'Online share trading center', 'Alcoholism treatment program', 'French steakhouse restaurant', 'Ice skating club', 'Home hairdresser', 'Church of Christ', 'Motorcycle dealer', 'Photography class', 'Midwife', 'Traditional American restaurant', 'License bureau', 'Flavours fragrances and aroma supplier', 'Sports card store', 'Natural history museum', 'Childrens party buffet', 'Social services', 'Chartered surveyor', 'Canoe & kayak store', 'Cement', 'Russian Orthodox church', 'Window supplier', 'Acrylic store', 'Machining manufacturer', 'Forestry office', 'Bay', 'Egyptian restaurant', 'Social welfare center', 'Optical products manufacturer', 'College', 'Porridge restaurant', 'Recruiter', 'Channel', 'Courier & shipping services', 'Physiotherapy equipment supplier', 'Continental restaurant', 'Episcopal church', 'Coffin supplier', 'Second hand store', 'Pony club', 'Shopfitter', 'Chapel', 'New Years tree market', 'Remodeler', 'Emergency locksmith service', 'Metal industry suppliers', 'Industrial chemicals wholesaler', 'Eclectic restaurant', 'Used game store', 'Boat dealer', 'Armed forces association', 'Literacy program', 'Beauty school', 'Evening dress rental service', 'Federal police', 'State employment department', 'Rectory', 'Heating equipment supplier', 'Chinese language school', 'Fashion designer', 'Institute', 'Public swimming pool', 'Beekeeping', 'Piano store', 'City district office', 'Ceramics', 'Trust bank', 'Gutter cleaning service', 'Emergency care physician', 'First aid kit', 'Cosmetic products manufacturer', 'Concierge desk', 'Pakistani restaurant', 'Heating contractor', 'Incineration plant', 'Mediterranean restaurant', 'Western restaurant', 'Bowling alley', 'Urgent care center', 'Fire extinguisher', 'Toy store', 'Vacation home rental agency', 'Topsoil supplier', 'Oil refinery', 'Drug store', 'Leasing service', 'Softball club', 'Chinese medicine store', 'Party', 'Garbage dump', 'Elevator manufacturer', 'Night market', 'Auto spring shop', 'Junk store', 'Staffing agency', 'Cat trainer', 'Moving company', 'Mining equipment', 'Fixed-base operator', 'Japanese restaurant', 'Muffler shop', 'Fountain contractor', 'State Department Civil Defense', 'Hospitality and tourism school', 'Elder law attorney', 'Chinese noodle restaurant', 'Wine bar', 'Horsestable studfarm', 'Boxing gym', 'School', 'Pasta shop', 'Jeans shop', 'Hindu temple', 'Paper distributor', 'Horseshoe smith', 'Community college', 'Yarn store', 'Irish goods store', 'Business to business service', 'BPO placement agency', 'Maternity store', 'Telescope store', 'Auto painting', 'Wesleyan church', 'Poke bar', 'Bank or ATM', 'Scenic spot', 'North African restaurant', 'Wildlife rescue service', 'Modern Indian restaurant', 'Pipe manufacturer', 'Paving materials supplier', 'Country food restaurant', 'Farming and cattle raising', 'Tyre manufacturer', 'Souvenir manufacturer', 'Skating instructor', 'Dental implants periodontist', 'Lawn care service', 'Pastry shop', 'Burglar alarm store', 'Saw mill', 'Furniture accessories', 'Dialysis center', 'Customs office', 'Punjabi restaurant', 'Canal', 'Radiator shop', 'Dairy supplier', 'Orchid grower', 'Nuclear power company', 'Religious organization', 'Auto body parts supplier', 'Tour agency', 'Chimney services', 'Studying center', 'Bullring', 'Food court', 'Ford dealer', 'Desalination plant', 'Self-storage facility', 'Hot tub store', 'Transit station', 'Walkway', 'Wholesale florist', 'Screen printer', 'Executive suite rental agency', 'Pharmaceutical company', 'Geological research company', 'Mineral water company', 'Camera store', 'Greenhouse', 'Pathologist', 'United Church of Christ', 'Disciples of Christ Church', 'Hospital', 'Tai chi school', 'Herb shop', 'Art handcraft', 'Souvenir store', 'Sportswear store', 'Pen store', 'Architecture', 'Norwegian restaurant', 'Ramen restaurant', 'Landscaper', 'Cancer treatment center', 'Pentecostal church', 'Auto tune up service', 'ATV repair shop', 'Racquetball club', 'State Department Agricultural Development', 'Spa garden', 'Armenian restaurant', 'Judo school', 'Off roading area', 'Poster store', 'Building equipment hire service', 'Cantonese restaurant', 'Spa town', 'TB clinic', 'Coat wholesaler', 'Thread supplier', 'Canadian restaurant', 'Plastic bag supplier', 'Restaurant', 'Bankruptcy service', 'Cinema equipment supplier', 'Lock Store', 'Travel clinic', 'Tile store', 'Biotechnology engineer', 'Apartments', 'Office services', 'Glassware wholesaler', 'Locksmith', 'Building materials supplier', 'Chalet', 'Water polo pool', 'Endocrinologist', 'Juvenile court', 'Courier service', 'Peruvian restaurant', 'Countertop store', 'Plumbing', 'Electronic parts supplier', 'Oil & natural gas company', 'Conservatory construction contractor', 'Movie studio', 'Water filter supplier', 'Security systems', 'Medical specialist', 'Cigarette vending machine', 'Hub cap supplier', 'Car inspection station', 'Cave', 'State park', 'City Department of Public Safety', 'Grocery store', \"Magistrates' court\", 'Ski repair service', 'Elementary school', 'Camera repair shop', 'Camp', 'Jewelry equipment supplier', 'Well', 'Dental school', 'Metal construction company', 'Marble supplier', 'Volleyball court', 'Costa Rican restaurant', 'Sharpening service', 'Chinese food', 'Fried chicken takeaway', 'Business card design and printing service', 'Equipment importer', 'Screw supplier', 'Labour club', 'Boat storage facility', 'Rice cracker shop', 'Tattoo shop', 'Bus stop', 'Water softening equipment supplier', 'Cosmetics wholesaler', 'Career guidance service', 'Home inspector', 'Health food restaurant', 'Credit reporting agency', 'Eastern European restaurant', 'Faculty of sports', 'Recycling container location', 'Gastroenterologist', 'Mobile home supply store', 'Aeronautical engineer', 'Engine rebuilding service', 'Video equipment and services', 'Non smoking holiday home', 'Conservative synagogue', 'Archery store', 'Venezuelan restaurant', 'Nightlife', 'MRI center', 'Working womens hostel', 'Municipal Department of Tourism', 'Steamboat restaurant', 'Sports medicine physician', 'Driving test centre', 'Beverages', 'Wallpaper installer', 'Antenna service', 'Museum of space history', 'Warehouse', 'Senior high school', 'Paraguayan restaurant', 'Arborist and tree surgeon', 'Dive club', 'Transmission shop', 'Direct mail advertising', 'Ferry terminal', 'Botanical garden', 'Emergency call booth', 'Copy shop', 'Swimming pool supply store', 'Legal services', 'Household goods wholesaler', 'Gas engineer', 'Provence restaurant', 'Coffee shop', 'Property administrator', 'Call shop', 'Diamond buyer', 'Irish pub', 'Jewish restaurant', 'Heritage museum', 'Boot camp', 'English language school', 'Tag agency', 'Georgian restaurant', 'Hygiene articles wholesaler', 'Organic drug store', 'Carnival club', 'Electrical equipment supplier', 'Pottery store', 'Crane rental agency', 'School house', 'Chartered accountant', 'Muay Thai boxing gym', 'Executor', 'Sports club', 'History museum', 'Community garden', 'Japanese steakhouse', 'Fence supply store', 'Dental insurance agency', 'Mehndi designer', 'Homestay', 'Garage builder', 'Medical technology manufacturer', 'Lobby', 'Customs consultant', 'Oriental goods store', 'Coworking space', 'Magician', 'Real estate rental', 'Fireplace manufacturer', 'Trailer repair shop', 'Airline ticket agency', 'Vacuum cleaning system supplier', 'Public educational institution', 'Knit shop', 'Physical fitness program', 'Heart hospital', 'Military base', 'Solar energy equipment supplier', 'Seasonal goods store', 'Market operator', 'Drama school', 'Chinese language instructor', 'Indoor arena', \"Children's party service\", 'Wine store', 'Disc golf course', 'Soft drinks shop', 'Lamp', 'Condiments supplier', 'Acupuncture school', 'Tax assessor', 'Haute French restaurant', 'Foam rubber supplier', 'Construction', 'Used musical instrument store', 'Cosmetic surgeon', 'Modern izakaya restaurants', 'Voter registration office', 'Property maintenance', 'Real estate fair', 'Customs warehouse', 'Prawn fishing', 'Electronic engineer', 'Water skiing service', 'Roofing contractor', 'Ice skating instructor', 'Bookbinder', 'Windmill', 'Polish restaurant', 'FMCG goods wholesaler', 'Taekwondo school', 'Office furniture store', 'Gynecologist', 'Faculty of law', 'Coin operated locker', 'Smoking area', 'Aviation consultant', 'Hot bedstone spa', 'Yacht broker', 'Pediatrician', 'Scaffolding rental service', 'Independent school', 'Beach pavillion', 'Dutch restaurant', 'Huissier', 'Mineral water wholesale', 'Fire alarm supplier', 'Printer repair service', 'Sugar shack', 'General practice attorney', 'Topography company', 'Stamp collectors club', 'County government office', 'Martial arts', 'Design agency', 'Boat repair shop', 'City park', 'Tax consultant', 'Electronics accessories wholesaler', 'Towing equipment provider', 'Dating service', 'Plant and machinery hire', 'Environment renewable natural resources', 'Auditor', 'Holiday park', 'Mailing machine supplier', 'Income protection insurance', 'Fabric wholesaler', 'Rice wholesaler', 'Custom home builder', 'Security-checked area', 'Picture frame shop', 'Notary public', 'Taxidermist', 'Lodge', 'Polytechnic', 'Security service', 'Condominium complex', 'Painter', 'Commercial real estate inspector', 'Glacier', 'Place of worship', 'Russian restaurant', 'Higher secondary school', 'Ayurvedic clinic', 'Home cinema installation', 'Bangle Shop', 'Auction house', 'Priest', 'X-ray lab', 'Youth care', 'Lamination service', 'Novelty store', 'Paving contractor', 'Dog cafe', 'Squash club', 'Metal machinery supplier', 'Tea market place', 'Heliport', 'Off-road race track', 'Brazilian restaurant', 'Faculty of pharmacy', 'Toll road rest stop', 'Masonry contractor', 'Logging contractor', 'Office equipment supplier', 'Commercial photographer', 'Mennonite church', 'Entertainment', 'Cheese shop', 'Exhibit', 'State Department of Environment', 'Historical market square', 'Pulmonologist', 'Natural stone exporter', 'Parish', 'Record company', 'Television tower', 'Bilingual school', 'Air filter supplier', 'Costume jewelry shop', 'Flooring contractor', 'Holiday apartment', 'Art center', 'Greyhound stadium', 'Powder coating service', 'Honda dealer', 'Business center', 'Department of Public Safety', 'Irish restaurant', 'Reformed church', 'Garment exporter', 'Aged care', 'Ski rental service', 'Household chemicals supplier', 'Regional council', 'Metalware producer', 'Sake brewery', 'Furrier', 'Military recruiting office', 'Quilt shop', 'Student career counseling office', 'Conveyor belt sushi restaurant', 'McLaren dealer', 'Studio', 'Clothes and fabric wholesaler', 'Goldfish store', 'Aerated drinks supplier', 'Forestry service', 'Metallurgy company', 'Horse breeder', 'Battery store', 'Natural feature', 'Leather exporter', 'Espresso bar', 'Scrapbooking store', 'Marketing', 'Thermal baths', 'Mexican torta restaurant', 'Used appliance store', 'Used office furniture store', 'Stamp shop', 'Auditorium', 'Wine wholesaler and importer', 'Paper shredding machine supplier', 'Bar tabac', 'Music instruction', 'Estuary', 'Carpet installer', 'Computer store', 'Political organization', 'Video game rental kiosk', 'Rescue squad', \"Boys' high school\", 'Food manufacturing supply', 'Window treatment store', 'Gay bar', 'Optical wholesaler', 'Dairy store', 'Aluminum welder', 'Jeweler', 'Shipping service', 'Arts and crafts', 'Video editing service', 'Karate school', 'Heritage building', 'Aston Martin dealer', 'Bangladeshi restaurant', 'Gymnastics center', 'Unitarian Universalist Church', 'Acupuncturist', 'Janitorial service', 'Foot care', 'Camping farm', 'State office of education', 'Suzuki motorcycle dealer', 'Server room', 'Cell phone store', 'Full Gospel church', 'Lottery shop', 'Mold maker', 'Monastery', 'Surgical oncologist', 'Customs department', 'Traditional teahouse', 'Rugby club', 'Gas', 'Qing fang market place', 'Gambling house', 'Event venue', 'Youth social services organization', 'Shelter', 'Chesapeake restaurant', 'Cottage rental', 'Savings bank', 'Student dormitory', 'Business networking company', 'Machine shop', 'Conservatory supply & installation', 'Used book store', 'Computer repair service', 'Snowboard rental service', 'Marine engineer', 'Festival', 'SCUBA tour agency', 'Waterbed store', 'Velodrome', 'Fish & chips restaurant', 'Forensic consultant', 'Tool & die shop', 'Handicraft school', 'Dessert shop', 'Water testing service', 'Diesel fuel supplier', 'Health resort', 'Summer toboggan run', 'Medical supply store', 'Geography and history faculty', 'Astrologer', 'Laser hair removal service', 'Mobility equipment supplier', 'Antique furniture restoration service', 'Taiwanese restaurant', 'Indian grocery store', \"Women's organization\", 'Real estate rental agency', 'Meat dish restaurant', 'Solar energy company', 'Vocational school', 'Shipbuilding and repair company', 'Grammar school', 'Engineer', 'Store equipment supplier', 'Acupuncture clinic', 'Bar stool supplier', 'Ballet school', 'Business broker', 'Archery range', 'Travel', 'Architectural and engineering model maker', 'Tofu restaurant', 'Soup restaurant', 'Metropolitan train company', 'Water skiing club', 'Hair care', 'Hockey rink', 'Furnished apartment building', 'Sheltered housing', 'Izakaya restaurant', 'Typewriter repair service', 'Delivery Chinese restaurant', 'Glassware store', 'Parochial school', 'Dock builder', 'Woods', 'Turkish restaurant', 'Dental supply store', 'Government hospital', 'Waste container', 'Pension office', 'Bus ticket agency', 'Singles organization', 'Pediatric pulmonologist', 'E-commerce service', 'Public transportation system', 'Health', 'Chemical wholesaler', 'Rolled metal products supplier', 'Lutheran church', 'Newspaper advertising department', 'Battery manufacturer', 'Window installation service', 'Bus company', 'Burmese restaurant', 'Personal repair service', 'Laundry', 'Southwestern restaurant (US)', 'Stair contractor', 'Laminating equipment supplier', 'Dim sum restaurant', 'Tools', 'Summer camp', 'Water ski shop', 'Beauty academy', 'Garage door supplier', 'High court', 'Venture capital company', 'Martial arts school', 'Photo booth', 'Adult entertainment store', 'Blacksmith', 'Greek restaurant', 'Signwriter and manufacturer', \"Children's amusement center\", 'Massage therapist', 'Archery club', 'Paper hanger', 'Solid fuel company', 'Christian church', 'Washer & dryer repair service', 'Motocross', 'Physiatrist', 'Mill', 'Paper exporter', 'Fitted furniture supplier', 'Physical therapy clinic', 'Conservation department', 'Insolvency service', 'Metalware dealer', 'Industrial building', 'Computer security service', 'Free clinic', 'Watch manufacturer', 'Record store', 'Dance club', 'Cleaners', 'Prosthodontist', 'Border crossing station', 'Diabetes equipment supplier', 'Plasterer', 'Mountain cabin', 'Medical laboratory', 'Wrestling school', 'Plast window store', 'Palace', 'Business administration service', 'Gastropub', 'Distributary', 'Mercedes-Benz dealer', 'Conference center', 'Psychiatric hospital', 'Molding supplier', 'Dairy farm equipment supplier', 'Sauna club', 'Canopy', 'Beer distributor', 'Basketball court', 'Company', 'Sports', 'Human resource consulting', 'Army museum', 'Bowling club', 'Volleyball club', 'Cranes', 'Sculptor', 'Olive oil cooperative', 'Linoleum store', 'Earth works company', 'Aquaculture farm', 'Gift wrap store', 'University hospital', 'Wildlife and safari park', 'Tea house', 'Macrobiotic restaurant', 'Party planner', 'Green energy supplier', 'South American restaurant', 'Road cycling', 'Kitchen supply store', 'Truck topper supplier', 'Salvage yard', 'Building design company', 'Sailing school', \"Men's health physician\", 'Knitting instructor', 'Steelwork design company', 'Dog day care center', 'Silk store', 'Gluten-free restaurant', 'Health counselor', 'French restaurant', 'Health spa', 'Afghani restaurant', 'Garden', 'Plaza', 'Poultry store', 'Acoustical consultant', 'Self service health station', 'Truck accessories store', 'Horse boarding stable', 'Bakery equipment', 'Computer consultant', 'Lawn sprinkler system contractor', 'Modern European restaurant', 'Seasonal river', 'Pallet supplier', 'Transit stop', 'Slaughterhouse', 'Lawn equipment rental service', 'Alternative medicine practitioner', 'Stove builder', 'DVD and video services', 'Legal aid office', 'Horse riding school', 'Pregnancy care center', 'Rail museum', 'Campground', 'Boat ramp', 'Family practice physician', 'Ocean', 'Carriage ride service', 'Surf lifesaving club', 'Taoist temple', 'Beach volleyball court', 'Machinery', 'Sfiha restaurant', 'Yacht club', 'Fire proofing contractor', 'Cabaret club', 'Aluminum frames supplier', 'Safety equipment supplier', 'BMW motorcycle dealer', 'Bank', 'Store', 'Modeling agency', 'Tool manufacturer', 'Cement supplier', 'Oyster bar restaurant', 'Tower', 'Aqueduct', 'Austrian restaurant', 'Visa and passport office', 'Hawaiian goods store', 'Traditional restaurant', 'Wholesale bakery', 'Energy efficiency company', 'Sheepskin coat store', 'Wholesale food store', 'Roller skating rink', 'Microbiologist', 'Eatery', 'Montessori school', 'Refugee camp', 'Tourism', 'Designer clothing store', 'Chemical exporter', 'Nursing agency', 'Haitian restaurant', 'Conservative club', 'Wildlife refuge', 'Buddhist temple', 'Fertilizer supplier', 'Lamp shade supplier', 'Natural stone wholesaler', 'Emergency care service', 'Pancake restaurant', 'Liquor wholesaler', 'Private university', 'Boating instructor', 'Computer training school', 'Propeller shop', 'Saturn dealer', 'Cutlery store', 'Electronics vending machine', 'Gemologist', \"Children's furniture store\", 'Dance hall', 'Dress and tuxedo rental service', 'Hunting preserve', 'Knife manufacturing', 'Slope', 'Wholesale drugstore', 'River', 'Mexican restaurant', 'Variety store', 'Carpet wholesaler', 'Foster care service', 'Pipe supplier', 'Frituur', 'Aquarium', 'Commercial agent', 'Volvo dealer', 'Junkyard', 'Fingerprinting service', 'Packaging supply store', 'Assemblies of God church', 'Mazda dealer', 'Horse riding field', 'Software company', 'Industrial area', 'Indoor swimming pool', 'Cured ham store', 'Cold storage facility', 'Greeting card shop', 'Municipal Department Finance', 'Lingerie wholesaler', 'Produce wholesaler', 'Wedding service', 'Porsche dealer', 'Creole restaurant', 'Tannery', 'Electrical appliance wholesaler', 'Anodizer', 'Institute of technology', 'Private mailbox', 'Human resources', 'Scout hall', 'Sporting goods store', 'Footwear wholesaler', 'Tool rental service', 'Biryani restaurant', 'Monument', 'Family law attorney', 'Generator shop', 'Eyelash salon', 'Live music bar', 'Office accessories wholesaler', 'Vascular surgeon', 'Stores and shopping', 'Movie rental', 'Exercise equipment store', 'District government office', 'Port authority', 'Bicycle Shop', 'Maserati dealer', 'Handicraft', 'Crime victim service', 'Doctor', 'Rock music club', 'Real estate school', 'Diagnostic center', 'Bed shop', 'Sweets and dessert buffet', 'Knife store', 'Tribal headquarters', 'Civil defense', 'Housing society', 'Residential area', 'Nudist club', 'Optometrist', 'Car factory', 'Golf shop', 'Chemical industry', 'Assembly room', 'Biofeedback therapist', 'Traditional Kostume store', 'Photo restoration service', 'Communications central', 'Pet supply store', 'Lamborghini dealer', 'Oriental rug store', 'Real estate appraiser', 'Pier', 'Cold cut store', 'Ice', 'Baptist church', 'Asian grocery store', 'Aircraft rental service', 'Frozen yogurt shop', 'Bicycle rental service', 'Hairdresser', 'Nanotechnology engineer', 'Yeshiva', 'Turf supplier', 'Orthopedic shoe store', 'Hair transplantation clinic', 'Tuning automobile', 'Seaport', 'Hardware store', 'Family day care service', 'Contact lenses supplier', \"Women's clothing store\", 'Tattoo and piercing shop', 'Orchard', 'Yoga retreat center', 'Reenactment site', 'Traditional market', 'Crab house', 'Preparatory school', 'Plastic resin manufacturer', 'Rice mill', 'Cake decorating equipment shop', 'Model portfolio studio', 'Custom t-shirt store', 'Hydroelectric power plant', 'Kiosk', 'Glass merchant', 'Hay supplier', 'Event planner', 'Mongolian barbecue restaurant', 'Coffee stand', 'Gold mining company', 'Used truck dealer', 'Protective clothing supplier', 'Spanish restaurant', 'Containers supplier', 'Aerobics instructor', 'Uzbeki restaurant', 'Raft trip outfitter', 'Cooking school', 'Metal workshop', 'Non-denominational church', 'Ranch', 'Fax service', 'Forklift rental service', 'Churreria', 'Agricultural high school', 'Home automation company', 'Gay & lesbian organization', 'Paintball store', 'Crêperie', 'Vietnamese restaurant', 'Makerspace', 'Court reporter', 'Embassy', 'Landscaping supply store', 'Teeth whitening service', 'Ski resort', 'Tree farm', 'Weddings', 'Futon store', 'Notable street', 'Opera company', 'Sweets', 'Pacific Rim restaurant', 'Marine surveyor', 'Beauty', 'Ethiopian restaurant', 'Attorney referral service', 'Gastrointestinal surgeon', 'Beer store', 'Container supplier', 'Social club', 'Surf school', 'Education and culture', 'Fairground', 'Moving supply store', 'Oriental medicine clinic', 'Museum of zoology', 'Board game club', 'Mortgage broker', 'Cultural landmark', 'Furniture maker', 'Bus depot', 'Livestock', '3D printing service', 'Weaving mill', 'Nature preserve', 'Estate liquidator', 'Pediatric urologist', 'Outdoor sports store', 'Parapharmacy', 'Bodega', 'Social security financial department', 'Glass shop', 'Auto glass shop', 'Interior designer', 'Pets', 'Vegan restaurant', 'Cricket club', 'Public amenity house', 'Hall', 'Rubber products supplier', 'Insurance agency', 'Barber school', 'Safe & vault shop', 'Chess and card club', 'Hoagie restaurant', 'Unagi restaurant', 'Central bank', 'Factory equipment supplier', 'Horse carriage station', 'Ministry of Education', 'Snowmobile dealer', 'Photography studio', 'Municipal corporation', 'Concert hall', 'Social security office', 'Manufactured home transporter', 'Travel agency', 'Brazilian pastelaria', 'Citizen information bureau', 'Establishment', 'Airbrushing supply store', 'Flooring', 'Laser cutting service', 'Image consultant', 'Grocery delivery service', 'Coin cashing machine', 'Coffee', 'Telecommunication school', 'Electric vehicle charging station', 'Road construction machine repair service', 'Employment agency', 'Host club', 'Blinds shop', 'Aircraft supply store', 'Cosmetics and perfumes supplier', 'Sukiyaki and Shabu Shabu restaurant', 'Laundry service', 'Internet service provider', 'Construction machine rental service', 'Adult day care center', 'Drive-in movie theater', 'Hot spring', 'National reserve', 'Clothing manufacturer', 'Translation company', 'Parasailing ride service', 'Ecological park', 'School district office', 'Telephone company', 'Auto market', 'Soul food restaurant', 'Greco-Roman wrestling', 'Civil engineer', 'Industrial engineer', 'Psychoanalyst', 'Child center', 'Energy equipment and solutions', 'Advertising', 'Pachinko parlor', 'Personal injury attorney', 'Airstrip', 'Glass block supplier', 'Community health centre', 'Private tutor', 'Musician and composer', 'Public wheelchair-accessible bathroom', 'Fuel pump', 'Lincoln dealer', 'Steak house', 'Fish and seafood restaurant', 'Urban planning department', 'Day care center', 'Liquor store', 'Japanese inn', 'Box lunch supplier', 'Environmental program', 'House sitter', 'National park', 'Japanese sweets restaurant', \"Workers' club\", 'Stock broker', 'Senior citizens welfare institute', 'Customs boundary line', 'Cruise line company', 'Countertop contractor', 'Assembly hall', 'Favela', 'Psychopedagogy clinic', 'Natural goods store', 'Metal stamping service', 'Wellness', 'Woodworking supply store', 'Beverage supplier', 'Photography school', 'Pumps', 'Printer ink refill store', 'Maternity hospital', 'Fire fighters academy', 'Farm household tour', 'Art studio', 'Business management consultant', 'Marble contractor', 'Rafting', 'Payphone', 'Pizza', 'Wood and laminate flooring supplier', 'Independent or preparatory school', 'Basilica', 'Importer', 'Landscape architect', \"City clerk's office\", 'Rowing club', 'Cadillac dealer', 'Ear piercing service', 'Printing', 'Auto body shop', 'Paint stripping company', 'Golf instructor', 'Services', 'Hair', 'Photographer', 'Cattery', 'Free parking lot', 'Scooter rental service', 'Immigration attorney', 'Pet adoption service', 'Alternative medicine', 'Metal finisher', 'Art restoration service', 'Inclined railway station', 'Sewing shop', 'Motor scooter repair shop', 'Tea wholesaler', 'Service counter', 'Students parents association', 'Circus', 'Alternator supplier', 'Appliances customer service', 'Golf course', 'Meditation instructor', 'Joiner', 'Paper store', 'Isthmus', 'Pediatric surgeon', 'Bikram yoga studio', 'Musical instrument rental service', 'Immigration & naturalization service', 'Design engineer', 'District attorney', 'Closed circuit television', 'Pet sitter', 'ATV rental service', 'Judo club', 'Fruit and vegetable processing', 'Regional government office', 'Baseball', 'Medical book store', 'Law firm', 'Border guard', 'Vitamin & supplements store', 'Appliance rental service', 'Trading firm', 'Office administration service', 'Shrimp farm', 'Alternative medicine clinic', 'Ham shop', 'Serviced accommodation', 'Self defense school', 'Metal fabricator', 'Dental hygienist', 'Orchid farm', 'Christian City Church', 'Deaf school', 'Water treatment plant', 'Homeopathic pharmacy', 'Packaging machinery', 'Fishing', 'Gay sauna', 'Technology park', 'English language camp', 'North Eastern Indian restaurant', 'Air duct cleaning service', 'Agricultural association', 'Dogsled ride service', 'Textiles', 'Oncologist', 'Adventure sports', 'Bottled water supplier', 'Monorail station', 'Childrens cafe', 'Apostolic church', 'Catholic church', 'Tram stop', 'Army barracks', 'Industrial gas supplier', 'Luggage wholesaler', 'Detention center', 'Nursing home', 'Tax department', 'Racecourse', 'Industrial design company', 'School center', 'Kebab shop', 'Gravel plant', 'Hearing aid repair service', 'Double glazing installer', 'Pile driver', 'City pillar shrine', 'Party equipment rental service', 'Jewelry exporter', 'Mobile hairdresser', 'Worm farm supplier', 'Barbecue restaurant', 'Livery company', 'Feng shui shop', 'Justice department', 'Sandwich shop', 'Lido', 'School dentist', 'Ghost town', 'Office equipment rental service', 'Awning supplier', 'Public golf course', 'Wood floor installation service', 'Police station', 'Meat wholesaler', 'Wine cellar', 'Rental', 'Beauty product supplier', 'Nurse practitioner', 'Sports accessories wholesaler', 'Civil engineering company', 'Boat trailer dealer', 'Decal supplier', 'Polymer supplier', 'Malaysian restaurant', 'Insurance attorney', 'Holistic medicine practitioner', 'Photo agency', 'Protestant church', 'Copying supply store', 'Wood frame supplier', 'Mattress store', 'Transportation', 'Catering food and drink supplier', 'House clearance service', 'Mandarin restaurant', 'Textile merchant', 'Iron ware dealer', 'Flooring store', 'Bicycle club', 'Web hosting company', 'Police supply store', 'Soup kitchen', 'Sculpture', 'Wheel store', 'Court executive officer', 'Audio visual equipment repair service', 'Public university', 'Coffee store', 'Convent', 'Electrical substation', 'Pinball machine supplier', 'Toy manufacturer', 'Japanese regional restaurant', 'Nudist park', 'Home health care service', 'Contractor', 'Mechanic', 'Cafeteria', 'Theater company', 'Vineyard', 'Music producer', 'Hunting club', 'Walk-in clinic', 'T-shirt store', 'Mining company', 'Charcuterie', 'Municipal hall', 'Conservatory of music', 'Accountant', 'Washer & dryer store', 'Waterfall', 'Buick dealer', 'Weightlifting area', 'Banner store', 'Army facility', 'Hong Kong style fast food restaurant', 'Biochemistry lab', 'Cycling park', 'Plateau', 'Paralegal services provider', 'Threads and yarns wholesaler', 'Bike sharing station', 'Hypermarket', 'Wholesale grocer', 'Culinary school', 'Handball court', 'Town', 'Lamp repair service', 'Country club', 'Aviation training institute', 'Fugu restaurant', 'Reproductive health clinic', 'Reform synagogue', 'Transportation authority office', 'Parking', 'Customs counter', 'Dental clinic', 'Federal courthouse', 'Chicken hatchery', 'Trailer rental service', 'Water pump supplier', 'Agent', 'Candy store', 'Charter school', 'Train depot', 'Railroad contractor', 'Genesis dealer', 'Sailmaker', 'Fiberglass repair service', 'Womens protection service', 'Ticket gate', 'Aromatherapy service', 'Day spa', 'Chrysler dealer', 'Sod supplier', 'Pet food and animal feeds', 'Hot pot restaurant', 'Honey farm', 'Historical landmark', 'Building inspector', 'Display stand manufacturer', 'Turkmen restaurant', 'Smog inspection station', 'Mfr', 'Hyperbaric medicine physician', 'Pet care service', 'Bugatti dealer', 'Badminton court', 'Newspaper publisher', 'Non-public area', 'Womens college', 'European restaurant', 'Hungarian restaurant', 'Auto sunroof shop', 'Fruit wholesaler', 'Custom tailor', 'State archive', 'Family planning center', 'Japanese delicatessen', 'Jewellery manufacturer', 'Glass manufacturer', 'Students support association', 'Farm equipment repair service', 'Korean rib restaurant', 'Wax supplier', 'Wedding store', 'Coalfield', 'Nuevo Latino restaurant', 'BMX park', 'Foreclosure service', 'Ophthalmology clinic', 'Probation office', 'Oaxacan restaurant', 'Pond', 'Fine dining restaurant', 'Room agency', 'Anime club', 'Decoration', 'Wholesaler household appliances', 'Kimono store', 'Doner kebab restaurant', 'Clothes market', 'Water sport', 'Driving school', 'Greengrocer', 'Beauty products vending machine', 'Hydraulic equipment supplier', 'Cement manufacturer', 'Soccer', 'Cathedral', 'Isuzu dealer', 'Plastic surgeon', 'Environmental health service', 'Pumping equipment and service', 'Mirror shop', 'Financial institution', 'Cruise terminal', 'Veterans center', 'Pond contractor', 'Herbalist', 'Auto wrecker', 'Whale watching tour agency', 'Military residence', 'Wallpaper store', 'Payroll service', 'Local medical services', 'Yakisoba Restaurant', 'Forest resort', 'Dude ranch', 'Software training institute', 'Oral surgeon', 'Energy', 'Toyota dealer', 'Sightseeing tour agency', 'Study at home school', 'Leather goods wholesaler', 'Massage', 'Cattle market', 'Table tennis facility', 'Vintage clothing store', 'State Department for Social Development', 'Retreat center', 'Bail bonds service', 'Curtain store', 'Fastener supplier', 'Convenience stores organization', 'Hair replacement service', 'Architectural designer', 'Courthouse', 'Village hall', 'Records storage facility', 'Rock', 'Home furnishings', 'Antique store', 'Juice shop', 'Residents association', 'Environmental protection organization', 'Drafting equipment supplier', 'Handbags shop', 'Berry restaurant', 'Area', 'College of agriculture', 'Horse trailer dealer', 'ATM', 'Towing service', 'Dried flower shop', 'Laboratory', 'Public bath', 'Radio broadcaster', 'Iron and steel store', 'Asbestos testing service', 'Mountain peak', 'Medical school', 'Sukiyaki restaurant', 'Telecommunications service provider', 'Pinatas supplier', 'Banquet hall', 'Organic restaurant', 'Internet shop', 'Lighthouse', 'Management school', 'Bistro', 'Disco club', 'Shinto shrine', 'Hockey', 'Nutritionist', 'Hakka restaurant', 'Inn', 'Plastic wholesaler', 'Bicycle store', 'Airport parking lot', 'Incense supplier', 'Ice cream and drink shop', 'Security guard service', 'Food production', 'Tax preparation', 'Small claims assistance service', 'Telecommunications equipment supplier', 'Public safety office', 'Military barracks', 'Rainwater tank supplier', 'Arboretum', 'Boxing club', 'Golf driving range', 'Eating disorder treatment center', 'Marine protected area', 'Graduate school', 'Watch store', 'Dog care', 'HVAC contractor', 'Recreation', 'Car rental', 'Anago restaurant', 'District Justice', 'Furniture accessories supplier', 'Kerala restaurant', 'Credit counseling service', 'Holiday apartment rental', 'Fishing camp', 'Orthotics & prosthetics service', 'Technical service', 'Ferrari dealer', 'Kilt shop and hire', 'Information bureau', 'Sexologist', 'Fusion restaurant', 'Chess instructor', 'RV park', 'Cremation service', 'Party store', 'Dairy farm', 'Takeout Restaurant', 'Vacuum cleaner store', 'Ice skating rink', 'GMC dealer', 'Sewing machine repair service', 'Handicapped transportation service', 'Low emission zone', 'Psychoneurological specialized clinic', 'Photography', 'Singing telegram service', 'Sewage treatment plant', 'Surplus store', 'Used CD store', 'Dried seafood store', 'Poultry farm', 'Solar photovoltaic power plant', 'Medicine exporter', 'Historical place', 'Barber shop', 'Electrical installation service', 'Tennis court', 'Portable building manufacturer', 'Hammam', 'Hat shop', 'Aquarium shop', 'Shared-use commercial kitchen', 'After school program', 'Archive', 'Blast cleaning service', 'Buddhist supplies store', 'Casket service', 'Traditional costume club', 'Farmstay', 'Air taxi', 'Used car dealer', 'Map store', 'Recycling', 'Numerologist', 'Pet trainer', 'Pilates studio', 'Sundanese restaurant', 'Crane dealer', 'Family service center', \"Tax collector's office\", 'Ruin', 'Nursing association', 'Lingerie manufacturer', 'Metal polishing service', 'Sheepskin and wool products supplier', 'Mobile network operator', 'Correctional services department', 'Children Policlinic', 'Chicken restaurant', 'Architect', 'Accounting firm', 'Piano repair service', 'Cured ham warehouse', 'Television repair service', 'Repair service', 'Villa', 'Low income housing program', 'Pain management physician', 'CNG fittment center', 'Boxing ring', 'Geriatrician', 'Business banking service', 'Dirt supplier', 'Batting cage center', 'Russian grocery store', 'Motorcycles', \"Tenant's union\", 'Biochemical supplier', 'Digital printer', 'Blood bank', 'Equestrian club', 'Rehabilitation', 'Auto parts market', 'Ferry service', 'Violin shop', 'Taekwondo competition area', 'Mental health service', 'Metal heat treating service', 'Sichuan restaurant', 'Cooperative', 'Wood stove shop', 'Train ticket agency', 'Accounting school', 'Freelance professionals', 'Pub', 'Weight loss service', 'Aircraft maintenance company', 'Taxi service', 'Children hall', 'Hang gliding center', 'Hiking area', 'Science museum', 'Steel drum supplier', 'Business school', 'Cultural association', 'User-operated machine', 'Duty free store', 'Advertising service', 'Sewing machine store', 'Media house', 'Municipal health department', 'Vehicle inspection', 'Natural stone supplier', 'ATV dealer', 'Dinner theater', 'Mapping service', 'Vending machine supplier', 'Swordsmanship', 'Cider bar', 'River port', 'Non-governmental organization', 'Office space rental agency', 'Volleyball', 'Storage facility', 'Railing contractor', 'General practitioner', 'Water works equipment supplier', 'Unity church', 'Mausoleum builder', 'Cabin rental agency', 'Dye store', 'Building', 'Soup shop', 'Department of housing', 'Wine storage facility', 'Surgical center', 'Moving and storage service', 'Live music venue', 'Ridge', 'Spring supplier', 'Dollar store', 'Diving contractor', 'Electronics device', 'Council', 'Pottery classes', 'Animation studio', 'Market', 'Television', 'Sandblasting service', 'Music store', 'Screen store', 'Welsh restaurant', 'Prison', 'Pacific Northwest restaurant (US)', \"Women's health clinic\", 'Concrete product supplier', 'Government office', 'Paan shop', 'Chilean restaurant', 'Congregation', 'Laser tag center', 'Iron steel contractor', 'Data entry service', 'Australian restaurant', 'Recreation center', 'Foreign exchange students organization', 'Water damage restoration service', 'Dressmaker', 'Tenant ownership', 'Bed & breakfast', 'Medical office', 'Artist', 'Alumni association', 'Syokudo and Teishoku restaurant', 'Holding company', 'Boot repair shop', 'Ice cream shop', 'General hospital', 'Veterans affairs department', 'Bicycle wholesale', 'Feed manufacturer', 'Coffee wholesaler', 'Railroad ties supplier', 'Tiki bar', 'Pressure washing service', 'Geyser', 'Check cashing service', 'Plating service', 'Faculty of arts', 'Takeout restaurant', 'Urologist', 'Osteopath', 'Train yard', 'Scooter repair shop', 'Kindergarten', 'Light bulb supplier', 'Medical transcription service', 'Indoor lodging', 'Korean beef restaurant', 'Horseback riding service', 'Escalator', 'Amusement park', 'Executive search firm', 'Clothing supplier', 'Outlet mall', 'Doula', 'Solid waste engineer', 'Mechanical plant', 'Appraiser', 'Japanese food', 'Tea and coffee merchant', 'Blood donation center', 'Movie rental kiosk', 'Little league field', 'Lighting contractor', 'Neapolitan restaurant', 'Roadside assistance', 'Tunnel', 'National health foundation', 'Food and drink', 'Church of Jesus Christ of Latter-day Saints', 'Transportation infrastructure', 'Pet care', 'Lunch restaurant', 'Glass engraver', 'Military hospital', 'Boiler manufacturer', 'Triumph motorcycle dealer', 'Labor court', 'Theater supply store', 'Fishing store', 'Laotian restaurant', 'Motorcycle club', 'Dog walker', 'Tuxedo shop', 'Car repair and maintenance', 'Electrical repair shop', 'Stereo rental store', 'Digital printing service', 'Indoor playground', 'Food machinery supplier', 'Delivery Restaurant', 'Arts organization', 'Crushed stone supplier', 'Dept of State Treasure', 'Land surveyor', 'Southern restaurant (US)', 'Office equipment repair service', 'Financial planner', 'Parking lot', 'Amphitheater', 'Training', 'Tire', 'Machine workshop', 'Copier repair service', 'Mortgage lender', 'Wool store', 'Ocean rock exposed', 'Siding contractor', 'Swimming pool', 'Religious institution', 'Karaoke', 'Dart bar', 'Mobile home rental agency', 'Livestock dealer', 'International school', 'Food processing equipment', 'County office', 'Aircraft manufacturer', 'Hot tub repair service', 'Disability services & support organisation', 'Landmark', 'Chess club', 'Needlework shop', 'Federal government office', 'Gas logs supplier', \"Driver's license office\", 'Hydraulic repair service', 'Department of finance', 'Water sports equipment rental service', 'Local government office', 'Audi dealer', 'Painting studio', 'Public relations firm', 'Lava field', 'Industrial door supplier', 'Homes', 'Chocolate shop', 'Figurine shop', 'Train repairing center', 'Musical instrument store', 'X-ray equipment supplier', 'Scout home', 'Electrical wholesaler', 'Wholesale plant nursery', 'Food producer', 'Youth group', 'Pretzel store', 'Eftpos equipment supplier', 'Fiber optic products supplier', 'Syrian restaurant', 'Airport', 'Wetland', 'Oxygen cocktail spot', 'Cooling plant', 'Mountain pass', 'Waterproofing company', 'Mosque', 'Leather wholesaler', 'Movie rental store', 'Psychologist', 'Motor vehicle dealer', 'Balloon store', 'French language school', 'Bottle & can redemption center', 'Table tennis supply store', 'Media and information sciences faculty', 'Telephone exchange', 'Lyceum', 'Building society', 'Presbyterian church', 'Social services organization', 'Infectious disease physician', 'Public health department', 'Defence company', 'Piano tuning service', 'Pediatric orthopedic surgeon', 'Glass cutting service', 'Fraternal organization', 'Seminary', 'Glass repair service', 'Yakiniku restaurant', 'Telephone answering service', 'Elevator', 'Health and beauty shop', 'Christian book store', 'Musical instrument manufacturer', 'Housing utility company', 'Manor house', 'Basketball club', 'Seat dealer', 'Hawker stall', 'Boat tour agency', 'Appliance store', 'Bingo hall', 'Power plant consultant', 'IMAX theater', 'Motel', 'East African restaurant', 'Detective', 'Religious destination', 'Guitar instructor', 'Harley-Davidson dealer', 'Coal exporter', 'Title company', 'Drivers license training school', 'Screen repair service', 'National library', 'Security checkpoint', 'Consignment shop', 'Clothing wholesaler', 'District council', 'Self service car wash', 'Foundation', 'Internist', 'Screen printing shop', 'Yemenite restaurant', 'Carport and pergola builder', 'Civil engineering construction company', 'Child health care centre', 'Warehouse club', 'Shooting range', 'Helpline', 'Lapidary', 'Costume rental service', 'Rubber stamp store', 'Website designer', 'Real estate', 'Dance company', 'Youth clothing store', 'Fair', 'Wood industry', 'Lawn irrigation equipment supplier', 'Shochu brewery', 'Anesthesiologist', 'Ski shop', 'Investment bank', 'Haute couture fashion house', 'Machine knife supplier', 'Hockey club', 'Research institute', 'Dermatologist', 'Water tank cleaning service', 'Ski school', 'Pine furniture shop', 'Farmers cooperative', 'Pan-Latin restaurant', 'Inlet', 'Thai massage', 'Book printer', 'Visitor center', 'Textile mill', 'Truck stop', 'Industrial engineers association', 'Television station', 'Agricultural production', 'Fondue restaurant', 'Modern British restaurant', 'Office refurbishment service', 'Liquidator', 'Truss manufacturer', 'Agriculture', 'Tesla showroom', 'United States Armed Forces Base', 'Fabric product manufacturer', 'Plywood supplier', 'Aerial sports center', 'Exhibition and trade centre', 'Railroad equipment supplier', 'Chinese medicine clinic', 'State government office', 'Psychic', 'Shed builder', 'Fur manufacturer', 'PVC industry', 'Dress store', 'Water utility company', 'Desert', 'Shipping company', 'Vinyl sign shop', 'Machine construction', 'Swimming', 'Fortune telling services', 'Marriage celebrant', 'Video conferencing service', 'Land planning authority', 'Agricultural engineer', 'Japanese cheap sweets shop', 'Septic system service', 'Drafting service', 'Solar hot water system supplier', 'Public parking lot', 'Swimming competition', 'Drug testing service', 'Surf shop', 'Ecuadorian restaurant', 'Tempura donburi restaurant', 'Equipment exporter', 'Patent office', 'Trailer', 'Building designer', 'Softball field', 'Petrochemical engineer', 'Fish spa', 'Bowling supply shop', 'Horse riding', 'Proctologist', 'Cardiologist', 'Spiritist center', 'Korean barbecue restaurant', 'Classified ads newspaper publisher', 'Locks supplier', 'Board of trade', 'Business related', 'Instruction', 'Plastic products supplier', 'Private college', 'Money transfer service', 'Junk dealer', 'License plate frames supplier', 'Cricket shop', 'Danish restaurant', 'Running store', 'Hookah bar', 'Paper bag supplier', 'Pizza takeaway', 'Plastic bags wholesaler', 'Entertainment agency', 'Office', 'Terrain', 'Department store', 'Public webcam', 'Public utility', 'Water treatment supplier', 'Mobile communications service', 'Chimney sweep', 'Auto tag agency', 'Ceiling supplier', 'Furnace store', 'Yoga studio', 'Auto chemistry shop', 'Department of education', 'Coast guard station', 'Swimming lake', 'Chinese tea house', 'Steamed bun shop', 'Coin dealer', 'Certified public accountant', 'Tutoring service', 'Gardener', 'Tire repair shop', 'Luggage repair service', 'City government office', 'Peninsula', 'Maritime museum', 'Boarding house', 'Electronics manufacturer', 'Pet boarding service', 'Beach', 'Ecologists association', 'Girl bar', 'Hospice', 'Container terminal', 'Carpool', 'Garden furniture shop', 'Quantity surveyor', 'Advertising agency', 'Internet', 'Iron and steel industry', 'Chophouse restaurant', 'Cell phone accessory store', 'Hot spring hotel', 'Water skiing instructor', 'Optician', 'Clock tower', 'Surveyor', 'Distillery', 'Portuguese restaurant', 'Oriental medicine store', 'Oil recycling and disposal', 'Piano maker', 'Parsi temple', 'Convention center', 'Sports massage therapist', 'Bathroom supply store', 'Drinking water dispenser', 'Sports school', 'Practitioner service location', 'Archery event', 'Cambodian restaurant', 'STD testing service', 'Motorcycle driving school', 'Rustic furniture store', 'Fire protection consultant', 'Municipal Department of Culture', 'Cosmetics', 'Garden center', 'Beach entertainment shop', 'Interior decoration', 'Psychosomatic medical practitioner', 'Mexican goods store', 'Resort hotel', 'Holiday accommodation service', 'Canoeing area', 'Automobile storage facility', 'Refrigerator repair service', 'Flour mill', 'Deaf service', 'Tax', 'Employment search service', 'Soccer field', 'Park', 'Accounting', 'Wheelchair store', 'Health consultant', 'Truck repair shop', 'Motorsports store', 'Furniture piece', 'Pediatric dermatologist', 'University lab room', 'Sculpture museum', 'Hepatologist', 'Olive oil manufacturer', 'Wheelchair repair service', 'Cruise agency', 'Environmental organization', 'Vegetable wholesale market', 'Vista point', 'Electronics company', 'Meat products', 'Ambulance service', 'House cleaning service', 'Cheesesteak restaurant', 'Video conferencing equipment supplier', 'Indian takeaway', 'Trading card store', 'House sitter agency', 'Library', 'Music publisher', 'Food and beverage distributors', 'Pumpkin patch', 'Chiropractor', 'Florist', 'Educational institution', 'Research foundation', 'Pharmaceutical products wholesaler', 'Packaging company', 'Car racing track', 'Office building', 'Belgian restaurant', 'Wedding bakery', 'Eye care center', 'Computer support and services', 'Pest control service', 'Mental health clinic', 'Lounge', 'Mammography service', 'Screen printing supply store', 'Telecommunications engineer', 'Animal control service', 'Auto window tinting service', 'Baseball goods store', 'Birth certificate service', 'Fish and chips takeaway', 'Memorial estate', 'Mediation service', 'Promotional products supplier', 'Marketing consultant', 'Squash court', 'Amusement park ride', 'Jazz club', 'Sailing club', 'Stall installation service', 'Perfume exporter', 'Moravian church', 'Diner', 'Cheese manufacturer', 'Photo lab', 'Erotic massage', 'Floor refinishing service', 'Tavern', 'Katsudon restaurant', 'Medical equipment supplier', 'Paper mill', 'Acrobatic diving pool', 'Youth center', 'VCR repair service', 'County governors office', 'Memorial', 'Podiatrist', 'Football club', 'Property investment', 'Pool hall', 'Attraction', 'Tuscan restaurant', 'Trailer dealer', 'Jewelry designer', 'Furniture repair shop', 'Camper shell supplier', 'Delivery service', 'Used furniture store', 'Interior plant service', 'Specialized hospital', 'Fishing and hunting stores', 'Commercial refrigerator supplier', 'Pool billard club', 'Salad shop', 'Pueblan restaurant', 'Animals', 'Recycling center', 'Window cleaning service', 'Aquatic centre', 'Gun shop', 'Kitchen remodeler', 'Circular distribution service', 'Athletics', 'Evangelical church', 'Hotel', 'Residential college', 'Parking garage', 'Rehearsal studio', 'Occupational health service', 'Dry cleaner', 'Log home builder', 'Transportation service', 'Freestyle wrestling', 'Fresh food market', 'Moroccan restaurant', \"Children's clothing store\", 'Flag store', 'Mitsubishi dealer', 'Wildlife park', 'Staircase', 'Salons', 'Convenience store', 'Balloon artist', 'Book store', 'Workshop', 'Waxing hair removal service', 'Gift basket store', 'Piano bar', 'Computer software store', 'Dam', 'Public transport', 'Real estate surveyor', 'Marine', 'Martial arts supply store', 'Auto accessories wholesaler', 'Mountaineering club', 'Dog park', 'Gospel church', 'New England restaurant', 'Scale supplier', 'Urology clinic', 'Swiss restaurant', 'Steel erector', 'Tourist attraction', 'Training courses', 'Educational testing service', 'Furnace repair service', 'Auto machine shop', 'Smart Car dealer', 'Obanzai restaurant', 'Electronics industry', 'Valet parking service', 'Assistante maternelle', 'Government economic program', 'Amusement center', 'Music management and promotion', 'Production', 'Metaphysical supply store', 'Asturian restaurant', 'Court of Appeal', 'Mountain range', 'Auto parts store', 'Woodworker', 'Silk plant shop', 'Winemaking supply store', 'Criminal court', 'Architectural salvage store', 'Outdoor activity organiser', 'Electric vehicle charging station contractor', 'Student union', 'Pizza restaurant', 'Chauffeur service', 'Philharmonic hall', 'Fashion accessories store', 'Seafood farm', 'Art gallery', 'Tapas bar', 'Soba noodle shop', 'Deck builder', 'Commercial cleaning service', 'Solar energy contractor', 'Soccer club', 'Textile exporter', 'Clergyman', 'Hygiene station', 'Water purification company', 'Agricultural cooperative', 'Baseball club', 'Calligraphy lesson', 'Sugar factory', 'Dart supply store', 'Smoking room', 'Donut shop', 'Hand surgeon', 'Gasfitter', 'Cosmetic dentist', 'Home insurance agency', 'University department', 'Burrito restaurant', 'Alternative fuel station', 'Flowers', 'Dynamometer supplier', 'Video karaoke', 'Lighting', 'Arena', 'Bait shop', 'City tax office', 'Lexus dealer', 'Bird shop', 'Music conservatory', 'Gymnasium Cz', 'Seafood restaurant', 'Island', 'Uniform store', 'Skeet shooting range', 'Waldorf school', 'Rice shop', 'Craft store', 'Outdoor swimming pool', 'Central American restaurant', 'Domestic airport', 'Hair extensions supplier', 'Electronics wholesaler', 'Landscape designer', 'Food manufacturer', 'Parkour spot', 'State Department Science Technology', 'Farm', 'Airport terminal', 'Recreational vehicle rental agency', 'Military cemetery', 'Theme park', 'High school', 'Public bathroom', 'Special education school', 'Toner cartridge supplier', 'Public housing', 'Haunted house', 'Skydiving center', 'Tofu shop', 'Friends church', 'Glassware manufacturer', 'Childrens farm', 'Watering hole', 'Indoor golf course', 'Floridian restaurant', 'Shawarma restaurant', 'Nut store', 'Seventh-day Adventist church', 'Modular home dealer', 'Performing arts theater', 'Bird watching area', 'Champon noodle restaurant', 'Bocce ball court', 'Cliff', 'Beauty salon', 'Property management company', 'Supermarket', 'Sports bar', 'Consultant', 'Felt boots store', 'Pneumatic tools supplier', 'Brewery', 'Civil examinations academy', 'Finishing materials supplier', 'General contractor', 'Deli', 'Industrial vacuum equipment supplier', 'Environment office', 'Computer hardware manufacturer', 'Real estate attorney', 'Wholesale market', 'Childbirth class', 'Swimming basin', 'Yoga instructor', 'Baking supply store', 'Perinatal center', 'Print services', 'Music box store', 'Specialized clinic', 'Clothing', 'Bearing supplier', 'Notions store', 'Marriage license bureau', 'Comic cafe', 'Coffee machine supplier', 'Invitation printing service', 'Glass etching service', 'Reclamation centre', 'Food', 'Security', 'Bicycles', 'Land Rover dealer', 'Obstetrician-gynecologist', 'Natural beauty spot', 'Chemical manufacturer', 'Life coach', 'Nursery school', 'Educational consultant', 'Surgical supply store', 'Political party office', 'Foam rubber producer', 'Venereologist', 'African goods store', 'Rice cake shop', 'Electrical', 'Underwear store', 'Country house', 'Pump supplier', 'State police', 'Tour operator', 'Wheelchair rental service', 'Passport photo processor', 'Trucking school', 'Energy supplier', 'Bedding store', 'Electrolysis hair removal service', 'Casual clothing store', 'Deaf church', 'Business park', 'Vegetarian cafe and deli', 'Gate', 'Youth club', 'Transplant surgeon', 'Roofing supply store', 'T-shirt company', 'Mail room', 'Military', 'Oil store', 'Home audio store', 'Body arts', 'Wedding planner', 'Nail salon', 'Railway services', 'Park & ride', 'Cabinet store', 'Housing cooperative', 'Stand bar', 'Physician assistant', 'Gas company', 'Masonry supply store', 'Aromatherapy supply store', 'Lebanese restaurant', 'Minibus taxi service', 'Family planning counselor', 'Ski club', \"Girls' high school\", 'Supreme court', 'Satay restaurant', 'Blueprint service', 'Music school', 'Thai restaurant', 'Beauty products wholesaler', 'MINI dealer', 'Po’ boys restaurant', 'Apprenticeship center', 'Sheet metal contractor', 'Faculty of psychology', 'Telecommunications', 'Kushiyaki restaurant', 'Seasonal lake', 'Home improvement store', 'Craniosacral therapy', 'Patisserie', 'Gym With Swimming Pool', 'Life insurance agency', 'Vehicle exporter', 'Training centre', 'Outdoor activities', 'Mulch supplier', 'Fish processing', 'Ventilating equipment manufacturer', 'Fish store', 'Laser equipment supplier', 'Jiangsu restaurant', 'Dune', 'Welding gas supplier', 'Event technology service', 'Seal shop', 'Bariatric surgeon', 'Opera house', 'Boiler supplier', 'Brake shop', 'Tent rental service'}\n"
     ]
    }
   ],
   "source": [
    "# Crear un conjunto (set) con todas las etiquetas únicas\n",
    "categorias_unicas = set()\n",
    "\n",
    "# Iterar sobre la columna \"category\" y actualizar las categorías al conjunto\n",
    "categorias = metadata_sitios[\"category\"].dropna()\n",
    "for lista_etiquetas in categorias:\n",
    "    lista_etiquetas = ast.literal_eval(lista_etiquetas)\n",
    "    if isinstance(lista_etiquetas, list):\n",
    "        categorias_unicas.update(lista_etiquetas)\n",
    "\n",
    "# Imprimir el número de etiquetas únicas\n",
    "num_categorias = len(categorias_unicas)\n",
    "print(f'Número de categorías: {num_categorias}')\n",
    "\n",
    "# Imprimir las etiquetas únicas\n",
    "print('Categorías únicas:', categorias_unicas)"
   ]
  },
  {
   "cell_type": "code",
   "execution_count": 180,
   "metadata": {},
   "outputs": [],
   "source": [
    "# Palabras clave relacionadas con restaurantes\n",
    "palabras_clave_restaurante = ['restaurant', 'bar', 'cafe', 'diner', 'pub']\n",
    "# Filtrar las categorías relacionadas con restaurantes\n",
    "categorias_restaurantes = list()\n",
    "for palabra_clave in palabras_clave_restaurante:\n",
    "    for categoria in categorias_unicas:\n",
    "        categoria_aux = categoria.split()\n",
    "        for palabra in categoria_aux:\n",
    "            if palabra_clave == palabra.lower():\n",
    "                categorias_restaurantes.append(categoria)"
   ]
  },
  {
   "cell_type": "code",
   "execution_count": 182,
   "metadata": {},
   "outputs": [
    {
     "data": {
      "text/plain": [
       "338"
      ]
     },
     "execution_count": 182,
     "metadata": {},
     "output_type": "execute_result"
    }
   ],
   "source": [
    "# Tenemos la siguientes cantidad de categorías de lugares de comidas.\n",
    "len(categorias_restaurantes)"
   ]
  },
  {
   "cell_type": "code",
   "execution_count": 194,
   "metadata": {},
   "outputs": [],
   "source": [
    "# Función para verificar si la fila corresponde a un restaurante\n",
    "def es_restaurante(categorias):\n",
    "    categorias = ast.literal_eval(categorias)\n",
    "    if isinstance(categorias, list):\n",
    "        for categoria in categorias:\n",
    "            if categoria in categorias_restaurantes:\n",
    "                return True\n",
    "                break\n",
    "    return False\n",
    "\n",
    "# Filtrar las filas donde la categoría está relacionada con restaurantes\n",
    "metadata_sitios['es_restaurante'] = metadata_sitios['category'].apply(es_restaurante)"
   ]
  },
  {
   "cell_type": "code",
   "execution_count": 195,
   "metadata": {},
   "outputs": [
    {
     "data": {
      "text/plain": [
       "263868"
      ]
     },
     "execution_count": 195,
     "metadata": {},
     "output_type": "execute_result"
    }
   ],
   "source": [
    "# Cantidad de sitios de comidas sobre el total\n",
    "metadata_sitios[\"es_restaurante\"].sum()"
   ]
  },
  {
   "cell_type": "code",
   "execution_count": 202,
   "metadata": {},
   "outputs": [],
   "source": [
    "# Filtrar solo los lugares que son restaurantes\n",
    "restaurantes = metadata_sitios[metadata_sitios['es_restaurante']]"
   ]
  },
  {
   "cell_type": "code",
   "execution_count": 217,
   "metadata": {},
   "outputs": [],
   "source": [
    "# Le borramos la columna \"es_restaurante\"\n",
    "restaurantes = restaurantes.drop(columns = \"es_restaurante\")"
   ]
  },
  {
   "cell_type": "markdown",
   "metadata": {},
   "source": [
    "De los casi 3M de lugares que tenemos, poco menos del 10% son lugares de comida (263m). Vamos a ver la distribución según los estados"
   ]
  },
  {
   "cell_type": "code",
   "execution_count": 200,
   "metadata": {},
   "outputs": [
    {
     "data": {
      "image/png": "[encoded data removed]",
      "text/plain": [
       "<Figure size 1400x1200 with 1 Axes>"
      ]
     },
     "metadata": {},
     "output_type": "display_data"
    }
   ],
   "source": [
    "# Agrupar por estado y contar la cantidad de restaurantes en cada estado\n",
    "restaurantes_por_estado = restaurantes.groupby('state').sum()\n",
    "\n",
    "# Crear el gráfico de barras\n",
    "plt.figure(figsize = (14, 12))\n",
    "barplot = sns.barplot(x = restaurantes_por_estado.values, y = restaurantes_por_estado.index)\n",
    "\n",
    "# Configurar el título y los ejes\n",
    "plt.title('Cantidad de lugares de comida por Estados', fontsize = 16)\n",
    "plt.xlabel('Cantidad de Restaurantes', fontsize = 14)\n",
    "plt.ylabel('Estado', fontsize = 14)\n",
    "\n",
    "# Mostrar el gráfico\n",
    "plt.show()"
   ]
  },
  {
   "cell_type": "markdown",
   "metadata": {},
   "source": [
    "Cuál es el puntaje medio de los lugares de comida en cada estado? Analizamos algún insight"
   ]
  },
  {
   "cell_type": "code",
   "execution_count": 209,
   "metadata": {},
   "outputs": [
    {
     "name": "stderr",
     "output_type": "stream",
     "text": [
      "C:\\Users\\Mauricio Figueroa\\AppData\\Local\\Temp\\ipykernel_20444\\2525253262.py:1: SettingWithCopyWarning: \n",
      "A value is trying to be set on a copy of a slice from a DataFrame.\n",
      "Try using .loc[row_indexer,col_indexer] = value instead\n",
      "\n",
      "See the caveats in the documentation: https://pandas.pydata.org/pandas-docs/stable/user_guide/indexing.html#returning-a-view-versus-a-copy\n",
      "  restaurantes[\"avg_rating\"] = restaurantes[\"avg_rating\"].astype(float)\n"
     ]
    }
   ],
   "source": [
    "restaurantes[\"avg_rating\"] = restaurantes[\"avg_rating\"].astype(float)"
   ]
  },
  {
   "cell_type": "code",
   "execution_count": 215,
   "metadata": {},
   "outputs": [
    {
     "name": "stdout",
     "output_type": "stream",
     "text": [
      "\n",
      "Estados con las calificaciones más bajas:\n",
      "state\n",
      "Maryland                4.042590\n",
      "District of Columbia    4.071878\n",
      "Arizona                 4.089297\n",
      "Virginia                4.094850\n",
      "Georgia                 4.105117\n",
      "Name: avg_rating, dtype: float64\n",
      "\n",
      "Estados con las calificaciones más altas:\n",
      "state\n",
      "Maine           4.297241\n",
      "Idaho           4.298137\n",
      "Montana         4.304545\n",
      "South Dakota    4.318514\n",
      "Oregon          4.335744\n",
      "Name: avg_rating, dtype: float64\n"
     ]
    }
   ],
   "source": [
    "# Agrupar por estado y calcular el promedio de la columna \"avg_rating\"\n",
    "rating_estado = restaurantes.groupby('state')['avg_rating'].mean().sort_values()\n",
    "\n",
    "# 5 estados con las calificaciones más bajas\n",
    "estados_calificaciones_bajas = rating_estado.head(5)\n",
    "\n",
    "# 5 estados con las calificaciones más altas\n",
    "estados_calificaciones_altas = rating_estado.tail(5)\n",
    "\n",
    "# Mostrar los resultados\n",
    "print(\"\\nEstados con las calificaciones más bajas:\")\n",
    "print(estados_calificaciones_bajas)\n",
    "\n",
    "print(\"\\nEstados con las calificaciones más altas:\")\n",
    "print(estados_calificaciones_altas)"
   ]
  },
  {
   "cell_type": "code",
   "execution_count": 220,
   "metadata": {},
   "outputs": [],
   "source": [
    "# Exportamos los datos\n",
    "ruta_destino = \"Datasets/Google Maps/metadata-sitios-clean\"\n",
    "\n",
    "# Exporta metadata_sitios a un archivo CSV\n",
    "csv_path = os.path.join(ruta_destino, \"metadata-sitios.csv\")\n",
    "metadata_sitios.to_csv(csv_path, index = False)\n",
    "\n",
    "# Exporto restaurantes y las categorías\n",
    "csv_path = os.path.join(ruta_destino, \"restaurantes.csv\")\n",
    "restaurantes.to_csv(csv_path, index = False)\n",
    "\n",
    "df_categorias_restaurantes = pd.DataFrame(categorias_restaurantes, columns = ['categorias_restaurantes'])\n",
    "csv_path = os.path.join(ruta_destino, \"categorias-restaurantes.csv\")\n",
    "df_categorias_restaurantes.to_csv(csv_path, index = False)"
   ]
  }
 ],
 "metadata": {
  "kernelspec": {
   "display_name": "Python-env--sma9hmZ",
   "language": "python",
   "name": "python3"
  },
  "language_info": {
   "codemirror_mode": {
    "name": "ipython",
    "version": 3
   },
   "file_extension": ".py",
   "mimetype": "text/x-python",
   "name": "python",
   "nbconvert_exporter": "python",
   "pygments_lexer": "ipython3",
   "version": "3.11.1"
  }
 },
 "nbformat": 4,
 "nbformat_minor": 2
}
